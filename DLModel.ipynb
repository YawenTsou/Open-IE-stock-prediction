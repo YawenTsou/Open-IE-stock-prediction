{
 "cells": [
  {
   "cell_type": "code",
   "execution_count": 1,
   "metadata": {
    "scrolled": true
   },
   "outputs": [
    {
     "name": "stderr",
     "output_type": "stream",
     "text": [
      "Using TensorFlow backend.\n"
     ]
    }
   ],
   "source": [
    "import warnings\n",
    "warnings.filterwarnings(\"ignore\")\n",
    "\n",
    "import pandas as pd\n",
    "import numpy as np\n",
    "import pickle\n",
    "from striprtf.striprtf import rtf_to_text\n",
    "import string\n",
    "from os import listdir\n",
    "from datetime import datetime\n",
    "from tqdm import tqdm\n",
    "import cathay.re.SVO_final as SVO\n",
    "import re\n",
    "from cathay.config import ApplicationConfig\n",
    "import boto3\n",
    "from multiprocessing import Pool\n",
    "import torch.multiprocessing as mp\n",
    "import nltk\n",
    "from transformers import *\n",
    "import torch\n",
    "import torch.nn as nn\n",
    "from torch.utils.data import DataLoader, Dataset\n",
    "from torch import optim\n",
    "import torch.nn.functional as F\n",
    "from imblearn.under_sampling import RandomUnderSampler\n",
    "from imblearn.over_sampling import RandomOverSampler\n",
    "import matplotlib.pyplot as plt\n",
    "from collections import Counter\n",
    "from sklearn.metrics import recall_score\n",
    "from sklearn.metrics import precision_score"
   ]
  },
  {
   "cell_type": "code",
   "execution_count": 3,
   "metadata": {},
   "outputs": [
    {
     "data": {
      "text/plain": [
       "True"
      ]
     },
     "execution_count": 3,
     "metadata": {},
     "output_type": "execute_result"
    }
   ],
   "source": [
    "torch.cuda.is_available()"
   ]
  },
  {
   "cell_type": "markdown",
   "metadata": {},
   "source": [
    "### TWII Price\n",
    "#### 2006/10/20前、2013/11/20之後的資料拔掉"
   ]
  },
  {
   "cell_type": "markdown",
   "metadata": {},
   "source": [
    "#### N日內有漲/跌超過r%視為漲/跌"
   ]
  },
  {
   "cell_type": "code",
   "execution_count": 32,
   "metadata": {},
   "outputs": [],
   "source": [
    "price = pd.read_csv('^TWII.csv')\n",
    "price['Date'] = price['Date'].apply(lambda x:x.replace('-', ''))\n",
    "price = price.dropna()"
   ]
  },
  {
   "cell_type": "code",
   "execution_count": 33,
   "metadata": {},
   "outputs": [],
   "source": [
    "price['return1'] = price.shift(-1)['Adj Close'] / price['Adj Close']\n",
    "price['return2'] = price.shift(-2)['Adj Close'] / price['Adj Close']\n",
    "price['return3'] = price.shift(-3)['Adj Close'] / price['Adj Close']\n",
    "# price['return4'] = price.shift(-4)['Adj Close'] / price['Adj Close']\n",
    "# price['return5'] = price.shift(-5)['Adj Close'] / price['Adj Close']\n",
    "# price['return6'] = price.shift(-6)['Adj Close'] / price['Adj Close']\n",
    "# price['return7'] = price.shift(-7)['Adj Close'] / price['Adj Close']\n",
    "# price['return8'] = price.shift(-8)['Adj Close'] / price['Adj Close']\n",
    "# price['return9'] = price.shift(-9)['Adj Close'] / price['Adj Close']\n",
    "# price['return10'] = price.shift(-10)['Adj Close'] / price['Adj Close']\n",
    "\n",
    "price = price.dropna()\n",
    "price['return'] = price.apply(lambda x:max([x['return1'], x['return2'], x['return3']]), axis=1)\n",
    "# price['return'] = price.apply(lambda x:max([x['return1'], x['return2'], x['return3'], x['return4'], x['return5']]), axis=1)\n",
    "# price['return'] = price.apply(lambda x:max([x['return1'], x['return2'], x['return3'], x['return4'], x['return5'], x['return6'], x['return7'], x['return8'], x['return9'], x['return10']]), axis=1)\n",
    "price = price.reset_index(drop=True)"
   ]
  },
  {
   "cell_type": "code",
   "execution_count": 41,
   "metadata": {
    "scrolled": false
   },
   "outputs": [
    {
     "data": {
      "text/html": [
       "<div>\n",
       "<style scoped>\n",
       "    .dataframe tbody tr th:only-of-type {\n",
       "        vertical-align: middle;\n",
       "    }\n",
       "\n",
       "    .dataframe tbody tr th {\n",
       "        vertical-align: top;\n",
       "    }\n",
       "\n",
       "    .dataframe thead th {\n",
       "        text-align: right;\n",
       "    }\n",
       "</style>\n",
       "<table border=\"1\" class=\"dataframe\">\n",
       "  <thead>\n",
       "    <tr style=\"text-align: right;\">\n",
       "      <th></th>\n",
       "      <th>Open</th>\n",
       "      <th>High</th>\n",
       "      <th>Low</th>\n",
       "      <th>Close</th>\n",
       "      <th>Adj Close</th>\n",
       "      <th>Volume</th>\n",
       "      <th>return1</th>\n",
       "      <th>return2</th>\n",
       "      <th>return3</th>\n",
       "      <th>return</th>\n",
       "      <th>label</th>\n",
       "    </tr>\n",
       "  </thead>\n",
       "  <tbody>\n",
       "    <tr>\n",
       "      <th>count</th>\n",
       "      <td>1423.000000</td>\n",
       "      <td>1423.000000</td>\n",
       "      <td>1423.000000</td>\n",
       "      <td>1423.000000</td>\n",
       "      <td>1423.000000</td>\n",
       "      <td>1.423000e+03</td>\n",
       "      <td>1423.000000</td>\n",
       "      <td>1423.000000</td>\n",
       "      <td>1423.000000</td>\n",
       "      <td>1423.000000</td>\n",
       "      <td>1423.000000</td>\n",
       "    </tr>\n",
       "    <tr>\n",
       "      <th>mean</th>\n",
       "      <td>9704.390504</td>\n",
       "      <td>9742.047333</td>\n",
       "      <td>9661.098540</td>\n",
       "      <td>9702.309477</td>\n",
       "      <td>9702.295198</td>\n",
       "      <td>2.082229e+08</td>\n",
       "      <td>1.000265</td>\n",
       "      <td>1.000528</td>\n",
       "      <td>1.000784</td>\n",
       "      <td>1.005562</td>\n",
       "      <td>0.678145</td>\n",
       "    </tr>\n",
       "    <tr>\n",
       "      <th>std</th>\n",
       "      <td>933.613023</td>\n",
       "      <td>932.368228</td>\n",
       "      <td>936.323242</td>\n",
       "      <td>934.153842</td>\n",
       "      <td>934.165249</td>\n",
       "      <td>6.316822e+08</td>\n",
       "      <td>0.008096</td>\n",
       "      <td>0.011429</td>\n",
       "      <td>0.014056</td>\n",
       "      <td>0.010123</td>\n",
       "      <td>0.467352</td>\n",
       "    </tr>\n",
       "    <tr>\n",
       "      <th>min</th>\n",
       "      <td>7427.359863</td>\n",
       "      <td>7677.930176</td>\n",
       "      <td>7203.069824</td>\n",
       "      <td>7410.339844</td>\n",
       "      <td>7410.312012</td>\n",
       "      <td>7.990000e+05</td>\n",
       "      <td>0.936875</td>\n",
       "      <td>0.922854</td>\n",
       "      <td>0.923771</td>\n",
       "      <td>0.959776</td>\n",
       "      <td>0.000000</td>\n",
       "    </tr>\n",
       "    <tr>\n",
       "      <th>25%</th>\n",
       "      <td>8988.970215</td>\n",
       "      <td>9024.395019</td>\n",
       "      <td>8946.734863</td>\n",
       "      <td>8978.390137</td>\n",
       "      <td>8978.356933</td>\n",
       "      <td>1.816250e+06</td>\n",
       "      <td>0.996332</td>\n",
       "      <td>0.993939</td>\n",
       "      <td>0.992981</td>\n",
       "      <td>0.999467</td>\n",
       "      <td>0.000000</td>\n",
       "    </tr>\n",
       "    <tr>\n",
       "      <th>50%</th>\n",
       "      <td>9622.639648</td>\n",
       "      <td>9654.669922</td>\n",
       "      <td>9579.349609</td>\n",
       "      <td>9621.730469</td>\n",
       "      <td>9621.694336</td>\n",
       "      <td>2.135200e+06</td>\n",
       "      <td>1.000591</td>\n",
       "      <td>1.001448</td>\n",
       "      <td>1.001311</td>\n",
       "      <td>1.004952</td>\n",
       "      <td>1.000000</td>\n",
       "    </tr>\n",
       "    <tr>\n",
       "      <th>75%</th>\n",
       "      <td>10565.555176</td>\n",
       "      <td>10612.419922</td>\n",
       "      <td>10521.695312</td>\n",
       "      <td>10563.739746</td>\n",
       "      <td>10563.739746</td>\n",
       "      <td>2.548700e+06</td>\n",
       "      <td>1.004980</td>\n",
       "      <td>1.007783</td>\n",
       "      <td>1.009471</td>\n",
       "      <td>1.011188</td>\n",
       "      <td>1.000000</td>\n",
       "    </tr>\n",
       "    <tr>\n",
       "      <th>max</th>\n",
       "      <td>11645.730469</td>\n",
       "      <td>11668.200195</td>\n",
       "      <td>11604.679688</td>\n",
       "      <td>11656.400391</td>\n",
       "      <td>11656.400391</td>\n",
       "      <td>3.096593e+09</td>\n",
       "      <td>1.035801</td>\n",
       "      <td>1.044778</td>\n",
       "      <td>1.059533</td>\n",
       "      <td>1.059533</td>\n",
       "      <td>1.000000</td>\n",
       "    </tr>\n",
       "  </tbody>\n",
       "</table>\n",
       "</div>"
      ],
      "text/plain": [
       "               Open          High           Low         Close     Adj Close  \\\n",
       "count   1423.000000   1423.000000   1423.000000   1423.000000   1423.000000   \n",
       "mean    9704.390504   9742.047333   9661.098540   9702.309477   9702.295198   \n",
       "std      933.613023    932.368228    936.323242    934.153842    934.165249   \n",
       "min     7427.359863   7677.930176   7203.069824   7410.339844   7410.312012   \n",
       "25%     8988.970215   9024.395019   8946.734863   8978.390137   8978.356933   \n",
       "50%     9622.639648   9654.669922   9579.349609   9621.730469   9621.694336   \n",
       "75%    10565.555176  10612.419922  10521.695312  10563.739746  10563.739746   \n",
       "max    11645.730469  11668.200195  11604.679688  11656.400391  11656.400391   \n",
       "\n",
       "             Volume      return1      return2      return3       return  \\\n",
       "count  1.423000e+03  1423.000000  1423.000000  1423.000000  1423.000000   \n",
       "mean   2.082229e+08     1.000265     1.000528     1.000784     1.005562   \n",
       "std    6.316822e+08     0.008096     0.011429     0.014056     0.010123   \n",
       "min    7.990000e+05     0.936875     0.922854     0.923771     0.959776   \n",
       "25%    1.816250e+06     0.996332     0.993939     0.992981     0.999467   \n",
       "50%    2.135200e+06     1.000591     1.001448     1.001311     1.004952   \n",
       "75%    2.548700e+06     1.004980     1.007783     1.009471     1.011188   \n",
       "max    3.096593e+09     1.035801     1.044778     1.059533     1.059533   \n",
       "\n",
       "             label  \n",
       "count  1423.000000  \n",
       "mean      0.678145  \n",
       "std       0.467352  \n",
       "min       0.000000  \n",
       "25%       0.000000  \n",
       "50%       1.000000  \n",
       "75%       1.000000  \n",
       "max       1.000000  "
      ]
     },
     "execution_count": 41,
     "metadata": {},
     "output_type": "execute_result"
    }
   ],
   "source": [
    "price.describe()"
   ]
  },
  {
   "cell_type": "code",
   "execution_count": 5,
   "metadata": {},
   "outputs": [],
   "source": [
    "price['label'] = 0\n",
    "for i in price.index:\n",
    "    for j in ['return1', 'return2', 'return3']:\n",
    "        if price.loc[i, j] >= 1.007:\n",
    "            price.loc[i, 'label'] = 1\n",
    "            break\n",
    "        elif price.loc[i, j] <= 0.993:\n",
    "            price.loc[i, 'label'] = -1\n",
    "            break\n",
    "price = price[price['Date'] <= '20191130']\n",
    "price = price[price['Date'] >= '20140201']\n",
    "price = price.reset_index(drop=True)"
   ]
  },
  {
   "cell_type": "code",
   "execution_count": 6,
   "metadata": {},
   "outputs": [
    {
     "data": {
      "text/plain": [
       "Counter({1: 551, 0: 390, -1: 458})"
      ]
     },
     "execution_count": 6,
     "metadata": {},
     "output_type": "execute_result"
    }
   ],
   "source": [
    "a = Counter(price['label'])\n",
    "a"
   ]
  },
  {
   "cell_type": "code",
   "execution_count": 8,
   "metadata": {
    "scrolled": true
   },
   "outputs": [
    {
     "data": {
      "image/png": "[encoded data removed]",
      "text/plain": [
       "<Figure size 432x288 with 1 Axes>"
      ]
     },
     "metadata": {
      "needs_background": "light"
     },
     "output_type": "display_data"
    }
   ],
   "source": [
    "plt.bar([1, 0, -1], [a[1], a[0], a[-1]])\n",
    "plt.show()"
   ]
  },
  {
   "cell_type": "markdown",
   "metadata": {},
   "source": [
    "#### 第N日的Close有漲跌"
   ]
  },
  {
   "cell_type": "code",
   "execution_count": 2,
   "metadata": {},
   "outputs": [],
   "source": [
    "price = pd.read_csv('^TWII.csv')\n",
    "price['Date'] = price['Date'].apply(lambda x:x.replace('-', ''))\n",
    "price['return'] = price.shift(-3)['Adj Close'] / price['Adj Close']\n",
    "price = price.dropna()"
   ]
  },
  {
   "cell_type": "code",
   "execution_count": 34,
   "metadata": {},
   "outputs": [],
   "source": [
    "price['label'] = 0\n",
    "# 3日\n",
    "price.loc[price[price['return'] > 1.001].index, 'label'] = 1\n",
    "# 5日\n",
    "# price.loc[price[price['return'] > 1.005].index, 'label'] = 1\n",
    "# 10日\n",
    "# price.loc[price[price['return'] > 1.01].index, 'label'] = 1\n",
    "price = price[price['Date'] <= '20191130']\n",
    "price = price[price['Date'] >= '20140201']\n",
    "price = price.reset_index(drop=True)"
   ]
  },
  {
   "cell_type": "code",
   "execution_count": 10,
   "metadata": {
    "scrolled": true
   },
   "outputs": [
    {
     "data": {
      "text/plain": [
       "<BarContainer object of 1399 artists>"
      ]
     },
     "execution_count": 10,
     "metadata": {},
     "output_type": "execute_result"
    },
    {
     "data": {
      "image/png": "[encoded data removed]",
      "text/plain": [
       "<Figure size 432x288 with 1 Axes>"
      ]
     },
     "metadata": {
      "needs_background": "light"
     },
     "output_type": "display_data"
    }
   ],
   "source": [
    "plt.bar(range(len(price)), list(price['label']))"
   ]
  },
  {
   "cell_type": "code",
   "execution_count": 5,
   "metadata": {
    "scrolled": true
   },
   "outputs": [
    {
     "data": {
      "text/plain": [
       "<BarContainer object of 1399 artists>"
      ]
     },
     "execution_count": 5,
     "metadata": {},
     "output_type": "execute_result"
    },
    {
     "data": {
      "image/png": "[encoded data removed]",
      "text/plain": [
       "<Figure size 432x288 with 1 Axes>"
      ]
     },
     "metadata": {
      "needs_background": "light"
     },
     "output_type": "display_data"
    }
   ],
   "source": [
    "plt.bar(range(len(price)), list(price['label']))"
   ]
  },
  {
   "cell_type": "code",
   "execution_count": 5,
   "metadata": {},
   "outputs": [
    {
     "data": {
      "text/plain": [
       "Counter({1: 965, 0: 458})"
      ]
     },
     "execution_count": 5,
     "metadata": {},
     "output_type": "execute_result"
    }
   ],
   "source": [
    "from collections import Counter\n",
    "a = Counter(price['label'])\n",
    "a"
   ]
  },
  {
   "cell_type": "markdown",
   "metadata": {},
   "source": [
    "#### Data split (日期切分) "
   ]
  },
  {
   "cell_type": "code",
   "execution_count": 35,
   "metadata": {},
   "outputs": [],
   "source": [
    "with open('Event_embedding(1channel_1).pkl', 'rb') as f:\n",
    "    datas = pickle.load(f)\n",
    "    \n",
    "event = [(k, datas[k]) for k in sorted(datas.keys())]\n",
    "dates = [x[0] for x in event]\n",
    "event_embedding = [x[1] for x in event]"
   ]
  },
  {
   "cell_type": "code",
   "execution_count": 36,
   "metadata": {
    "scrolled": false
   },
   "outputs": [
    {
     "name": "stderr",
     "output_type": "stream",
     "text": [
      "100%|██████████| 1423/1423 [00:00<00:00, 3243.13it/s]\n"
     ]
    }
   ],
   "source": [
    "all_data = []\n",
    "for i in tqdm(range(len(price))):\n",
    "    data = {}\n",
    "    if price.loc[i, 'Date'] in dates:\n",
    "        data['date'] = dates.index(price.loc[i, 'Date'])\n",
    "    tmp = int(price.loc[i, 'Date'])\n",
    "    while str(tmp) not in dates:\n",
    "        tmp -= 1\n",
    "    data['date'] = dates.index(str(tmp))\n",
    "    data['label'] = price.loc[i, 'label']\n",
    "    all_data.append(data)"
   ]
  },
  {
   "cell_type": "code",
   "execution_count": 37,
   "metadata": {
    "scrolled": true
   },
   "outputs": [
    {
     "name": "stdout",
     "output_type": "stream",
     "text": [
      "Train:  1152\n",
      "Valid: 128\n",
      "Test:  142\n",
      "train:  20140205 20181017\n",
      "valid:  20181019 20190506\n",
      "test :  20190507 20191129\n",
      "0.6762152777777778\n",
      "0.734375\n",
      "0.6408450704225352\n"
     ]
    }
   ],
   "source": [
    "# all_data = all_data[:-120]\n",
    "test = all_data[-int(len(all_data)*0.1):]\n",
    "tmp = all_data[:int(len(all_data)*0.9)+1]\n",
    "valid = tmp[-int(len(tmp)*0.1):]\n",
    "train = tmp[:int(len(tmp)*0.9)]\n",
    "print('Train: ', len(train))\n",
    "print('Valid:' , len(valid))\n",
    "print('Test: ', len(test))\n",
    "\n",
    "print('train: ', dates[train[0]['date']], dates[train[-1]['date']])\n",
    "print('valid: ', dates[valid[0]['date']], dates[valid[-1]['date']])\n",
    "print('test : ', dates[test[0]['date']], dates[test[-1]['date']])\n",
    "\n",
    "print(len([x for x in train if x['label'] == 1])/len(train))\n",
    "print(len([x for x in valid if x['label'] == 1])/len(valid))\n",
    "print(len([x for x in test if x['label'] == 1])/len(test))"
   ]
  },
  {
   "cell_type": "code",
   "execution_count": 50,
   "metadata": {},
   "outputs": [],
   "source": [
    "rus = RandomUnderSampler(random_state=42, sampling_strategy=0.65)\n",
    "# rus = RandomOverSampler(random_state=42)\n",
    "X, Y = rus.fit_resample([[x['date']] for x in train] + [[x['date']] for x in valid], [x['label'] for x in train]+[x['label'] for x in valid])\n",
    "# X, Y = rus.fit_resample([[x['date']] for x in train], [x['label'] for x in train])\n",
    "train = [dict({'date':X[i][0], 'label':Y[i]}) for i in range(len(X))]"
   ]
  },
  {
   "cell_type": "code",
   "execution_count": 51,
   "metadata": {
    "scrolled": false
   },
   "outputs": [
    {
     "name": "stdout",
     "output_type": "stream",
     "text": [
      "Train:  1017\n",
      "Valid: 126\n",
      "Test:  139\n",
      "0.6057030481809242\n",
      "0.7380952380952381\n",
      "0.6546762589928058\n"
     ]
    }
   ],
   "source": [
    "print('Train: ', len(train))\n",
    "print('Valid:' , len(valid))\n",
    "print('Test: ', len(test))\n",
    "\n",
    "print(len([x for x in train if x['label'] == 1])/len(train))\n",
    "print(len([x for x in valid if x['label'] == 1])/len(valid))\n",
    "print(len([x for x in test if x['label'] == 1])/len(test))"
   ]
  },
  {
   "cell_type": "markdown",
   "metadata": {},
   "source": [
    "## Model"
   ]
  },
  {
   "cell_type": "code",
   "execution_count": 9,
   "metadata": {},
   "outputs": [],
   "source": [
    "class EventDataset(Dataset):\n",
    "    def __init__(self, data):\n",
    "        self.data = data\n",
    "    \n",
    "    def __len__(self):\n",
    "        return len(self.data)\n",
    "    \n",
    "    def __getitem__(self, index):\n",
    "        return dict(self.data[index])\n",
    "    \n",
    "    def collate_fn(self, datas):\n",
    "        batch = {}\n",
    "        \n",
    "        batch['token'] = torch.tensor([list(range(x['date'] - 29, x['date'] + 1)) for x in datas])\n",
    "#         batch['label'] = torch.tensor([self._label(x['label']) for x in datas])\n",
    "        batch['label'] = torch.tensor([x['label'] for x in datas])\n",
    "        \n",
    "        return batch\n",
    "    \n",
    "    def _label(self, label):\n",
    "        if label == -1:\n",
    "            return 0\n",
    "        elif label == 0:\n",
    "            return 1\n",
    "        else:\n",
    "            return 2\n"
   ]
  },
  {
   "cell_type": "code",
   "execution_count": 13,
   "metadata": {},
   "outputs": [],
   "source": [
    "train_set = EventDataset(train)\n",
    "train_loader = DataLoader(train_set, collate_fn=train_set.collate_fn, batch_size=32, shuffle=True)\n",
    "valid_set = EventDataset(valid)\n",
    "valid_loader = DataLoader(valid_set, collate_fn=valid_set.collate_fn, batch_size=len(valid), shuffle=False)"
   ]
  },
  {
   "cell_type": "code",
   "execution_count": 10,
   "metadata": {},
   "outputs": [],
   "source": [
    "class LSTMNet(nn.Module):\n",
    "    def __init__(self, pretrained_embedding):\n",
    "        super(LSTMNet, self).__init__()\n",
    "        \n",
    "        pretrained_embedding = torch.FloatTensor(pretrained_embedding)\n",
    "        self.embedding = nn.Embedding(\n",
    "            pretrained_embedding.size(0),\n",
    "            pretrained_embedding.size(1))\n",
    "        self.embedding.weight = torch.nn.Parameter(pretrained_embedding)\n",
    "        self.embedding.weight.requires_grad = False\n",
    "        \n",
    "        bi = True\n",
    "        self.lstm = nn.LSTM(pretrained_embedding.size(1), 800, 2, dropout=0.2, bidirectional=bi, batch_first=True)\n",
    "        self.lstm.apply(self.init_normal)\n",
    "        \n",
    "        self.hidden2out = nn.Sequential(\n",
    "            nn.AvgPool1d(5),\n",
    "            nn.Flatten(),\n",
    "            \n",
    "            nn.BatchNorm1d(800 * (1+bi) * 6),\n",
    "            nn.LeakyReLU(0.4),\n",
    "            nn.Linear(800 * (1+bi) * 6, 400),\n",
    "            \n",
    "#             nn.BatchNorm1d(200),\n",
    "#             nn.LeakyReLU(0.2),\n",
    "#             nn.Linear(200, 400),\n",
    "            \n",
    "            nn.BatchNorm1d(400),\n",
    "            nn.LeakyReLU(0.4),\n",
    "            nn.Linear(400, 100),\n",
    "            \n",
    "            nn.BatchNorm1d(100),\n",
    "            nn.LeakyReLU(0.4),\n",
    "            nn.Linear(100, 2)\n",
    "        )\n",
    "        \n",
    "        self.hidden2out.apply(self.init_normal)\n",
    "    \n",
    "    def forward(self, event):\n",
    "        x = self.embedding(event)\n",
    "        out, (_, _) = self.lstm(x)\n",
    "        out = out.transpose(1, 2)\n",
    "        \n",
    "        y = self.hidden2out(out)\n",
    "        return y\n",
    "    \n",
    "    def init_normal(self, m):\n",
    "        if type(m) == nn.Linear:\n",
    "            nn.init.orthogonal_(m.weight)\n",
    "#             nn.init.xavier_normal_(m.weight.data)\n",
    "#             nn.init.normal_(m.bias.data)\n",
    "        if type(m) == nn.LSTM:\n",
    "            for name, param in m.named_parameters():\n",
    "                if 'weight_ih' in name:\n",
    "#                     nn.init.xavier_normal_(param.data)\n",
    "                    nn.init.orthogonal_(param.data)\n",
    "                elif 'weight_hh' in name:\n",
    "#                     nn.init.xavier_normal_(param.data)\n",
    "                    nn.init.orthogonal_(param.data)\n",
    "                elif 'bias' in name:\n",
    "                    param.data.fill_(0)\n",
    "        if isinstance(m, nn.BatchNorm1d):\n",
    "            nn.init.normal_(m.weight.data)\n",
    "#             nn.init.constant_(m.bias.data, 0)"
   ]
  },
  {
   "cell_type": "code",
   "execution_count": 28,
   "metadata": {
    "scrolled": true
   },
   "outputs": [],
   "source": [
    "EPOCH = 50\n",
    "model = LSTMNet(event_embedding)\n",
    "use_gpu = torch.cuda.is_available()\n",
    "if use_gpu:\n",
    "    model.cuda()\n",
    "    \n",
    "optimizer = torch.optim.Adam(model.parameters(), lr=0.00001)\n",
    "loss_fn = nn.CrossEntropyLoss()\n",
    "# loss_fn = nn.MSELoss()\n",
    "\n",
    "acc_history = []\n",
    "loss_history = []\n",
    "valid_history = []\n",
    "valid_loss = []"
   ]
  },
  {
   "cell_type": "code",
   "execution_count": 29,
   "metadata": {
    "scrolled": true
   },
   "outputs": [
    {
     "name": "stdout",
     "output_type": "stream",
     "text": [
      "Epoch: 1, train Loss: 0.8510, train accuracy: 0.5165\n",
      "Epoch: 1, valid loss: 0.7786, valid accuracy: 0.2891\n",
      "Epoch: 2, train Loss: 0.7390, train accuracy: 0.5946\n",
      "Epoch: 2, valid loss: 0.7090, valid accuracy: 0.5078\n",
      "Epoch: 3, train Loss: 0.6874, train accuracy: 0.6163\n",
      "Epoch: 3, valid loss: 0.7913, valid accuracy: 0.3828\n",
      "Epoch: 4, train Loss: 0.6128, train accuracy: 0.6736\n",
      "Epoch: 4, valid loss: 0.8007, valid accuracy: 0.4766\n",
      "Epoch: 5, train Loss: 0.6098, train accuracy: 0.6780\n",
      "Epoch: 5, valid loss: 0.9590, valid accuracy: 0.3672\n",
      "Epoch: 6, train Loss: 0.5145, train accuracy: 0.7465\n",
      "Epoch: 6, valid loss: 0.8401, valid accuracy: 0.4688\n",
      "Epoch: 7, train Loss: 0.4903, train accuracy: 0.7569\n",
      "Epoch: 7, valid loss: 0.9361, valid accuracy: 0.4219\n",
      "Epoch: 8, train Loss: 0.5079, train accuracy: 0.7526\n",
      "Epoch: 8, valid loss: 0.8080, valid accuracy: 0.5000\n",
      "Epoch: 9, train Loss: 0.4541, train accuracy: 0.7908\n",
      "Epoch: 9, valid loss: 0.9913, valid accuracy: 0.4219\n",
      "Epoch: 10, train Loss: 0.4485, train accuracy: 0.7821\n",
      "Epoch: 10, valid loss: 0.8263, valid accuracy: 0.5000\n",
      "Epoch: 11, train Loss: 0.4061, train accuracy: 0.8194\n",
      "Epoch: 11, valid loss: 1.0714, valid accuracy: 0.3672\n",
      "Epoch: 12, train Loss: 0.4086, train accuracy: 0.8273\n",
      "Epoch: 12, valid loss: 0.7987, valid accuracy: 0.5547\n",
      "Epoch: 13, train Loss: 0.3949, train accuracy: 0.8177\n",
      "Epoch: 13, valid loss: 1.0788, valid accuracy: 0.4141\n",
      "Epoch: 14, train Loss: 0.3710, train accuracy: 0.8368\n",
      "Epoch: 14, valid loss: 0.9549, valid accuracy: 0.4297\n",
      "Epoch: 15, train Loss: 0.3459, train accuracy: 0.8568\n",
      "Epoch: 15, valid loss: 1.0774, valid accuracy: 0.4375\n",
      "Epoch: 16, train Loss: 0.3368, train accuracy: 0.8672\n",
      "Epoch: 16, valid loss: 1.1085, valid accuracy: 0.4297\n",
      "Epoch: 17, train Loss: 0.3249, train accuracy: 0.8637\n",
      "Epoch: 17, valid loss: 1.0012, valid accuracy: 0.4609\n",
      "Epoch: 18, train Loss: 0.3058, train accuracy: 0.8785\n",
      "Epoch: 18, valid loss: 1.3085, valid accuracy: 0.3594\n",
      "Epoch: 19, train Loss: 0.2932, train accuracy: 0.8776\n",
      "Epoch: 19, valid loss: 0.9327, valid accuracy: 0.5469\n",
      "Epoch: 20, train Loss: 0.3064, train accuracy: 0.8724\n",
      "Epoch: 20, valid loss: 1.5343, valid accuracy: 0.3438\n",
      "Epoch: 21, train Loss: 0.2684, train accuracy: 0.8932\n",
      "Epoch: 21, valid loss: 0.9741, valid accuracy: 0.5391\n",
      "Epoch: 22, train Loss: 0.2854, train accuracy: 0.8828\n",
      "Epoch: 22, valid loss: 1.1574, valid accuracy: 0.4609\n",
      "Epoch: 23, train Loss: 0.2593, train accuracy: 0.8984\n",
      "Epoch: 23, valid loss: 0.9629, valid accuracy: 0.5234\n",
      "Epoch: 24, train Loss: 0.2579, train accuracy: 0.8993\n",
      "Epoch: 24, valid loss: 1.2108, valid accuracy: 0.4219\n",
      "Epoch: 25, train Loss: 0.2470, train accuracy: 0.8993\n",
      "Epoch: 25, valid loss: 1.0413, valid accuracy: 0.5938\n",
      "Epoch: 26, train Loss: 0.2659, train accuracy: 0.8819\n",
      "Epoch: 26, valid loss: 1.0085, valid accuracy: 0.5938\n",
      "Epoch: 27, train Loss: 0.2367, train accuracy: 0.8958\n",
      "Epoch: 27, valid loss: 1.6141, valid accuracy: 0.3359\n",
      "Epoch: 28, train Loss: 0.2358, train accuracy: 0.9019\n",
      "Epoch: 28, valid loss: 1.2359, valid accuracy: 0.4375\n",
      "Epoch: 29, train Loss: 0.2358, train accuracy: 0.8984\n",
      "Epoch: 29, valid loss: 1.1097, valid accuracy: 0.6562\n",
      "model saved to LSTM(3day_10day)_29(0.6562).pth\n",
      "Epoch: 30, train Loss: 0.2189, train accuracy: 0.9071\n",
      "Epoch: 30, valid loss: 1.2161, valid accuracy: 0.4453\n",
      "Epoch: 31, train Loss: 0.2202, train accuracy: 0.9089\n",
      "Epoch: 31, valid loss: 1.4143, valid accuracy: 0.4219\n",
      "Epoch: 32, train Loss: 0.2385, train accuracy: 0.8932\n",
      "Epoch: 32, valid loss: 1.0787, valid accuracy: 0.5469\n",
      "Epoch: 33, train Loss: 0.2169, train accuracy: 0.9045\n",
      "Epoch: 33, valid loss: 1.0367, valid accuracy: 0.5781\n",
      "Epoch: 34, train Loss: 0.2186, train accuracy: 0.9019\n",
      "Epoch: 34, valid loss: 1.0641, valid accuracy: 0.6484\n",
      "model saved to LSTM(3day_10day)_34(0.6484).pth\n",
      "Epoch: 35, train Loss: 0.1890, train accuracy: 0.9201\n",
      "Epoch: 35, valid loss: 1.8107, valid accuracy: 0.3516\n",
      "Epoch: 36, train Loss: 0.2125, train accuracy: 0.9097\n",
      "Epoch: 36, valid loss: 1.2627, valid accuracy: 0.6719\n",
      "model saved to LSTM(3day_10day)_36(0.6719).pth\n",
      "Epoch: 37, train Loss: 0.2170, train accuracy: 0.9054\n",
      "Epoch: 37, valid loss: 1.4592, valid accuracy: 0.4062\n",
      "Epoch: 38, train Loss: 0.1916, train accuracy: 0.9280\n",
      "Epoch: 38, valid loss: 1.0884, valid accuracy: 0.5938\n",
      "Epoch: 39, train Loss: 0.1879, train accuracy: 0.9262\n",
      "Epoch: 39, valid loss: 1.1332, valid accuracy: 0.5391\n",
      "Epoch: 40, train Loss: 0.1952, train accuracy: 0.9132\n",
      "Epoch: 40, valid loss: 1.5579, valid accuracy: 0.3984\n",
      "Epoch: 41, train Loss: 0.1981, train accuracy: 0.9149\n",
      "Epoch: 41, valid loss: 1.1978, valid accuracy: 0.5469\n",
      "Epoch: 42, train Loss: 0.1746, train accuracy: 0.9332\n",
      "Epoch: 42, valid loss: 1.3165, valid accuracy: 0.4922\n",
      "Epoch: 43, train Loss: 0.1663, train accuracy: 0.9314\n",
      "Epoch: 43, valid loss: 1.1335, valid accuracy: 0.5547\n",
      "Epoch: 44, train Loss: 0.1696, train accuracy: 0.9332\n",
      "Epoch: 44, valid loss: 2.0144, valid accuracy: 0.3438\n",
      "Epoch: 45, train Loss: 0.1743, train accuracy: 0.9210\n",
      "Epoch: 45, valid loss: 1.1927, valid accuracy: 0.6484\n",
      "model saved to LSTM(3day_10day)_45(0.6484).pth\n",
      "Epoch: 46, train Loss: 0.1799, train accuracy: 0.9167\n",
      "Epoch: 46, valid loss: 1.4295, valid accuracy: 0.4609\n",
      "Epoch: 47, train Loss: 0.1730, train accuracy: 0.9306\n",
      "Epoch: 47, valid loss: 1.3577, valid accuracy: 0.4609\n",
      "Epoch: 48, train Loss: 0.1610, train accuracy: 0.9297\n",
      "Epoch: 48, valid loss: 1.1631, valid accuracy: 0.5859\n",
      "Epoch: 49, train Loss: 0.1628, train accuracy: 0.9314\n",
      "Epoch: 49, valid loss: 1.9926, valid accuracy: 0.3516\n",
      "Epoch: 50, train Loss: 0.1692, train accuracy: 0.9236\n",
      "Epoch: 50, valid loss: 1.1644, valid accuracy: 0.5547\n"
     ]
    }
   ],
   "source": [
    "for epoch in range(EPOCH):\n",
    "    model.train()\n",
    "    train_loss = []\n",
    "    train_acc = []\n",
    "    for data in train_loader:\n",
    "        if use_gpu:\n",
    "            event = data['token'].cuda()\n",
    "            labels = data['label'].cuda()\n",
    "            \n",
    "        optimizer.zero_grad()\n",
    "        output = model(event)\n",
    "        loss = loss_fn(output, labels)\n",
    "        loss.backward()\n",
    "        optimizer.step()\n",
    "        \n",
    "        predict = output.max(1)[1]\n",
    "#         predict = torch.tensor([1 if x >=0.5 else 0 for x in output]).cuda()\n",
    "        acc = np.mean((labels == predict).cpu().numpy())\n",
    "        train_acc.append(acc)\n",
    "        train_loss.append(loss.item())\n",
    "        \n",
    "    print(\"Epoch: {}, train Loss: {:.4f}, train accuracy: {:.4f}\".format(epoch + 1, np.mean(train_loss), np.mean(train_acc)))\n",
    "    acc_history.append(np.mean(train_acc))\n",
    "    loss_history.append(np.mean(train_loss))\n",
    "    \n",
    "    model.eval()\n",
    "    with torch.no_grad():\n",
    "        for data in valid_loader:\n",
    "            if use_gpu:\n",
    "                event = data['token'].cuda()\n",
    "                labels = data['label'].cuda()\n",
    "\n",
    "            output = model(event)\n",
    "            loss = loss_fn(output, labels)\n",
    "            predict = output.max(1)[1]\n",
    "#             predict = torch.tensor([1 if x >=0.5 else 0 for x in output]).cuda()\n",
    "            acc = np.mean((labels == predict).cpu().numpy())\n",
    "        print(\"Epoch: {}, valid loss: {:.4f}, valid accuracy: {:.4f}\".format(epoch + 1, loss, acc))\n",
    "        valid_history.append(acc)\n",
    "        valid_loss.append(loss)\n",
    "        \n",
    "    if acc >= 0.64 and acc < 0.70:\n",
    "        checkpoint_path = 'LSTM(3day_10day)_{}({:.4f}).pth'.format(epoch+1, acc) \n",
    "        torch.save(model.state_dict(), checkpoint_path)\n",
    "        print('model saved to %s' % checkpoint_path)"
   ]
  },
  {
   "cell_type": "code",
   "execution_count": 30,
   "metadata": {
    "scrolled": false
   },
   "outputs": [
    {
     "name": "stdout",
     "output_type": "stream",
     "text": [
      "Epoch: 36, valid accuracy: 0.6719\n"
     ]
    },
    {
     "data": {
      "image/png": "[encoded data removed]",
      "text/plain": [
       "<Figure size 432x288 with 1 Axes>"
      ]
     },
     "metadata": {
      "needs_background": "light"
     },
     "output_type": "display_data"
    },
    {
     "data": {
      "image/png": "[encoded data removed]",
      "text/plain": [
       "<Figure size 432x288 with 1 Axes>"
      ]
     },
     "metadata": {
      "needs_background": "light"
     },
     "output_type": "display_data"
    }
   ],
   "source": [
    "# 10日 valid\n",
    "print('Epoch: {}, valid accuracy: {:.4f}'.format(valid_history.index(max(valid_history))+1, max(valid_history)))\n",
    "\n",
    "import matplotlib.pyplot as plt\n",
    "plt.plot(list(range(len(acc_history))), acc_history, list(range(len(valid_history))), valid_history)\n",
    "plt.show()\n",
    "\n",
    "\n",
    "plt.plot(list(range(len(loss_history))), loss_history, list(range(len(valid_loss))), valid_loss)\n",
    "plt.show()"
   ]
  },
  {
   "cell_type": "code",
   "execution_count": 38,
   "metadata": {
    "scrolled": true
   },
   "outputs": [
    {
     "name": "stdout",
     "output_type": "stream",
     "text": [
      "Epoch: 35, valid accuracy: 0.6719\n"
     ]
    },
    {
     "data": {
      "image/png": "[encoded data removed]",
      "text/plain": [
       "<Figure size 432x288 with 1 Axes>"
      ]
     },
     "metadata": {
      "needs_background": "light"
     },
     "output_type": "display_data"
    },
    {
     "data": {
      "image/png": "[encoded data removed]",
      "text/plain": [
       "<Figure size 432x288 with 1 Axes>"
      ]
     },
     "metadata": {
      "needs_background": "light"
     },
     "output_type": "display_data"
    }
   ],
   "source": [
    "# 5日 valid\n",
    "print('Epoch: {}, valid accuracy: {:.4f}'.format(valid_history.index(max(valid_history))+1, max(valid_history)))\n",
    "\n",
    "import matplotlib.pyplot as plt\n",
    "plt.plot(list(range(len(acc_history))), acc_history, list(range(len(valid_history))), valid_history)\n",
    "plt.show()\n",
    "\n",
    "\n",
    "plt.plot(list(range(len(loss_history))), loss_history, list(range(len(valid_loss))), valid_loss)\n",
    "plt.show()"
   ]
  },
  {
   "cell_type": "code",
   "execution_count": 23,
   "metadata": {
    "scrolled": false
   },
   "outputs": [
    {
     "name": "stdout",
     "output_type": "stream",
     "text": [
      "Epoch: 8, valid accuracy: 0.6835\n"
     ]
    },
    {
     "data": {
      "image/png": "[encoded data removed]",
      "text/plain": [
       "<Figure size 432x288 with 1 Axes>"
      ]
     },
     "metadata": {
      "needs_background": "light"
     },
     "output_type": "display_data"
    },
    {
     "data": {
      "image/png": "[encoded data removed]",
      "text/plain": [
       "<Figure size 432x288 with 1 Axes>"
      ]
     },
     "metadata": {
      "needs_background": "light"
     },
     "output_type": "display_data"
    }
   ],
   "source": [
    "print('Epoch: {}, valid accuracy: {:.4f}'.format(valid_history.index(max(valid_history))+1, max(valid_history)))\n",
    "\n",
    "import matplotlib.pyplot as plt\n",
    "plt.plot(list(range(len(acc_history))), acc_history, list(range(len(valid_history))), valid_history)\n",
    "plt.show()\n",
    "\n",
    "\n",
    "plt.plot(list(range(len(loss_history))), loss_history, list(range(len(valid_loss))), valid_loss)\n",
    "plt.show()"
   ]
  },
  {
   "cell_type": "code",
   "execution_count": 14,
   "metadata": {
    "scrolled": false
   },
   "outputs": [
    {
     "name": "stdout",
     "output_type": "stream",
     "text": [
      "Epoch: 35, valid accuracy: 0.7016\n"
     ]
    },
    {
     "data": {
      "image/png": "[encoded data removed]",
      "text/plain": [
       "<Figure size 432x288 with 1 Axes>"
      ]
     },
     "metadata": {
      "needs_background": "light"
     },
     "output_type": "display_data"
    },
    {
     "data": {
      "image/png": "[encoded data removed]",
      "text/plain": [
       "<Figure size 432x288 with 1 Axes>"
      ]
     },
     "metadata": {
      "needs_background": "light"
     },
     "output_type": "display_data"
    }
   ],
   "source": [
    "# II validation\n",
    "print('Epoch: {}, valid accuracy: {:.4f}'.format(valid_history.index(max(valid_history))+1, max(valid_history)))\n",
    "\n",
    "import matplotlib.pyplot as plt\n",
    "plt.plot(list(range(len(acc_history))), acc_history, list(range(len(valid_history))), valid_history)\n",
    "plt.show()\n",
    "\n",
    "\n",
    "plt.plot(list(range(len(loss_history))), loss_history, list(range(len(valid_loss))), valid_loss)\n",
    "plt.show()"
   ]
  },
  {
   "cell_type": "code",
   "execution_count": 25,
   "metadata": {
    "scrolled": false
   },
   "outputs": [
    {
     "name": "stdout",
     "output_type": "stream",
     "text": [
      "Epoch: 38, valid accuracy: 0.7063\n"
     ]
    }
   ],
   "source": [
    "print('Epoch: {}, valid accuracy: {:.4f}'.format(valid_history.index(max(valid_history))+1, max(valid_history)))"
   ]
  },
  {
   "cell_type": "code",
   "execution_count": 26,
   "metadata": {},
   "outputs": [
    {
     "data": {
      "image/png": "[encoded data removed]",
      "text/plain": [
       "<Figure size 432x288 with 1 Axes>"
      ]
     },
     "metadata": {
      "needs_background": "light"
     },
     "output_type": "display_data"
    },
    {
     "data": {
      "image/png": "[encoded data removed]",
      "text/plain": [
       "<Figure size 432x288 with 1 Axes>"
      ]
     },
     "metadata": {
      "needs_background": "light"
     },
     "output_type": "display_data"
    }
   ],
   "source": [
    "import matplotlib.pyplot as plt\n",
    "plt.plot(list(range(len(acc_history))), acc_history, list(range(len(valid_history))), valid_history)\n",
    "plt.show()\n",
    "\n",
    "\n",
    "plt.plot(list(range(len(loss_history))), loss_history, list(range(len(valid_loss))), valid_loss)\n",
    "plt.show()"
   ]
  },
  {
   "cell_type": "code",
   "execution_count": 15,
   "metadata": {
    "scrolled": false
   },
   "outputs": [
    {
     "data": {
      "image/png": "[encoded data removed]",
      "text/plain": [
       "<Figure size 432x288 with 1 Axes>"
      ]
     },
     "metadata": {
      "needs_background": "light"
     },
     "output_type": "display_data"
    }
   ],
   "source": [
    "import matplotlib.pyplot as plt\n",
    "plt.plot(list(range(len(acc_history))), acc_history, list(range(len(valid_history))), valid_history)\n",
    "plt.show()"
   ]
  },
  {
   "cell_type": "markdown",
   "metadata": {},
   "source": [
    "# Testing"
   ]
  },
  {
   "cell_type": "code",
   "execution_count": 81,
   "metadata": {},
   "outputs": [],
   "source": [
    "from sklearn.metrics import matthews_corrcoef\n",
    "from sklearn.metrics import f1_score\n",
    "from sklearn.metrics import accuracy_score\n",
    "valid_set = EventDataset(test)\n",
    "valid_loader = DataLoader(valid_set, collate_fn=valid_set.collate_fn, batch_size=len(test), shuffle=False)"
   ]
  },
  {
   "cell_type": "code",
   "execution_count": 82,
   "metadata": {
    "scrolled": true
   },
   "outputs": [],
   "source": [
    "model = LSTMNet(event_embedding)\n",
    "model.load_state_dict(torch.load('LSTM(3day_test)_26(0.6901).pth'))\n",
    "use_gpu = torch.cuda.is_available()\n",
    "if use_gpu:\n",
    "    model.cuda()\n"
   ]
  },
  {
   "cell_type": "code",
   "execution_count": 83,
   "metadata": {},
   "outputs": [],
   "source": [
    "model.eval()\n",
    "with torch.no_grad():\n",
    "    for data in valid_loader:\n",
    "        if use_gpu:\n",
    "            event = data['token'].cuda()\n",
    "            labels = data['label'].cuda()\n",
    "\n",
    "        output = model(event)\n",
    "        predict = output.max(1)[1]\n",
    "        acc = accuracy_score(data['label'], predict.cpu())\n",
    "        mcc = matthews_corrcoef(data['label'], predict.cpu())\n",
    "        f1 = f1_score(data['label'], predict.cpu(), average='weighted')\n",
    "        pre = precision_score(labels.cpu(), predict.cpu(), average='weighted')\n",
    "        recall = recall_score(labels.cpu(), predict.cpu(), average='weighted')"
   ]
  },
  {
   "cell_type": "code",
   "execution_count": 84,
   "metadata": {
    "scrolled": false
   },
   "outputs": [
    {
     "name": "stdout",
     "output_type": "stream",
     "text": [
      "acc:  0.6901408450704225\n",
      "mcc:  0.271346087535121\n",
      "F1:  0.6249119718309859\n",
      "precision 0.713438652187424\n",
      "recall 0.6901408450704225\n"
     ]
    }
   ],
   "source": [
    "print('acc: ', acc)\n",
    "print('mcc: ', mcc)\n",
    "print('F1: ', f1)\n",
    "print('precision', pre)\n",
    "print('recall', recall)"
   ]
  },
  {
   "cell_type": "code",
   "execution_count": 30,
   "metadata": {
    "scrolled": true
   },
   "outputs": [
    {
     "data": {
      "text/plain": [
       "tensor([0, 1, 1, 1, 1, 1, 1, 1, 1, 0, 0, 1, 1, 1, 1, 1, 0, 0, 0, 0, 0, 1, 1, 1,\n",
       "        1, 1, 0, 0, 0, 0, 1, 1, 1, 1, 1, 0, 0, 0, 0, 0, 0, 0, 1, 1, 1, 1, 1, 1,\n",
       "        1, 1, 1, 1, 1, 1, 1, 1, 1, 1, 1, 1, 1, 1, 1, 1, 1, 1, 1, 1, 0, 0, 0, 1,\n",
       "        1, 1, 1, 1, 1, 0, 0, 0, 0, 1, 1, 1, 1, 1, 0, 0, 0, 0, 0, 0, 0, 0, 0, 1,\n",
       "        1, 1, 1, 1, 1, 1, 1, 1, 1, 1, 1, 1, 1, 1, 1, 1, 1, 0, 0, 0, 0, 1, 1, 1,\n",
       "        1, 0, 0, 0, 0, 0], device='cuda:0')"
      ]
     },
     "execution_count": 30,
     "metadata": {},
     "output_type": "execute_result"
    }
   ],
   "source": [
    "predict"
   ]
  },
  {
   "cell_type": "code",
   "execution_count": 31,
   "metadata": {},
   "outputs": [
    {
     "data": {
      "text/plain": [
       "tensor([1, 1, 1, 1, 1, 0, 1, 1, 1, 0, 0, 0, 1, 1, 0, 1, 0, 0, 1, 1, 1, 1, 1, 1,\n",
       "        1, 1, 0, 0, 0, 1, 1, 1, 1, 1, 0, 1, 0, 1, 0, 0, 0, 0, 1, 1, 1, 0, 1, 1,\n",
       "        1, 1, 1, 1, 1, 1, 1, 1, 1, 1, 1, 0, 1, 1, 1, 1, 0, 1, 1, 1, 0, 1, 1, 1,\n",
       "        1, 1, 1, 1, 1, 0, 0, 0, 0, 1, 0, 1, 1, 1, 1, 1, 1, 1, 1, 1, 1, 1, 0, 1,\n",
       "        1, 1, 1, 1, 1, 1, 1, 1, 1, 0, 1, 1, 1, 1, 0, 1, 1, 1, 1, 1, 0, 1, 1, 1,\n",
       "        1, 0, 1, 0, 0, 0])"
      ]
     },
     "execution_count": 31,
     "metadata": {},
     "output_type": "execute_result"
    }
   ],
   "source": [
    "data['label']"
   ]
  },
  {
   "cell_type": "markdown",
   "metadata": {},
   "source": [
    "# Bull / Bear market"
   ]
  },
  {
   "cell_type": "code",
   "execution_count": 138,
   "metadata": {},
   "outputs": [],
   "source": [
    "price = pd.read_csv('^TWII.csv')\n",
    "price['Date'] = price['Date'].apply(lambda x:x.replace('-', ''))\n",
    "price = price[price['Date']<'20140101']\n",
    "price = price.dropna()"
   ]
  },
  {
   "cell_type": "code",
   "execution_count": 64,
   "metadata": {
    "scrolled": true
   },
   "outputs": [
    {
     "data": {
      "text/plain": [
       "[<matplotlib.lines.Line2D at 0x7f6431d670f0>]"
      ]
     },
     "execution_count": 64,
     "metadata": {},
     "output_type": "execute_result"
    },
    {
     "data": {
      "image/png": "[encoded data removed]",
      "text/plain": [
       "<Figure size 432x288 with 1 Axes>"
      ]
     },
     "metadata": {
      "needs_background": "light"
     },
     "output_type": "display_data"
    }
   ],
   "source": [
    "plt.plot(range(len(price)), list(price['Adj Close']))"
   ]
  },
  {
   "cell_type": "code",
   "execution_count": 115,
   "metadata": {
    "scrolled": true
   },
   "outputs": [
    {
     "name": "stdout",
     "output_type": "stream",
     "text": [
      "1.3356661077661305\n"
     ]
    },
    {
     "data": {
      "image/png": "[encoded data removed]",
      "text/plain": [
       "<Figure size 432x288 with 1 Axes>"
      ]
     },
     "metadata": {
      "needs_background": "light"
     },
     "output_type": "display_data"
    }
   ],
   "source": [
    "# Bull Market 1 \n",
    "price = price[price['Date']<='20071130']\n",
    "price = price[price['Date']>='20061130']\n",
    "plt.plot(range(len(price)), list(price['Adj Close']))\n",
    "\n",
    "print(max(price['Adj Close'])/min(price['Adj Close']))"
   ]
  },
  {
   "cell_type": "code",
   "execution_count": 123,
   "metadata": {
    "scrolled": true
   },
   "outputs": [
    {
     "name": "stdout",
     "output_type": "stream",
     "text": [
      "1.9299701042552093\n"
     ]
    },
    {
     "data": {
      "image/png": "[encoded data removed]",
      "text/plain": [
       "<Figure size 432x288 with 1 Axes>"
      ]
     },
     "metadata": {
      "needs_background": "light"
     },
     "output_type": "display_data"
    }
   ],
   "source": [
    "# Bull Market 2\n",
    "price = price[price['Date']>='20090101']\n",
    "price = price[price['Date']<='20100101']\n",
    "plt.plot(range(len(price)), list(price['Adj Close']))\n",
    "\n",
    "print(max(price['Adj Close'])/min(price['Adj Close']))"
   ]
  },
  {
   "cell_type": "code",
   "execution_count": 131,
   "metadata": {
    "scrolled": true
   },
   "outputs": [
    {
     "name": "stdout",
     "output_type": "stream",
     "text": [
      "0.44000446511228836\n"
     ]
    },
    {
     "data": {
      "image/png": "[encoded data removed]",
      "text/plain": [
       "<Figure size 432x288 with 1 Axes>"
      ]
     },
     "metadata": {
      "needs_background": "light"
     },
     "output_type": "display_data"
    }
   ],
   "source": [
    "# Bear Market 1\n",
    "price = price[price['Date']<='20090401']\n",
    "price = price[price['Date']>='20080401']\n",
    "plt.plot(range(len(price)), list(price['Adj Close']))\n",
    "\n",
    "print(min(price['Adj Close'])/max(price['Adj Close']))"
   ]
  },
  {
   "cell_type": "code",
   "execution_count": 139,
   "metadata": {
    "scrolled": true
   },
   "outputs": [
    {
     "name": "stdout",
     "output_type": "stream",
     "text": [
      "0.8399956785812924\n"
     ]
    },
    {
     "data": {
      "image/png": "[encoded data removed]",
      "text/plain": [
       "<Figure size 432x288 with 1 Axes>"
      ]
     },
     "metadata": {
      "needs_background": "light"
     },
     "output_type": "display_data"
    }
   ],
   "source": [
    "# Bear Market 2\n",
    "price = price[price['Date']<='20100901']\n",
    "price = price[price['Date']>='20090901']\n",
    "plt.plot(range(len(price)), list(price['Adj Close']))\n",
    "\n",
    "print(min(price['Adj Close'])/max(price['Adj Close']))"
   ]
  },
  {
   "cell_type": "code",
   "execution_count": null,
   "metadata": {},
   "outputs": [],
   "source": []
  },
  {
   "cell_type": "code",
   "execution_count": 140,
   "metadata": {},
   "outputs": [],
   "source": [
    "price['return1'] = price.shift(-1)['Adj Close'] / price['Adj Close']\n",
    "price['return2'] = price.shift(-2)['Adj Close'] / price['Adj Close']\n",
    "price['return3'] = price.shift(-3)['Adj Close'] / price['Adj Close']\n",
    "# price['return4'] = price.shift(-3)['Adj Close'] / price['Adj Close']\n",
    "# price['return5'] = price.shift(-3)['Adj Close'] / price['Adj Close']\n",
    "\n",
    "price = price.dropna()\n",
    "price['return'] = price.apply(lambda x:max([x['return1'], x['return2'], x['return3']]), axis=1)\n",
    "# price['down'] = price.apply(lambda x:min([x['return1'], x['return2'], x['return3']]), axis=1)\n",
    "price = price.reset_index(drop=True)\n",
    "\n",
    "price['label'] = 0\n",
    "price.loc[price[price['return'] > 1.001].index, 'label'] = 1\n",
    "price = price.reset_index(drop=True)"
   ]
  },
  {
   "cell_type": "code",
   "execution_count": 133,
   "metadata": {},
   "outputs": [
    {
     "data": {
      "text/plain": [
       "Counter({1: 153, 0: 91})"
      ]
     },
     "execution_count": 133,
     "metadata": {},
     "output_type": "execute_result"
    }
   ],
   "source": [
    "from collections import Counter\n",
    "a = Counter(price['label'])\n",
    "a"
   ]
  },
  {
   "cell_type": "code",
   "execution_count": null,
   "metadata": {},
   "outputs": [],
   "source": []
  },
  {
   "cell_type": "code",
   "execution_count": 110,
   "metadata": {},
   "outputs": [
    {
     "name": "stderr",
     "output_type": "stream",
     "text": [
      "100%|██████████| 249/249 [00:00<00:00, 5718.91it/s]\n"
     ]
    }
   ],
   "source": [
    "# Event\n",
    "with open('Event_embedding(1channel_1).pkl', 'rb') as f:\n",
    "    datas = pickle.load(f)\n",
    "    \n",
    "event = [(k, datas[k]) for k in sorted(datas.keys())]\n",
    "dates = [x[0] for x in event]\n",
    "event_embedding = [x[1] for x in event]\n",
    "\n",
    "all_data = []\n",
    "for i in tqdm(range(len(price))):\n",
    "    data = {}\n",
    "    if price.loc[i, 'Date'] in dates:\n",
    "        data['date'] = dates.index(price.loc[i, 'Date'])\n",
    "    tmp = int(price.loc[i, 'Date'])\n",
    "    while str(tmp) not in dates:\n",
    "        tmp -= 1\n",
    "    data['date'] = dates.index(str(tmp))\n",
    "    data['label'] = price.loc[i, 'label']\n",
    "    all_data.append(data)"
   ]
  },
  {
   "cell_type": "code",
   "execution_count": 141,
   "metadata": {},
   "outputs": [
    {
     "name": "stderr",
     "output_type": "stream",
     "text": [
      "100%|██████████| 249/249 [00:00<00:00, 5425.58it/s]\n"
     ]
    }
   ],
   "source": [
    "# No event\n",
    "with open('news_embedding_baseline_2006.pkl', 'rb') as f:\n",
    "    train_vector = pickle.load(f)\n",
    "    \n",
    "datas = dict(zip([x['date'] for x in train_vector], [x['title'] for x in train_vector]))\n",
    "event = [(k, datas[k]) for k in sorted(datas.keys())]\n",
    "dates = [x[0] for x in event][:2113]\n",
    "event_embedding = [np.array(x[1].cpu()) for x in event][:2113]\n",
    "\n",
    "all_data = []\n",
    "for i in tqdm(range(len(price))):\n",
    "    data = {}\n",
    "    if price.loc[i, 'Date'] in dates:\n",
    "        data['date'] = dates.index(price.loc[i, 'Date'])\n",
    "    tmp = int(price.loc[i, 'Date'])\n",
    "    while str(tmp) not in dates:\n",
    "        tmp -= 1\n",
    "    data['date'] = dates.index(str(tmp))\n",
    "    data['label'] = price.loc[i, 'label']\n",
    "    all_data.append(data)"
   ]
  },
  {
   "cell_type": "code",
   "execution_count": null,
   "metadata": {},
   "outputs": [],
   "source": []
  },
  {
   "cell_type": "code",
   "execution_count": 142,
   "metadata": {},
   "outputs": [],
   "source": [
    "from sklearn.metrics import matthews_corrcoef\n",
    "from sklearn.metrics import f1_score\n",
    "from sklearn.metrics import accuracy_score\n",
    "valid_set = EventDataset(all_data)\n",
    "valid_loader = DataLoader(valid_set, collate_fn=valid_set.collate_fn, batch_size=len(all_data), shuffle=False)"
   ]
  },
  {
   "cell_type": "code",
   "execution_count": 143,
   "metadata": {
    "scrolled": true
   },
   "outputs": [],
   "source": [
    "model = LSTMNet(event_embedding)\n",
    "# model.load_state_dict(torch.load('LSTM(3day_test)_26(0.6901).pth'))\n",
    "model.load_state_dict(torch.load('LSTM_baseline(3day_test)_2(0.6620).pth'))\n",
    "use_gpu = torch.cuda.is_available()\n",
    "if use_gpu:\n",
    "    model.cuda()\n",
    "\n",
    "model.eval()\n",
    "with torch.no_grad():\n",
    "    for data in valid_loader:\n",
    "        if use_gpu:\n",
    "            event = data['token'].cuda()\n",
    "            labels = data['label'].cuda()\n",
    "\n",
    "        output = model(event)\n",
    "        predict = output.max(1)[1]\n",
    "        acc = accuracy_score(data['label'], predict.cpu())\n",
    "        mcc = matthews_corrcoef(data['label'], predict.cpu())\n",
    "        f1 = f1_score(data['label'], predict.cpu(), average='weighted')\n",
    "        pre = precision_score(labels.cpu(), predict.cpu(), average='weighted')\n",
    "        recall = recall_score(labels.cpu(), predict.cpu(), average='weighted')"
   ]
  },
  {
   "cell_type": "code",
   "execution_count": 89,
   "metadata": {
    "scrolled": true
   },
   "outputs": [
    {
     "name": "stdout",
     "output_type": "stream",
     "text": [
      "acc:  0.7095435684647303\n",
      "mcc:  0.08224699949464384\n",
      "F1:  0.6413429526609533\n",
      "precision 0.6430750723525925\n",
      "recall 0.7095435684647303\n"
     ]
    }
   ],
   "source": [
    "# Test Bull Market 1 on valid model\n",
    "print('acc: ', acc)\n",
    "print('mcc: ', mcc)\n",
    "print('F1: ', f1)\n",
    "print('precision', pre)\n",
    "print('recall', recall)"
   ]
  },
  {
   "cell_type": "code",
   "execution_count": 121,
   "metadata": {},
   "outputs": [
    {
     "name": "stdout",
     "output_type": "stream",
     "text": [
      "acc:  0.6390041493775933\n",
      "mcc:  -0.12622816085022184\n",
      "F1:  0.5784539981329693\n",
      "precision 0.5391511219649789\n",
      "recall 0.6390041493775933\n"
     ]
    }
   ],
   "source": [
    "# Test Bull Market 1 on baseline model\n",
    "print('acc: ', acc)\n",
    "print('mcc: ', mcc)\n",
    "print('F1: ', f1)\n",
    "print('precision', pre)\n",
    "print('recall', recall)"
   ]
  },
  {
   "cell_type": "code",
   "execution_count": 97,
   "metadata": {
    "scrolled": true
   },
   "outputs": [
    {
     "name": "stdout",
     "output_type": "stream",
     "text": [
      "acc:  0.7254098360655737\n",
      "mcc:  -0.02886601674186042\n",
      "F1:  0.6618629920535499\n",
      "precision 0.6286804357204487\n",
      "recall 0.7254098360655737\n"
     ]
    }
   ],
   "source": [
    "# Test Bull Market 2 on valid model\n",
    "print('acc: ', acc)\n",
    "print('mcc: ', mcc)\n",
    "print('F1: ', f1)\n",
    "print('precision', pre)\n",
    "print('recall', recall)"
   ]
  },
  {
   "cell_type": "code",
   "execution_count": 129,
   "metadata": {},
   "outputs": [
    {
     "name": "stdout",
     "output_type": "stream",
     "text": [
      "acc:  0.6598360655737705\n",
      "mcc:  0.032320999967352666\n",
      "F1:  0.6565926930539706\n",
      "precision 0.6535111686319623\n",
      "recall 0.6598360655737705\n"
     ]
    }
   ],
   "source": [
    "# Test Bull Market 2 on baseline model\n",
    "print('acc: ', acc)\n",
    "print('mcc: ', mcc)\n",
    "print('F1: ', f1)\n",
    "print('precision', pre)\n",
    "print('recall', recall)"
   ]
  },
  {
   "cell_type": "code",
   "execution_count": 105,
   "metadata": {
    "scrolled": true
   },
   "outputs": [
    {
     "name": "stdout",
     "output_type": "stream",
     "text": [
      "acc:  0.6352459016393442\n",
      "mcc:  0.10125939924208978\n",
      "F1:  0.5381686141905292\n",
      "precision 0.6138809693513898\n",
      "recall 0.6352459016393442\n"
     ]
    }
   ],
   "source": [
    "# Test Bear Market 1 on valid model\n",
    "print('acc: ', acc)\n",
    "print('mcc: ', mcc)\n",
    "print('F1: ', f1)\n",
    "print('precision', pre)\n",
    "print('recall', recall)"
   ]
  },
  {
   "cell_type": "code",
   "execution_count": 137,
   "metadata": {},
   "outputs": [
    {
     "name": "stdout",
     "output_type": "stream",
     "text": [
      "acc:  0.5655737704918032\n",
      "mcc:  -0.021270083409733673\n",
      "F1:  0.5294983203494634\n",
      "precision 0.5215048390884427\n",
      "recall 0.5655737704918032\n"
     ]
    }
   ],
   "source": [
    "# Test Bear Market 1 on baseline model\n",
    "print('acc: ', acc)\n",
    "print('mcc: ', mcc)\n",
    "print('F1: ', f1)\n",
    "print('precision', pre)\n",
    "print('recall', recall)"
   ]
  },
  {
   "cell_type": "code",
   "execution_count": 113,
   "metadata": {},
   "outputs": [
    {
     "name": "stdout",
     "output_type": "stream",
     "text": [
      "acc:  0.6666666666666666\n",
      "mcc:  -0.01398221544574403\n",
      "F1:  0.5982847938705325\n",
      "precision 0.5781604592177281\n",
      "recall 0.6666666666666666\n"
     ]
    }
   ],
   "source": [
    "# Test Bear Market 2 on valid model\n",
    "print('acc: ', acc)\n",
    "print('mcc: ', mcc)\n",
    "print('F1: ', f1)\n",
    "print('precision', pre)\n",
    "print('recall', recall)"
   ]
  },
  {
   "cell_type": "code",
   "execution_count": 144,
   "metadata": {},
   "outputs": [
    {
     "name": "stdout",
     "output_type": "stream",
     "text": [
      "acc:  0.6385542168674698\n",
      "mcc:  -0.0688113286164344\n",
      "F1:  0.5806756437514765\n",
      "precision 0.5522226838388035\n",
      "recall 0.6385542168674698\n"
     ]
    }
   ],
   "source": [
    "# Test Bear Market 2 on baseline model\n",
    "print('acc: ', acc)\n",
    "print('mcc: ', mcc)\n",
    "print('F1: ', f1)\n",
    "print('precision', pre)\n",
    "print('recall', recall)"
   ]
  },
  {
   "cell_type": "code",
   "execution_count": null,
   "metadata": {},
   "outputs": [],
   "source": []
  },
  {
   "cell_type": "markdown",
   "metadata": {},
   "source": [
    "# Market Simulation"
   ]
  },
  {
   "cell_type": "code",
   "execution_count": 85,
   "metadata": {},
   "outputs": [
    {
     "name": "stdout",
     "output_type": "stream",
     "text": [
      "valid:  20181019 20190506\n",
      "test:  20190507 20191129\n"
     ]
    }
   ],
   "source": [
    "print('valid: ', dates[valid[0]['date']], dates[valid[-1]['date']])\n",
    "print('test: ', dates[test[0]['date']], dates[test[-1]['date']])"
   ]
  },
  {
   "cell_type": "code",
   "execution_count": 86,
   "metadata": {},
   "outputs": [],
   "source": [
    "date = []\n",
    "for i in test:\n",
    "    date.append(dates[i['date']])"
   ]
  },
  {
   "cell_type": "code",
   "execution_count": 87,
   "metadata": {},
   "outputs": [],
   "source": [
    "def buy(buy_price, money):\n",
    "    hold = money / buy_price\n",
    "#     print(money, buy_price)\n",
    "#     print(hold)\n",
    "    money = 0\n",
    "    return hold, money\n",
    "\n",
    "def sold(sold_price, hold):\n",
    "    money = hold * sold_price\n",
    "    hold = 0\n",
    "    return hold, money"
   ]
  },
  {
   "cell_type": "code",
   "execution_count": 88,
   "metadata": {
    "scrolled": true
   },
   "outputs": [
    {
     "name": "stdout",
     "output_type": "stream",
     "text": [
      "Money: 100.0000, hold: 0.0000\n",
      "Money: 100.0000, hold: 0.0000\n",
      "Money: 100.0000, hold: 0.0000\n",
      "Money: 100.0000, hold: 0.0000\n",
      "Money: 0.0000, hold: 0.0095\n",
      "Money: 0.0000, hold: 0.0095\n",
      "Money: 0.0000, hold: 0.0095\n",
      "Money: 0.0000, hold: 0.0095\n",
      "Money: 0.0000, hold: 0.0095\n",
      "Money: 0.0000, hold: 0.0095\n",
      "Money: 0.0000, hold: 0.0095\n",
      "Money: 0.0000, hold: 0.0095\n",
      "Money: 0.0000, hold: 0.0095\n",
      "Money: 97.8215, hold: 0.0000\n",
      "Money: 97.8215, hold: 0.0000\n",
      "Money: 0.0000, hold: 0.0095\n",
      "Money: 0.0000, hold: 0.0095\n",
      "Money: 0.0000, hold: 0.0095\n",
      "Money: 0.0000, hold: 0.0095\n",
      "Money: 0.0000, hold: 0.0095\n",
      "Money: 0.0000, hold: 0.0095\n",
      "Money: 0.0000, hold: 0.0095\n",
      "Money: 0.0000, hold: 0.0095\n",
      "Money: 0.0000, hold: 0.0095\n",
      "Money: 0.0000, hold: 0.0095\n",
      "Money: 0.0000, hold: 0.0095\n",
      "Money: 0.0000, hold: 0.0095\n",
      "Money: 0.0000, hold: 0.0095\n",
      "Money: 0.0000, hold: 0.0095\n",
      "Money: 0.0000, hold: 0.0095\n",
      "Money: 0.0000, hold: 0.0095\n",
      "Money: 0.0000, hold: 0.0095\n",
      "Money: 0.0000, hold: 0.0095\n",
      "Money: 0.0000, hold: 0.0095\n",
      "Money: 0.0000, hold: 0.0095\n",
      "Money: 0.0000, hold: 0.0095\n",
      "Money: 0.0000, hold: 0.0095\n",
      "Money: 0.0000, hold: 0.0095\n",
      "Money: 0.0000, hold: 0.0095\n",
      "Money: 0.0000, hold: 0.0095\n",
      "Money: 0.0000, hold: 0.0095\n",
      "Money: 0.0000, hold: 0.0095\n",
      "Money: 0.0000, hold: 0.0095\n",
      "Money: 0.0000, hold: 0.0095\n",
      "Money: 0.0000, hold: 0.0095\n",
      "Money: 0.0000, hold: 0.0095\n",
      "Money: 0.0000, hold: 0.0095\n",
      "Money: 0.0000, hold: 0.0095\n",
      "Money: 0.0000, hold: 0.0095\n",
      "Money: 0.0000, hold: 0.0095\n",
      "Money: 0.0000, hold: 0.0095\n",
      "Money: 0.0000, hold: 0.0095\n",
      "Money: 0.0000, hold: 0.0095\n",
      "Money: 0.0000, hold: 0.0095\n",
      "Money: 0.0000, hold: 0.0095\n",
      "Money: 0.0000, hold: 0.0095\n",
      "Money: 0.0000, hold: 0.0095\n",
      "Money: 0.0000, hold: 0.0095\n",
      "Money: 0.0000, hold: 0.0095\n",
      "Money: 0.0000, hold: 0.0095\n",
      "Money: 0.0000, hold: 0.0095\n",
      "Money: 0.0000, hold: 0.0095\n",
      "Money: 0.0000, hold: 0.0095\n",
      "Money: 0.0000, hold: 0.0095\n",
      "Money: 0.0000, hold: 0.0095\n",
      "Money: 0.0000, hold: 0.0095\n",
      "Money: 0.0000, hold: 0.0095\n",
      "Money: 0.0000, hold: 0.0095\n",
      "Money: 0.0000, hold: 0.0095\n",
      "Money: 0.0000, hold: 0.0095\n",
      "Money: 0.0000, hold: 0.0095\n",
      "Money: 0.0000, hold: 0.0095\n",
      "Money: 0.0000, hold: 0.0095\n",
      "Money: 0.0000, hold: 0.0095\n",
      "Money: 0.0000, hold: 0.0095\n",
      "Money: 0.0000, hold: 0.0095\n",
      "Money: 0.0000, hold: 0.0095\n",
      "Money: 0.0000, hold: 0.0095\n",
      "Money: 0.0000, hold: 0.0095\n",
      "Money: 0.0000, hold: 0.0095\n",
      "Money: 0.0000, hold: 0.0095\n",
      "Money: 0.0000, hold: 0.0095\n",
      "Money: 0.0000, hold: 0.0095\n",
      "Money: 0.0000, hold: 0.0095\n",
      "Money: 0.0000, hold: 0.0095\n",
      "Money: 0.0000, hold: 0.0095\n",
      "Money: 0.0000, hold: 0.0095\n",
      "Money: 0.0000, hold: 0.0095\n",
      "Money: 0.0000, hold: 0.0095\n",
      "Money: 0.0000, hold: 0.0095\n",
      "Money: 0.0000, hold: 0.0095\n",
      "Money: 0.0000, hold: 0.0095\n",
      "Money: 0.0000, hold: 0.0095\n",
      "Money: 0.0000, hold: 0.0095\n",
      "Money: 0.0000, hold: 0.0095\n",
      "Money: 0.0000, hold: 0.0095\n",
      "Money: 0.0000, hold: 0.0095\n",
      "Money: 0.0000, hold: 0.0095\n",
      "Money: 0.0000, hold: 0.0095\n",
      "Money: 0.0000, hold: 0.0095\n",
      "Money: 0.0000, hold: 0.0095\n",
      "Money: 0.0000, hold: 0.0095\n",
      "Money: 0.0000, hold: 0.0095\n",
      "Money: 0.0000, hold: 0.0095\n",
      "Money: 0.0000, hold: 0.0095\n",
      "Money: 0.0000, hold: 0.0095\n",
      "Money: 0.0000, hold: 0.0095\n",
      "Money: 0.0000, hold: 0.0095\n",
      "Money: 0.0000, hold: 0.0095\n",
      "Money: 0.0000, hold: 0.0095\n",
      "Money: 0.0000, hold: 0.0095\n",
      "Money: 0.0000, hold: 0.0095\n",
      "Money: 0.0000, hold: 0.0095\n",
      "Money: 0.0000, hold: 0.0095\n",
      "Money: 0.0000, hold: 0.0095\n",
      "Money: 0.0000, hold: 0.0095\n",
      "Money: 0.0000, hold: 0.0095\n",
      "Money: 0.0000, hold: 0.0095\n",
      "Money: 0.0000, hold: 0.0095\n",
      "Money: 0.0000, hold: 0.0095\n",
      "Money: 0.0000, hold: 0.0095\n",
      "Money: 0.0000, hold: 0.0095\n",
      "Money: 0.0000, hold: 0.0095\n",
      "Money: 110.4541, hold: 0.0000\n",
      "Money: 110.4541, hold: 0.0000\n",
      "Money: 110.4541, hold: 0.0000\n",
      "Money: 110.4541, hold: 0.0000\n",
      "Money: 0.0000, hold: 0.0097\n",
      "Money: 0.0000, hold: 0.0097\n",
      "Money: 0.0000, hold: 0.0097\n",
      "Money: 0.0000, hold: 0.0097\n",
      "Money: 0.0000, hold: 0.0097\n",
      "Money: 0.0000, hold: 0.0097\n",
      "Money: 0.0000, hold: 0.0097\n",
      "Money: 0.0000, hold: 0.0097\n",
      "Money: 0.0000, hold: 0.0097\n",
      "Money: 0.0000, hold: 0.0097\n",
      "Money: 0.0000, hold: 0.0097\n",
      "Money: 0.0000, hold: 0.0097\n",
      "Money: 0.0000, hold: 0.0097\n",
      "Money: 0.0000, hold: 0.0097\n",
      "Money: 0.0000, hold: 0.0097\n",
      "Return:  1.1105617684196378\n"
     ]
    }
   ],
   "source": [
    "money = 100.0\n",
    "hold = 0\n",
    "count = 0\n",
    "for i in range(len(date)):\n",
    "    Adj = price[price['Date']==date[i]]['Adj Close'].values[0]\n",
    "    if hold == 0:\n",
    "        if predict[i] == 1:\n",
    "            hold, money = buy(Adj, money)\n",
    "            count = 3\n",
    "            buy_price = Adj\n",
    "    else:\n",
    "        count -= 1\n",
    "        if count != 0 and (Adj / buy_price) > 1.001:\n",
    "            hold, money = sold(hold, Adj)\n",
    "            count = 0\n",
    "        elif count == 0 and hold != 0:\n",
    "            hold, money = sold(hold, Adj)\n",
    "            \n",
    "        if hold == 0 and predict[i] == 1:\n",
    "            hold, money = buy(Adj, money)\n",
    "            count = 3\n",
    "            buy_price = Adj\n",
    "            \n",
    "    print('Money: {:.4f}, hold: {:.4f}'.format(money, hold))\n",
    "    \n",
    "if hold != 0:\n",
    "    hold, money = sold(hold, Adj)\n",
    "        \n",
    "print('Return: ', money/100) "
   ]
  },
  {
   "cell_type": "code",
   "execution_count": 60,
   "metadata": {},
   "outputs": [
    {
     "data": {
      "text/plain": [
       "107238395.33430289"
      ]
     },
     "execution_count": 60,
     "metadata": {},
     "output_type": "execute_result"
    }
   ],
   "source": [
    "money"
   ]
  },
  {
   "cell_type": "code",
   "execution_count": 56,
   "metadata": {
    "scrolled": true
   },
   "outputs": [
    {
     "data": {
      "text/plain": [
       "9526.110352"
      ]
     },
     "execution_count": 56,
     "metadata": {},
     "output_type": "execute_result"
    }
   ],
   "source": [
    "price[price['Date']==date[i]]['Adj Close'].values[0]"
   ]
  },
  {
   "cell_type": "code",
   "execution_count": 30,
   "metadata": {},
   "outputs": [
    {
     "data": {
      "text/plain": [
       "'20181022'"
      ]
     },
     "execution_count": 30,
     "metadata": {},
     "output_type": "execute_result"
    }
   ],
   "source": [
    "date[i]"
   ]
  },
  {
   "cell_type": "code",
   "execution_count": 50,
   "metadata": {
    "scrolled": true
   },
   "outputs": [
    {
     "data": {
      "text/html": [
       "<div>\n",
       "<style scoped>\n",
       "    .dataframe tbody tr th:only-of-type {\n",
       "        vertical-align: middle;\n",
       "    }\n",
       "\n",
       "    .dataframe tbody tr th {\n",
       "        vertical-align: top;\n",
       "    }\n",
       "\n",
       "    .dataframe thead th {\n",
       "        text-align: right;\n",
       "    }\n",
       "</style>\n",
       "<table border=\"1\" class=\"dataframe\">\n",
       "  <thead>\n",
       "    <tr style=\"text-align: right;\">\n",
       "      <th></th>\n",
       "      <th>Date</th>\n",
       "      <th>Open</th>\n",
       "      <th>High</th>\n",
       "      <th>Low</th>\n",
       "      <th>Close</th>\n",
       "      <th>Adj Close</th>\n",
       "      <th>Volume</th>\n",
       "      <th>return1</th>\n",
       "      <th>return2</th>\n",
       "      <th>return3</th>\n",
       "      <th>return</th>\n",
       "      <th>label</th>\n",
       "    </tr>\n",
       "  </thead>\n",
       "  <tbody>\n",
       "    <tr>\n",
       "      <th>0</th>\n",
       "      <td>20140205</td>\n",
       "      <td>8290.169922</td>\n",
       "      <td>8313.830078</td>\n",
       "      <td>8230.459961</td>\n",
       "      <td>8264.480469</td>\n",
       "      <td>8264.448242</td>\n",
       "      <td>3156100.0</td>\n",
       "      <td>1.005630</td>\n",
       "      <td>1.014867</td>\n",
       "      <td>1.015424</td>\n",
       "      <td>1.015424</td>\n",
       "      <td>1</td>\n",
       "    </tr>\n",
       "    <tr>\n",
       "      <th>1</th>\n",
       "      <td>20140206</td>\n",
       "      <td>8286.160156</td>\n",
       "      <td>8333.559570</td>\n",
       "      <td>8284.769531</td>\n",
       "      <td>8311.009766</td>\n",
       "      <td>8310.977539</td>\n",
       "      <td>2451100.0</td>\n",
       "      <td>1.009185</td>\n",
       "      <td>1.009739</td>\n",
       "      <td>1.014385</td>\n",
       "      <td>1.014385</td>\n",
       "      <td>1</td>\n",
       "    </tr>\n",
       "    <tr>\n",
       "      <th>2</th>\n",
       "      <td>20140207</td>\n",
       "      <td>8383.990234</td>\n",
       "      <td>8409.030273</td>\n",
       "      <td>8356.929688</td>\n",
       "      <td>8387.349609</td>\n",
       "      <td>8387.317383</td>\n",
       "      <td>2427200.0</td>\n",
       "      <td>1.000549</td>\n",
       "      <td>1.005152</td>\n",
       "      <td>1.014727</td>\n",
       "      <td>1.014727</td>\n",
       "      <td>1</td>\n",
       "    </tr>\n",
       "    <tr>\n",
       "      <th>3</th>\n",
       "      <td>20140210</td>\n",
       "      <td>8416.419922</td>\n",
       "      <td>8447.019531</td>\n",
       "      <td>8391.950195</td>\n",
       "      <td>8391.950195</td>\n",
       "      <td>8391.917969</td>\n",
       "      <td>2048200.0</td>\n",
       "      <td>1.004601</td>\n",
       "      <td>1.014171</td>\n",
       "      <td>1.009027</td>\n",
       "      <td>1.014171</td>\n",
       "      <td>1</td>\n",
       "    </tr>\n",
       "    <tr>\n",
       "      <th>4</th>\n",
       "      <td>20140211</td>\n",
       "      <td>8413.860352</td>\n",
       "      <td>8439.330078</td>\n",
       "      <td>8401.540039</td>\n",
       "      <td>8430.559570</td>\n",
       "      <td>8430.527344</td>\n",
       "      <td>1955500.0</td>\n",
       "      <td>1.009526</td>\n",
       "      <td>1.004405</td>\n",
       "      <td>1.009859</td>\n",
       "      <td>1.009859</td>\n",
       "      <td>1</td>\n",
       "    </tr>\n",
       "    <tr>\n",
       "      <th>...</th>\n",
       "      <td>...</td>\n",
       "      <td>...</td>\n",
       "      <td>...</td>\n",
       "      <td>...</td>\n",
       "      <td>...</td>\n",
       "      <td>...</td>\n",
       "      <td>...</td>\n",
       "      <td>...</td>\n",
       "      <td>...</td>\n",
       "      <td>...</td>\n",
       "      <td>...</td>\n",
       "      <td>...</td>\n",
       "    </tr>\n",
       "    <tr>\n",
       "      <th>1418</th>\n",
       "      <td>20191125</td>\n",
       "      <td>11590.809570</td>\n",
       "      <td>11604.750000</td>\n",
       "      <td>11559.330078</td>\n",
       "      <td>11561.580078</td>\n",
       "      <td>11561.580078</td>\n",
       "      <td>2150400.0</td>\n",
       "      <td>1.001318</td>\n",
       "      <td>1.007428</td>\n",
       "      <td>1.004800</td>\n",
       "      <td>1.007428</td>\n",
       "      <td>1</td>\n",
       "    </tr>\n",
       "    <tr>\n",
       "      <th>1419</th>\n",
       "      <td>20191126</td>\n",
       "      <td>11608.370117</td>\n",
       "      <td>11642.959961</td>\n",
       "      <td>11576.820313</td>\n",
       "      <td>11576.820313</td>\n",
       "      <td>11576.820313</td>\n",
       "      <td>3254400.0</td>\n",
       "      <td>1.006102</td>\n",
       "      <td>1.003478</td>\n",
       "      <td>0.992463</td>\n",
       "      <td>1.006102</td>\n",
       "      <td>1</td>\n",
       "    </tr>\n",
       "    <tr>\n",
       "      <th>1420</th>\n",
       "      <td>20191127</td>\n",
       "      <td>11590.809570</td>\n",
       "      <td>11651.730469</td>\n",
       "      <td>11590.809570</td>\n",
       "      <td>11647.459961</td>\n",
       "      <td>11647.459961</td>\n",
       "      <td>2166700.0</td>\n",
       "      <td>0.997392</td>\n",
       "      <td>0.986444</td>\n",
       "      <td>0.987583</td>\n",
       "      <td>0.997392</td>\n",
       "      <td>0</td>\n",
       "    </tr>\n",
       "    <tr>\n",
       "      <th>1421</th>\n",
       "      <td>20191128</td>\n",
       "      <td>11641.700195</td>\n",
       "      <td>11654.059570</td>\n",
       "      <td>11604.679688</td>\n",
       "      <td>11617.080078</td>\n",
       "      <td>11617.080078</td>\n",
       "      <td>1977000.0</td>\n",
       "      <td>0.989024</td>\n",
       "      <td>0.990165</td>\n",
       "      <td>0.992640</td>\n",
       "      <td>0.992640</td>\n",
       "      <td>0</td>\n",
       "    </tr>\n",
       "    <tr>\n",
       "      <th>1422</th>\n",
       "      <td>20191129</td>\n",
       "      <td>11616.879883</td>\n",
       "      <td>11623.589844</td>\n",
       "      <td>11485.160156</td>\n",
       "      <td>11489.570313</td>\n",
       "      <td>11489.570313</td>\n",
       "      <td>2296900.0</td>\n",
       "      <td>1.001154</td>\n",
       "      <td>1.003656</td>\n",
       "      <td>1.001819</td>\n",
       "      <td>1.003656</td>\n",
       "      <td>1</td>\n",
       "    </tr>\n",
       "  </tbody>\n",
       "</table>\n",
       "<p>1423 rows × 12 columns</p>\n",
       "</div>"
      ],
      "text/plain": [
       "          Date          Open          High           Low         Close  \\\n",
       "0     20140205   8290.169922   8313.830078   8230.459961   8264.480469   \n",
       "1     20140206   8286.160156   8333.559570   8284.769531   8311.009766   \n",
       "2     20140207   8383.990234   8409.030273   8356.929688   8387.349609   \n",
       "3     20140210   8416.419922   8447.019531   8391.950195   8391.950195   \n",
       "4     20140211   8413.860352   8439.330078   8401.540039   8430.559570   \n",
       "...        ...           ...           ...           ...           ...   \n",
       "1418  20191125  11590.809570  11604.750000  11559.330078  11561.580078   \n",
       "1419  20191126  11608.370117  11642.959961  11576.820313  11576.820313   \n",
       "1420  20191127  11590.809570  11651.730469  11590.809570  11647.459961   \n",
       "1421  20191128  11641.700195  11654.059570  11604.679688  11617.080078   \n",
       "1422  20191129  11616.879883  11623.589844  11485.160156  11489.570313   \n",
       "\n",
       "         Adj Close     Volume   return1   return2   return3    return  label  \n",
       "0      8264.448242  3156100.0  1.005630  1.014867  1.015424  1.015424      1  \n",
       "1      8310.977539  2451100.0  1.009185  1.009739  1.014385  1.014385      1  \n",
       "2      8387.317383  2427200.0  1.000549  1.005152  1.014727  1.014727      1  \n",
       "3      8391.917969  2048200.0  1.004601  1.014171  1.009027  1.014171      1  \n",
       "4      8430.527344  1955500.0  1.009526  1.004405  1.009859  1.009859      1  \n",
       "...            ...        ...       ...       ...       ...       ...    ...  \n",
       "1418  11561.580078  2150400.0  1.001318  1.007428  1.004800  1.007428      1  \n",
       "1419  11576.820313  3254400.0  1.006102  1.003478  0.992463  1.006102      1  \n",
       "1420  11647.459961  2166700.0  0.997392  0.986444  0.987583  0.997392      0  \n",
       "1421  11617.080078  1977000.0  0.989024  0.990165  0.992640  0.992640      0  \n",
       "1422  11489.570313  2296900.0  1.001154  1.003656  1.001819  1.003656      1  \n",
       "\n",
       "[1423 rows x 12 columns]"
      ]
     },
     "execution_count": 50,
     "metadata": {},
     "output_type": "execute_result"
    }
   ],
   "source": [
    "price"
   ]
  },
  {
   "cell_type": "code",
   "execution_count": 43,
   "metadata": {
    "scrolled": true
   },
   "outputs": [
    {
     "data": {
      "text/plain": [
       "tensor([0, 0, 0, 0, 0, 0, 1, 1, 1, 1, 1, 1, 1, 1, 1, 1, 1, 1, 1, 1, 1, 1, 1, 1,\n",
       "        1, 1, 1, 1, 1, 1, 1, 1, 1, 1, 1, 1, 1, 0, 0, 0, 1, 1, 1, 1, 1, 1, 1, 1,\n",
       "        1, 1, 0, 1, 1, 1, 1, 1, 1, 1, 1, 1, 1, 1, 1, 1, 1, 1, 1, 1, 1, 1, 1, 1,\n",
       "        1, 0, 0, 0, 0, 1, 1, 1, 1, 1, 1, 1, 0, 0, 1, 1, 1, 1, 1, 1, 1, 1, 1, 1,\n",
       "        1, 1, 1, 0, 0, 0, 0, 1, 1, 1, 1, 1, 1, 1, 1, 1, 1, 1, 1, 1, 1, 1, 1, 1,\n",
       "        1, 1, 1, 1, 1, 0, 0, 0], device='cuda:0')"
      ]
     },
     "execution_count": 43,
     "metadata": {},
     "output_type": "execute_result"
    }
   ],
   "source": [
    "predict"
   ]
  },
  {
   "cell_type": "code",
   "execution_count": null,
   "metadata": {},
   "outputs": [],
   "source": []
  }
 ],
 "metadata": {
  "kernelspec": {
   "display_name": "Python 3",
   "language": "python",
   "name": "python3"
  },
  "language_info": {
   "codemirror_mode": {
    "name": "ipython",
    "version": 3
   },
   "file_extension": ".py",
   "mimetype": "text/x-python",
   "name": "python",
   "nbconvert_exporter": "python",
   "pygments_lexer": "ipython3",
   "version": "3.6.8"
  }
 },
 "nbformat": 4,
 "nbformat_minor": 2
}
