{
 "cells": [
  {
   "cell_type": "code",
   "execution_count": 1,
   "metadata": {
    "scrolled": false
   },
   "outputs": [],
   "source": [
    "import pickle\n",
    "import SVO\n",
    "import neo4j\n",
    "import re\n",
    "import time\n",
    "import matplotlib.pyplot as plt\n",
    "from nltk.tokenize import sent_tokenize\n",
    "from multiprocessing import Process, Queue, Pool \n",
    "from tqdm import tqdm \n",
    "import boto3\n",
    "import os\n",
    "from cathay.config import ApplicationConfig\n",
    "from cathay.util.SimplePool.threadpool import ThreadPool\n",
    "from cathay.util.SimplePool.thread_job import ThreadJob"
   ]
  },
  {
   "cell_type": "markdown",
   "metadata": {},
   "source": [
    "# 讀檔"
   ]
  },
  {
   "cell_type": "code",
   "execution_count": 2,
   "metadata": {},
   "outputs": [],
   "source": [
    "with open(f\"{ApplicationConfig.get_reuters_path()}tesla.pkl\", 'rb') as f:\n",
    "    data = pickle.load(f)"
   ]
  },
  {
   "cell_type": "code",
   "execution_count": 3,
   "metadata": {},
   "outputs": [],
   "source": [
    "# 整理格式\n",
    "result = []\n",
    "data['date'] = data['date'].apply(lambda x:time.strptime(x.split('/')[0], '%B %d, %Y '))\n",
    "data['date'] = data['date'].apply(lambda x:time.strftime('%Y-%m-%d',x))\n",
    "result = data.to_dict('records')"
   ]
  },
  {
   "cell_type": "code",
   "execution_count": 4,
   "metadata": {},
   "outputs": [],
   "source": [
    "date_set = list(set([x['date'] for x in result]))\n",
    "date_set.sort(reverse=True)\n",
    "month_set = list(set([x[:7] for x in date_set]))\n",
    "month_set.sort(reverse=True)\n",
    "# month_set.pop(-1)"
   ]
  },
  {
   "cell_type": "code",
   "execution_count": 5,
   "metadata": {
    "scrolled": false
   },
   "outputs": [
    {
     "data": {
      "text/plain": [
       "<BarContainer object of 13 artists>"
      ]
     },
     "execution_count": 5,
     "metadata": {},
     "output_type": "execute_result"
    },
    {
     "data": {
      "image/png": "[encoded data removed]",
      "text/plain": [
       "<Figure size 1080x288 with 1 Axes>"
      ]
     },
     "metadata": {
      "needs_background": "light"
     },
     "output_type": "display_data"
    }
   ],
   "source": [
    "num = []\n",
    "for i in month_set:\n",
    "    num.append(len([x for x in result if i in x['date']]))\n",
    "\n",
    "plt.figure(figsize=(15,4))\n",
    "plt.bar(month_set, num, width = 0.5)"
   ]
  },
  {
   "cell_type": "code",
   "execution_count": 6,
   "metadata": {
    "scrolled": true
   },
   "outputs": [
    {
     "data": {
      "text/plain": [
       "1960"
      ]
     },
     "execution_count": 6,
     "metadata": {},
     "output_type": "execute_result"
    }
   ],
   "source": [
    "len(result)"
   ]
  },
  {
   "cell_type": "markdown",
   "metadata": {},
   "source": [
    "# Find SVO"
   ]
  },
  {
   "cell_type": "code",
   "execution_count": 7,
   "metadata": {
    "scrolled": true
   },
   "outputs": [
    {
     "data": {
      "text/plain": [
       "258"
      ]
     },
     "execution_count": 7,
     "metadata": {},
     "output_type": "execute_result"
    }
   ],
   "source": [
    "len(date_set)"
   ]
  },
  {
   "cell_type": "code",
   "execution_count": 8,
   "metadata": {
    "scrolled": false
   },
   "outputs": [
    {
     "name": "stdout",
     "output_type": "stream",
     "text": [
      "Reuters_Tesla_1 has already existed.\n"
     ]
    }
   ],
   "source": [
    "graph = neo4j.Neo4j_File()\n",
    "folder = 'Reuters_Tesla_1'\n",
    "# folder = 'Reuters_Huawei'\n",
    "graph.Create_Folder(folder, True)"
   ]
  },
  {
   "cell_type": "code",
   "execution_count": 9,
   "metadata": {},
   "outputs": [],
   "source": [
    "def do(sent, date, new, count, tag):  \n",
    "#     try:     \n",
    "        sent = re.sub(\"[+\\!\\/_$%^*()-+.:\\\"\\'“”]+|[+——！，。？、~@#￥%……&*（）：`]+\", '', sent)\n",
    "        sent = sent.replace('Headlines', '')\n",
    "        svo = SVO.SVO(sent)\n",
    "        svo_result = svo.find_svo()\n",
    "        if svo_result != 'Sentence can not find SVO.':\n",
    "            graph.ToFile(svo_result, sent, date, new, count, tag)\n",
    "        \n",
    "#     except Exception as e:\n",
    "#             print(e)"
   ]
  },
  {
   "cell_type": "code",
   "execution_count": 10,
   "metadata": {
    "scrolled": true
   },
   "outputs": [
    {
     "name": "stderr",
     "output_type": "stream",
     "text": [
      "100%|██████████| 258/258 [00:00<00:00, 276.05it/s]\n"
     ]
    },
    {
     "name": "stdout",
     "output_type": "stream",
     "text": [
      "103.40716028213501\n"
     ]
    }
   ],
   "source": [
    "if __name__ == '__main__':\n",
    "    news_id = []\n",
    "    sent_pool = []\n",
    "    t = ThreadPool(12)\n",
    "    start = time.time()\n",
    "    source = 'Reuters'\n",
    "    for date in tqdm(range(len(date_set))):\n",
    "        sentence = [x for x in result if x['date'] == date_set[date]]\n",
    "\n",
    "        for i in sentence:\n",
    "            new = hash(i['title']+i['date'])\n",
    "            if new not in [x['id'] for x in news_id]:\n",
    "                news_id.append({'id':new, 'title':i['title']+i['date'], 'text':i['text']})\n",
    "                sent = [s for s in sent_tokenize(i['text']) if 'Tesla' in s]\n",
    "                sent = [s for s in sent if s not in sent_pool]\n",
    "                sent_pool += sent\n",
    "                count = 0\n",
    "                \n",
    "                for j in range(len(sent)): \n",
    "                    if j == 0 and '-' in sent[j]:\n",
    "                        sent[j] = sent[j][sent[j].index('-')+1:]\n",
    "\n",
    "                    job = ThreadJob(do, (sent[j], i['date'], new, count, source))\n",
    "                    t.add_job(job)\n",
    "                    count += 1\n",
    "\n",
    "    t.start()\n",
    "    t.finish()  \n",
    "    end = time.time()\n",
    "    print(end-start)"
   ]
  },
  {
   "cell_type": "code",
   "execution_count": 11,
   "metadata": {},
   "outputs": [],
   "source": [
    "with open(ApplicationConfig.get_neo4j_svo_output_path()+folder+'/news_id.pkl', 'wb') as f:\n",
    "    pickle.dump(news_id, f)"
   ]
  },
  {
   "cell_type": "markdown",
   "metadata": {},
   "source": [
    "# News' Entity"
   ]
  },
  {
   "cell_type": "code",
   "execution_count": 12,
   "metadata": {},
   "outputs": [],
   "source": [
    "def name_entity(sent, Id, path, comprehend):\n",
    "    entity = []\n",
    "    \n",
    "    for text in sent:\n",
    "        entity += comprehend.detect_entities(Text=text, LanguageCode='en')['Entities']\n",
    "        \n",
    "    with open(path+'/'+str(Id)+'.pkl', 'wb') as f:\n",
    "        pickle.dump(entity, f)"
   ]
  },
  {
   "cell_type": "code",
   "execution_count": 13,
   "metadata": {
    "scrolled": false
   },
   "outputs": [
    {
     "name": "stderr",
     "output_type": "stream",
     "text": [
      "100%|██████████| 1050/1050 [00:00<00:00, 1479.03it/s]\n"
     ]
    },
    {
     "name": "stdout",
     "output_type": "stream",
     "text": [
      "221.61590003967285\n"
     ]
    }
   ],
   "source": [
    "# name_entity\n",
    "path = ApplicationConfig.get_neo4j_svo_output_path()+folder+'/name_entity'\n",
    "if not os.path.isdir(path):\n",
    "    os.mkdir(path)\n",
    "    print('Create Successfully')\n",
    "    \n",
    "aws_nlu_config =  ApplicationConfig.get_aws_nlu_config()\n",
    "comprehend = boto3.client(aws_access_key_id=aws_nlu_config['access_key'], aws_secret_access_key=aws_nlu_config['secret_key'], service_name='comprehend', region_name=aws_nlu_config['region'])\n",
    "t = ThreadPool(4)\n",
    "start = time.time()\n",
    "for i in tqdm(news_id):\n",
    "    sent = [s for s in sent_tokenize(i['text']) if 'Tesla' in s]\n",
    "#     name_entity(sent, i['id'], path, comprehend)\n",
    "    job = ThreadJob(name_entity, (sent, i['id'], path, comprehend))\n",
    "    t.add_job(job)\n",
    "    \n",
    "t.start()\n",
    "t.finish()      \n",
    "end = time.time()\n",
    "print(end-start)"
   ]
  },
  {
   "cell_type": "code",
   "execution_count": null,
   "metadata": {},
   "outputs": [],
   "source": []
  },
  {
   "cell_type": "code",
   "execution_count": 2,
   "metadata": {
    "scrolled": true
   },
   "outputs": [
    {
     "name": "stderr",
     "output_type": "stream",
     "text": [
      "/home/nlp/s3/Financial_News_Extraction/src/cathay/re/neo4j.py:312: SettingWithCopyWarning: \n",
      "A value is trying to be set on a copy of a slice from a DataFrame.\n",
      "Try using .loc[row_indexer,col_indexer] = value instead\n",
      "\n",
      "See the caveats in the documentation: http://pandas.pydata.org/pandas-docs/stable/user_guide/indexing.html#returning-a-view-versus-a-copy\n",
      "  tmp['token'] = tmp.apply(lambda x: nltk.word_tokenize(x['start']+x['end']), axis = 1)\n"
     ]
    },
    {
     "name": "stdout",
     "output_type": "stream",
     "text": [
      "Training word2vec model...\n",
      "Finished!\n"
     ]
    },
    {
     "data": {
      "text/plain": [
       "<neo4j.Save at 0x7f4d280e4048>"
      ]
     },
     "execution_count": 2,
     "metadata": {},
     "output_type": "execute_result"
    }
   ],
   "source": [
    "# 資料夾內的Node Integrate\n",
    "# Add Entity\n",
    "folder = 'Reuters_Tesla_1'\n",
    "neo4j.Save(folder)"
   ]
  },
  {
   "cell_type": "markdown",
   "metadata": {},
   "source": [
    "# 匯入Neo4j"
   ]
  },
  {
   "cell_type": "code",
   "execution_count": 3,
   "metadata": {
    "scrolled": true
   },
   "outputs": [],
   "source": [
    "load = neo4j.Csv2Neo4j()"
   ]
  },
  {
   "cell_type": "code",
   "execution_count": 4,
   "metadata": {
    "scrolled": true
   },
   "outputs": [],
   "source": [
    "folder = 'Reuters_Tesla'\n",
    "# import Node\n",
    "load.Load(folder)\n",
    "# import Relation\n",
    "load.Load(folder, False)"
   ]
  },
  {
   "cell_type": "markdown",
   "metadata": {},
   "source": [
    "# SNA指標"
   ]
  },
  {
   "cell_type": "code",
   "execution_count": null,
   "metadata": {
    "scrolled": false
   },
   "outputs": [],
   "source": [
    "graph = neo4j.SNA_Indicator(1)"
   ]
  },
  {
   "cell_type": "code",
   "execution_count": null,
   "metadata": {
    "scrolled": true
   },
   "outputs": [],
   "source": [
    "degree_centrality = graph.Centrality('Degree')\n",
    "graph.Plot(degree_centrality.iloc[1:6], 'Degree Centrality')\n",
    "\n",
    "degree_centrality = graph.Centrality('Degree', False)\n",
    "degree_centrality = degree_centrality.sort_values('2019-07-31', ascending = False)\n",
    "graph.Plot(degree_centrality.iloc[1:6], 'Degree Centrality')"
   ]
  },
  {
   "cell_type": "code",
   "execution_count": null,
   "metadata": {
    "scrolled": true
   },
   "outputs": [],
   "source": [
    "degree_centrality = graph.Centrality('Betweeness')\n",
    "graph.Plot(degree_centrality.iloc[1:6], 'Betweeness Centrality')\n",
    "\n",
    "degree_centrality = graph.Centrality('Betweeness', False)\n",
    "degree_centrality = degree_centrality.sort_values('2019-07-31', ascending = False)\n",
    "graph.Plot(degree_centrality.iloc[1:6], 'Betweeness Centrality')"
   ]
  },
  {
   "cell_type": "code",
   "execution_count": null,
   "metadata": {
    "scrolled": true
   },
   "outputs": [],
   "source": [
    "degree_centrality = graph.Centrality('Closeness')\n",
    "graph.Plot(degree_centrality.iloc[1:6], 'Closeness Centrality')\n",
    "\n",
    "degree_centrality = graph.Centrality('Closeness', False)\n",
    "degree_centrality = degree_centrality.sort_values('2019-07-31', ascending = False)\n",
    "graph.Plot(degree_centrality.iloc[1:6], 'Closeness Centrality')"
   ]
  },
  {
   "cell_type": "code",
   "execution_count": null,
   "metadata": {
    "scrolled": true
   },
   "outputs": [],
   "source": [
    "degree_centrality = graph.Centrality('PageRank')\n",
    "graph.Plot(degree_centrality.iloc[1:6], 'PageRank Centrality')\n",
    "\n",
    "degree_centrality = graph.Centrality('PageRank', False)\n",
    "degree_centrality = degree_centrality.sort_values('2019-07-31', ascending = False)\n",
    "graph.Plot(degree_centrality.iloc[1:6], 'PageRank Centrality')"
   ]
  },
  {
   "cell_type": "code",
   "execution_count": null,
   "metadata": {},
   "outputs": [],
   "source": [
    "graph.Plot(degree_centrality.iloc[1:10], 'PageRank Centrality')"
   ]
  },
  {
   "cell_type": "code",
   "execution_count": null,
   "metadata": {
    "scrolled": true
   },
   "outputs": [],
   "source": [
    "degree_centrality.sort_values('2019-07-31', ascending = False)"
   ]
  },
  {
   "cell_type": "markdown",
   "metadata": {},
   "source": [
    "# Stock Price"
   ]
  },
  {
   "cell_type": "code",
   "execution_count": null,
   "metadata": {
    "scrolled": true
   },
   "outputs": [],
   "source": [
    "price = graph.Load_data('dataset/us_stock_prices/FinancialData/TSLA/TSLA_history_prices_daily.csv', '2019-06-01')"
   ]
  },
  {
   "cell_type": "code",
   "execution_count": null,
   "metadata": {
    "scrolled": true
   },
   "outputs": [],
   "source": [
    "graph.Plot(price, 'Stock Price')"
   ]
  },
  {
   "cell_type": "markdown",
   "metadata": {},
   "source": [
    "# Create NetworkX from csv file"
   ]
  },
  {
   "cell_type": "code",
   "execution_count": 18,
   "metadata": {},
   "outputs": [],
   "source": [
    "from cathay.config import ApplicationConfig\n",
    "import pandas as pd\n",
    "import networkx as nx\n",
    "path = ApplicationConfig.get_neo4j_svo_output_path() + 'Reuters_Tesla'"
   ]
  },
  {
   "cell_type": "code",
   "execution_count": 16,
   "metadata": {},
   "outputs": [],
   "source": [
    "rel = pd.read_csv(path+'/Relation_revise.csv')\n",
    "Graphtype = nx.Graph()\n",
    "G = nx.from_pandas_edgelist(rel, 'start', 'end', create_using = Graphtype)"
   ]
  },
  {
   "cell_type": "markdown",
   "metadata": {},
   "source": [
    "# Train Node2Vec"
   ]
  },
  {
   "cell_type": "code",
   "execution_count": 47,
   "metadata": {},
   "outputs": [
    {
     "name": "stderr",
     "output_type": "stream",
     "text": [
      "Computing transition probabilities: 100%|██████████| 9882/9882 [00:11<00:00, 895.29it/s] \n"
     ]
    }
   ],
   "source": [
    "from node2vec import Node2Vec\n",
    "node2vec = Node2Vec(G, dimensions=128, walk_length=3, num_walks=200, workers=4)\n",
    "model = node2vec.fit(window=3, min_count=1, batch_words=4)\n",
    "# model.save('node2vec_model')"
   ]
  },
  {
   "cell_type": "code",
   "execution_count": 3,
   "metadata": {
    "scrolled": true
   },
   "outputs": [
    {
     "ename": "NameError",
     "evalue": "name 'model' is not defined",
     "output_type": "error",
     "traceback": [
      "\u001b[0;31m---------------------------------------------------------------------------\u001b[0m",
      "\u001b[0;31mNameError\u001b[0m                                 Traceback (most recent call last)",
      "\u001b[0;32m<ipython-input-3-aca7b7f21fc4>\u001b[0m in \u001b[0;36m<module>\u001b[0;34m\u001b[0m\n\u001b[0;32m----> 1\u001b[0;31m \u001b[0mmodel\u001b[0m\u001b[0;34m.\u001b[0m\u001b[0mmost_similar\u001b[0m\u001b[0;34m(\u001b[0m\u001b[0;34m'tesla'\u001b[0m\u001b[0;34m)\u001b[0m\u001b[0;34m\u001b[0m\u001b[0;34m\u001b[0m\u001b[0m\n\u001b[0m",
      "\u001b[0;31mNameError\u001b[0m: name 'model' is not defined"
     ]
    }
   ],
   "source": [
    "model.most_similar('tesla')"
   ]
  },
  {
   "cell_type": "code",
   "execution_count": null,
   "metadata": {},
   "outputs": [],
   "source": []
  },
  {
   "cell_type": "code",
   "execution_count": null,
   "metadata": {},
   "outputs": [],
   "source": []
  },
  {
   "cell_type": "code",
   "execution_count": null,
   "metadata": {},
   "outputs": [],
   "source": []
  },
  {
   "cell_type": "code",
   "execution_count": null,
   "metadata": {},
   "outputs": [],
   "source": []
  },
  {
   "cell_type": "code",
   "execution_count": null,
   "metadata": {},
   "outputs": [],
   "source": [
    "model.wv.most_similar('10') "
   ]
  },
  {
   "cell_type": "code",
   "execution_count": null,
   "metadata": {},
   "outputs": [],
   "source": [
    "model.save('node2vec_model')"
   ]
  },
  {
   "cell_type": "code",
   "execution_count": null,
   "metadata": {},
   "outputs": [],
   "source": []
  },
  {
   "cell_type": "code",
   "execution_count": 6,
   "metadata": {},
   "outputs": [],
   "source": [
    "from py2neo import Node, Relationship, Graph\n",
    "graph = Graph(\"http://13.112.207.201:7474/browser\", user = 'neo4j', password = 'neo4j@cathay')\n",
    "graph.delete_all()"
   ]
  },
  {
   "cell_type": "code",
   "execution_count": null,
   "metadata": {},
   "outputs": [],
   "source": []
  },
  {
   "cell_type": "code",
   "execution_count": null,
   "metadata": {},
   "outputs": [],
   "source": []
  }
 ],
 "metadata": {
  "kernelspec": {
   "display_name": "Python 3",
   "language": "python",
   "name": "python3"
  },
  "language_info": {
   "codemirror_mode": {
    "name": "ipython",
    "version": 3
   },
   "file_extension": ".py",
   "mimetype": "text/x-python",
   "name": "python",
   "nbconvert_exporter": "python",
   "pygments_lexer": "ipython3",
   "version": "3.6.8"
  }
 },
 "nbformat": 4,
 "nbformat_minor": 2
}
