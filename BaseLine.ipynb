{
 "cells": [
  {
   "cell_type": "code",
   "execution_count": 1,
   "metadata": {
    "scrolled": true
   },
   "outputs": [
    {
     "name": "stderr",
     "output_type": "stream",
     "text": [
      "Using TensorFlow backend.\n"
     ]
    }
   ],
   "source": [
    "import warnings\n",
    "warnings.filterwarnings(\"ignore\")\n",
    "\n",
    "import pandas as pd\n",
    "import numpy as np\n",
    "import pickle\n",
    "from striprtf.striprtf import rtf_to_text\n",
    "import string\n",
    "from os import listdir\n",
    "from datetime import datetime\n",
    "from tqdm import tqdm\n",
    "import cathay.re.SVO_final as SVO\n",
    "import re\n",
    "from cathay.config import ApplicationConfig\n",
    "import boto3\n",
    "from multiprocessing import Pool\n",
    "import torch.multiprocessing as mp\n",
    "import nltk\n",
    "from transformers import *\n",
    "import torch\n",
    "import torch.nn as nn\n",
    "from torch.utils.data import DataLoader, Dataset\n",
    "from torch import optim\n",
    "import torch.nn.functional as F\n",
    "from imblearn.under_sampling import RandomUnderSampler\n",
    "from imblearn.over_sampling import RandomOverSampler\n",
    "import matplotlib.pyplot as plt\n",
    "from collections import Counter\n",
    "from sklearn.metrics import recall_score\n",
    "from sklearn.metrics import precision_score"
   ]
  },
  {
   "cell_type": "code",
   "execution_count": null,
   "metadata": {},
   "outputs": [],
   "source": []
  },
  {
   "cell_type": "code",
   "execution_count": 45,
   "metadata": {},
   "outputs": [],
   "source": [
    "with open('2006-2013.pkl', 'rb') as f:\n",
    "    news = pickle.load(f)\n",
    "# with open('2006-2013.pkl', 'rb') as f:\n",
    "#     news = pickle.load(f)"
   ]
  },
  {
   "cell_type": "code",
   "execution_count": 46,
   "metadata": {
    "scrolled": false
   },
   "outputs": [
    {
     "data": {
      "text/html": [
       "<div>\n",
       "<style scoped>\n",
       "    .dataframe tbody tr th:only-of-type {\n",
       "        vertical-align: middle;\n",
       "    }\n",
       "\n",
       "    .dataframe tbody tr th {\n",
       "        vertical-align: top;\n",
       "    }\n",
       "\n",
       "    .dataframe thead th {\n",
       "        text-align: right;\n",
       "    }\n",
       "</style>\n",
       "<table border=\"1\" class=\"dataframe\">\n",
       "  <thead>\n",
       "    <tr style=\"text-align: right;\">\n",
       "      <th></th>\n",
       "      <th>id</th>\n",
       "      <th>title</th>\n",
       "      <th>date</th>\n",
       "      <th>source</th>\n",
       "      <th>document_body</th>\n",
       "    </tr>\n",
       "  </thead>\n",
       "  <tbody>\n",
       "    <tr>\n",
       "      <th>0</th>\n",
       "      <td>0</td>\n",
       "      <td>Exxon Mobil offers plan to end Alaska dispute</td>\n",
       "      <td>20061020</td>\n",
       "      <td>Reuters News</td>\n",
       "      <td>ANCHORAGE, Alaska  (Reuters) - Exxon Mobil ( ...</td>\n",
       "    </tr>\n",
       "    <tr>\n",
       "      <th>1</th>\n",
       "      <td>1</td>\n",
       "      <td>Hey buddy, can you spare $600 for a Google share?</td>\n",
       "      <td>20061020</td>\n",
       "      <td>Reuters News</td>\n",
       "      <td>SAN FRANCISCO/NEW YORK  (Reuters) - Wall Stre...</td>\n",
       "    </tr>\n",
       "    <tr>\n",
       "      <th>2</th>\n",
       "      <td>2</td>\n",
       "      <td>AOL CEO says sales may shrink for two years -p...</td>\n",
       "      <td>20061021</td>\n",
       "      <td>Reuters News</td>\n",
       "      <td>FRANKFURT  (Reuters) - Internet service provi...</td>\n",
       "    </tr>\n",
       "    <tr>\n",
       "      <th>3</th>\n",
       "      <td>3</td>\n",
       "      <td>Fed to keep hawkish tone, hold rates steady</td>\n",
       "      <td>20061022</td>\n",
       "      <td>Reuters News</td>\n",
       "      <td>WASHINGTON  (Reuters) - The central bank is e...</td>\n",
       "    </tr>\n",
       "    <tr>\n",
       "      <th>4</th>\n",
       "      <td>4</td>\n",
       "      <td>Pluspetrol says losing $2.4 mln/day in Peru pr...</td>\n",
       "      <td>20061021</td>\n",
       "      <td>Reuters News</td>\n",
       "      <td>LIMA, Peru  (Reuters) - Argentine oil company...</td>\n",
       "    </tr>\n",
       "  </tbody>\n",
       "</table>\n",
       "</div>"
      ],
      "text/plain": [
       "   id                                              title      date  \\\n",
       "0   0      Exxon Mobil offers plan to end Alaska dispute  20061020   \n",
       "1   1  Hey buddy, can you spare $600 for a Google share?  20061020   \n",
       "2   2  AOL CEO says sales may shrink for two years -p...  20061021   \n",
       "3   3        Fed to keep hawkish tone, hold rates steady  20061022   \n",
       "4   4  Pluspetrol says losing $2.4 mln/day in Peru pr...  20061021   \n",
       "\n",
       "         source                                      document_body  \n",
       "0  Reuters News   ANCHORAGE, Alaska  (Reuters) - Exxon Mobil ( ...  \n",
       "1  Reuters News   SAN FRANCISCO/NEW YORK  (Reuters) - Wall Stre...  \n",
       "2  Reuters News   FRANKFURT  (Reuters) - Internet service provi...  \n",
       "3  Reuters News   WASHINGTON  (Reuters) - The central bank is e...  \n",
       "4  Reuters News   LIMA, Peru  (Reuters) - Argentine oil company...  "
      ]
     },
     "execution_count": 46,
     "metadata": {},
     "output_type": "execute_result"
    }
   ],
   "source": [
    "news.head()"
   ]
  },
  {
   "cell_type": "code",
   "execution_count": 47,
   "metadata": {},
   "outputs": [],
   "source": [
    "news_dict = news.to_dict('records')"
   ]
  },
  {
   "cell_type": "code",
   "execution_count": 5,
   "metadata": {},
   "outputs": [],
   "source": [
    "tokenizer = BertTokenizer.from_pretrained('bert-base-uncased')\n",
    "bert = BertModel.from_pretrained('bert-base-uncased')"
   ]
  },
  {
   "cell_type": "code",
   "execution_count": 49,
   "metadata": {
    "scrolled": true
   },
   "outputs": [
    {
     "name": "stderr",
     "output_type": "stream",
     "text": [
      "100%|██████████| 2582/2582 [00:20<00:00, 124.74it/s]\n"
     ]
    }
   ],
   "source": [
    "datas = []\n",
    "for i in tqdm(list(set([x['date'] for x in news_dict]))):\n",
    "    tmp = {}\n",
    "    tmp['date'] = i\n",
    "    tmp['title'] = [x['title'] for x in news_dict if x['date'] == i]\n",
    "    datas.append(tmp)"
   ]
  },
  {
   "cell_type": "code",
   "execution_count": 50,
   "metadata": {
    "scrolled": true
   },
   "outputs": [],
   "source": [
    "def Tokenize(dataset):\n",
    "    datas = []\n",
    "    for data in tqdm(dataset):\n",
    "        tmp = {}\n",
    "        tmp['date'] = data['date']\n",
    "        titles = []\n",
    "        for i in data['title']:\n",
    "            titles.append(tokenizer.encode(i, add_special_tokens = False))\n",
    "        \n",
    "#         max_len = min(max([len(x) for x in titles]), 100)\n",
    "#         tmp['title'] = padding(titles, max_len)\n",
    "        tmp['title'] = titles\n",
    "        datas.append(tmp)\n",
    "    return datas"
   ]
  },
  {
   "cell_type": "code",
   "execution_count": 51,
   "metadata": {},
   "outputs": [],
   "source": [
    "def padding(arrs, max_len):\n",
    "    tmp = []\n",
    "    for arr in arrs:\n",
    "#         if len(arr) < max_len:\n",
    "#             arr += [0] * (max_len - len(arr))\n",
    "        if len(arr) > max_len:\n",
    "            arr = arr[-max_len:]\n",
    "        tmp.append(arr)\n",
    "    return tmp"
   ]
  },
  {
   "cell_type": "code",
   "execution_count": 52,
   "metadata": {
    "scrolled": false
   },
   "outputs": [
    {
     "name": "stderr",
     "output_type": "stream",
     "text": [
      "100%|██████████| 645/645 [00:12<00:00, 51.12it/s]\n",
      "100%|██████████| 645/645 [00:12<00:00, 50.57it/s]\n",
      "100%|██████████| 645/645 [00:13<00:00, 49.61it/s]\n",
      "100%|██████████| 647/647 [00:13<00:00, 49.56it/s]\n"
     ]
    }
   ],
   "source": [
    "n_workers = 4\n",
    "results = [None] * n_workers\n",
    "with Pool(processes=n_workers) as pool:\n",
    "    for i in range(n_workers):\n",
    "        batch_start = (len(datas) // n_workers) * i\n",
    "        if i == n_workers - 1:\n",
    "            batch_end = len(datas)\n",
    "        else:\n",
    "            batch_end = (len(datas) // n_workers) * (i + 1)\n",
    "\n",
    "        batch = datas[batch_start: batch_end]\n",
    "        results[i] = pool.apply_async(Tokenize, [batch])\n",
    "\n",
    "    pool.close()\n",
    "    pool.join()\n",
    "\n",
    "train_token = []\n",
    "for result in results:\n",
    "    train_token += result.get()"
   ]
  },
  {
   "cell_type": "code",
   "execution_count": 54,
   "metadata": {
    "scrolled": true
   },
   "outputs": [
    {
     "data": {
      "text/plain": [
       "2582"
      ]
     },
     "execution_count": 54,
     "metadata": {},
     "output_type": "execute_result"
    }
   ],
   "source": [
    "len(train_token)"
   ]
  },
  {
   "cell_type": "code",
   "execution_count": 53,
   "metadata": {},
   "outputs": [],
   "source": [
    "# with open('news_token_baseline_2006.pkl', 'wb') as f:\n",
    "#     pickle.dump(train_token, f)"
   ]
  },
  {
   "cell_type": "markdown",
   "metadata": {},
   "source": [
    "#### Embedding"
   ]
  },
  {
   "cell_type": "code",
   "execution_count": 2,
   "metadata": {},
   "outputs": [],
   "source": [
    "with open('news_token_baseline_2006.pkl', 'rb') as f:\n",
    "    train_token = pickle.load(f)"
   ]
  },
  {
   "cell_type": "code",
   "execution_count": 3,
   "metadata": {
    "scrolled": true
   },
   "outputs": [
    {
     "data": {
      "text/plain": [
       "2582"
      ]
     },
     "execution_count": 3,
     "metadata": {},
     "output_type": "execute_result"
    }
   ],
   "source": [
    "len(train_token)"
   ]
  },
  {
   "cell_type": "code",
   "execution_count": 6,
   "metadata": {},
   "outputs": [
    {
     "name": "stderr",
     "output_type": "stream",
     "text": [
      "100%|██████████| 2582/2582 [23:29<00:00,  1.83it/s]\n"
     ]
    }
   ],
   "source": [
    "bert.cuda()\n",
    "train_vector = []\n",
    "for data in tqdm(train_token):\n",
    "    tmp = {}\n",
    "    tmp['date'] = data['date']\n",
    "    \n",
    "    title = []\n",
    "    for i in data['title']:\n",
    "        with torch.no_grad():\n",
    "            a = bert(torch.tensor(i).unsqueeze(-1).cuda())[0]\n",
    "            a = a.view(a.shape[0], a.shape[2])\n",
    "            a = a.mean(0)\n",
    "            title.append(a)\n",
    "    \n",
    "    tmp['title'] = torch.stack(title).mean(0)\n",
    "    train_vector.append(tmp)"
   ]
  },
  {
   "cell_type": "code",
   "execution_count": 40,
   "metadata": {
    "scrolled": true
   },
   "outputs": [
    {
     "data": {
      "text/plain": [
       "2113"
      ]
     },
     "execution_count": 40,
     "metadata": {},
     "output_type": "execute_result"
    }
   ],
   "source": [
    "len(train_vector)"
   ]
  },
  {
   "cell_type": "code",
   "execution_count": 7,
   "metadata": {},
   "outputs": [],
   "source": [
    "with open('news_embedding_baseline_2006.pkl', 'wb') as f:\n",
    "    pickle.dump(train_vector, f)"
   ]
  },
  {
   "cell_type": "code",
   "execution_count": 41,
   "metadata": {},
   "outputs": [
    {
     "data": {
      "text/plain": [
       "{'date': '20151111',\n",
       " 'title': tensor([-2.9814e-01,  1.9915e-01,  8.5003e-03, -5.8908e-02,  2.5638e-01,\n",
       "         -1.0496e-01,  2.3041e-01,  2.7275e-01, -2.0072e-01, -4.6973e-01,\n",
       "         -2.0449e-01, -2.8971e-02, -5.3707e-02,  3.9974e-01, -3.3596e-02,\n",
       "          6.0066e-01,  1.5718e-01, -2.4711e-01,  1.8134e-01, -1.9898e-01,\n",
       "         -1.1929e-03, -2.2504e-01,  9.3367e-02,  1.2043e-01,  1.4268e-01,\n",
       "         -3.2855e-01,  2.3271e-01,  3.0097e-01, -2.2992e-01, -2.1422e-01,\n",
       "          5.4601e-03, -2.2308e-01, -3.4576e-02,  2.9997e-01, -1.8468e-02,\n",
       "          2.5136e-02,  1.1427e-01, -1.5328e-01, -2.0123e-01,  3.3301e-02,\n",
       "         -2.0474e-01, -3.2093e-01,  1.0514e-01, -8.4798e-02,  1.3630e-01,\n",
       "         -2.3105e-01, -3.3950e-01, -3.7217e-02,  7.6257e-02, -2.2213e-01,\n",
       "         -2.2348e-03,  3.6943e-01,  4.3467e-01, -2.7031e-01,  4.7039e-02,\n",
       "          4.4158e-01, -3.6026e-01, -1.0059e-01, -1.1358e-01, -2.6137e-01,\n",
       "          4.8928e-01, -2.8048e-01,  3.4601e-01, -4.5943e-01,  4.4375e-01,\n",
       "         -6.1133e-02, -3.1657e-01, -1.0151e-01, -2.4106e-01, -2.3394e-01,\n",
       "         -3.1311e-01,  5.7061e-02,  2.5509e-02, -1.1519e-01, -6.4296e-02,\n",
       "         -6.5578e-03, -2.0134e-02,  1.9856e-01,  2.6158e-01, -8.6759e-02,\n",
       "         -4.8214e-02,  2.4751e-01, -3.0261e-01,  4.7577e-01,  2.4918e-01,\n",
       "         -2.2257e-01,  6.7127e-02,  3.3246e-01, -3.8239e-02,  3.2963e-01,\n",
       "         -2.9820e-01, -5.5756e-02,  2.1706e-02, -3.7532e-02,  4.2648e-01,\n",
       "          2.9999e-01,  2.0131e-01,  1.6026e-01, -2.4475e-01, -3.9550e-02,\n",
       "          3.2182e-01, -7.1902e-02, -5.0751e-02, -5.1653e-02, -3.0580e-01,\n",
       "          2.3437e-01,  1.5593e-01, -3.5626e-01, -3.9688e-02, -1.7545e-01,\n",
       "          4.4193e-02,  2.2777e-01, -4.4669e-01, -8.4986e-02, -1.5773e-01,\n",
       "          6.0648e-02,  2.6277e-01,  4.2377e-02, -5.5352e-03, -2.6998e-01,\n",
       "          3.9369e-01,  1.2809e-01,  1.8489e-01,  7.2627e-01,  3.2811e-01,\n",
       "          7.8045e-02, -4.5359e-01,  2.8522e-01, -1.3307e-01, -2.4667e-02,\n",
       "          2.6496e-01,  3.6747e-01, -2.9478e-02, -5.8395e-03, -9.0347e-02,\n",
       "          6.8469e-02, -1.4962e-03, -1.3692e-01,  1.3619e-01, -3.1936e-01,\n",
       "         -2.9172e-01, -1.1145e-01,  2.4754e-02, -2.9707e-01, -1.4086e-01,\n",
       "         -2.2068e-01,  2.1094e-02, -1.3986e-01, -4.0110e-01,  1.8710e-01,\n",
       "          2.3487e-01,  1.3471e-02, -3.2622e-01,  2.4986e-02,  4.6251e-01,\n",
       "          1.1891e-01, -8.9438e-02, -6.8309e-02, -2.1122e-01,  5.7679e-03,\n",
       "          1.3762e-01, -1.0467e-01, -3.1873e-01, -1.1456e-01,  4.3764e-01,\n",
       "         -3.6588e-01, -1.2788e-01,  2.6340e-01, -1.7581e-02,  4.8351e-01,\n",
       "         -1.5339e-01, -3.2680e-01,  4.6122e-01,  8.5004e-02, -1.0162e-01,\n",
       "         -1.3366e-02,  2.1575e-01, -6.7646e-02,  1.0788e-02, -6.1619e-02,\n",
       "         -4.5989e-01,  3.1953e-01,  8.6874e-02,  4.8143e-02,  1.9793e-01,\n",
       "         -2.1548e-01,  3.5833e-01, -1.7893e-01,  3.7862e-01,  4.7986e-01,\n",
       "         -3.0512e-01, -3.6896e-01, -6.9295e-02,  1.0461e-01,  4.0057e-01,\n",
       "         -2.2612e-01,  1.3513e-01,  3.6441e-01, -5.3047e-02,  4.4333e-02,\n",
       "          1.6184e-01,  4.8485e-01, -1.1919e-01, -6.9701e-02, -4.5962e-01,\n",
       "          2.0222e-01,  1.3473e-01,  7.0426e-02,  1.1830e-01, -3.7862e-01,\n",
       "         -9.8568e-02,  4.9893e-03,  1.3316e-01, -1.9425e-01,  2.2443e-01,\n",
       "         -3.1602e-01,  1.0563e-01, -1.3587e-01, -6.8197e-02,  1.4829e-01,\n",
       "         -3.6735e-01, -1.3078e-01, -6.2199e-02,  1.2303e-01,  3.2149e-01,\n",
       "          7.1801e-02,  9.3350e-02, -8.5652e-02, -6.9580e-02,  4.4200e-01,\n",
       "         -8.3740e-02, -6.5596e-01,  3.7274e-01, -1.6398e-01, -8.0794e-02,\n",
       "          1.1767e-01,  1.1489e-01, -2.4702e-01,  2.3352e-01, -4.0012e-01,\n",
       "         -3.9546e-02,  2.3294e-01, -2.4765e-01,  1.2695e-01,  1.9415e-02,\n",
       "          1.8991e-02, -2.3202e-01,  1.3505e-01,  3.4680e-02,  9.7503e-02,\n",
       "         -5.3234e-01, -4.7366e-02, -5.7860e-03, -3.2320e-01, -1.5744e-01,\n",
       "         -5.9367e-01,  4.9262e-02, -3.6207e-02,  1.6686e-01,  5.1904e-02,\n",
       "          1.1483e-01,  2.0675e-01, -3.8537e-02, -1.0136e-01, -5.4018e-01,\n",
       "         -5.8257e-01, -6.1262e-01, -1.5047e-01,  3.7215e-01,  2.0329e-01,\n",
       "          6.7777e-01,  2.1194e-01, -3.9743e-01,  3.1677e-01, -2.5639e-01,\n",
       "         -4.8128e-02,  2.9624e-01, -1.9272e-01, -3.1276e-01,  1.7146e-01,\n",
       "         -2.6662e-01,  4.7148e-01,  1.9538e-01, -8.1633e-03, -2.5072e-01,\n",
       "         -3.1211e-03,  9.5269e-02, -1.9319e-01, -1.7890e-01, -1.5443e-01,\n",
       "          1.4116e-01, -1.3053e-01,  7.4164e-02, -1.9786e-01,  2.1324e-01,\n",
       "         -1.7618e-01, -1.7620e-01,  3.9075e-01,  1.5598e-01,  3.5195e-01,\n",
       "         -2.4777e-01,  3.3284e-01, -1.3267e-01,  2.4712e-01,  1.1246e-01,\n",
       "          8.0448e-02, -9.1788e-02, -1.5101e-03, -4.3175e+00, -1.9365e-01,\n",
       "         -6.8393e-02, -1.5156e-01,  2.0800e-01,  7.7178e-02,  1.4868e-02,\n",
       "         -3.8167e-01, -7.3213e-01,  2.0014e-01,  3.7758e-03, -2.4012e-03,\n",
       "          2.2010e-01,  2.1739e-01,  3.6027e-01, -2.3984e-01, -6.8132e-02,\n",
       "         -1.4385e-01, -3.6665e-02,  5.0296e-01,  3.3413e-01, -3.7756e-01,\n",
       "         -3.1443e-01,  1.7144e-01, -8.3396e-02, -2.0562e-01,  7.2337e-02,\n",
       "         -1.4435e-01, -5.9595e-01, -4.0025e-01,  1.7618e-01, -9.5984e-02,\n",
       "         -9.9839e-02, -2.3577e-01,  2.5592e-01,  2.1341e-01, -6.9053e-02,\n",
       "         -4.1324e-01,  1.2484e-01, -7.1646e-02, -3.3710e-01, -7.3366e-01,\n",
       "         -9.2248e-03,  2.9523e-01,  3.9720e-01,  1.0685e-01,  4.5459e-01,\n",
       "          9.7266e-02, -1.4277e-01,  3.0953e-01,  2.3070e-02,  1.4037e-01,\n",
       "          3.6613e-01, -5.7462e-01,  1.9182e-01,  2.5943e-01, -2.0890e-02,\n",
       "          3.2704e-02, -2.0541e-01, -4.1777e-01,  1.0619e-01,  1.8669e-01,\n",
       "         -2.3763e-01,  4.7412e-01, -3.7454e-01, -4.9629e-01, -4.5698e-01,\n",
       "          2.6175e-01,  2.6488e-01,  8.4343e-02, -6.5792e-01,  5.3596e-01,\n",
       "          4.6188e-02, -5.6353e-01, -2.3912e-01, -4.8139e-01,  2.7423e-01,\n",
       "         -5.9757e-02,  3.2645e-02,  3.8666e-02, -3.8522e-01, -6.3863e-02,\n",
       "          1.2896e-01,  3.2127e-01, -1.4211e-01, -1.4614e-01, -1.7190e-01,\n",
       "         -4.1880e-02, -2.6965e-01,  1.9516e-01, -3.4374e-02, -3.0495e-01,\n",
       "          1.2918e-01,  3.2443e-02,  1.5370e-01,  1.3820e-01,  4.7113e-01,\n",
       "          3.8824e-01,  1.8437e-02, -2.9961e-01, -6.3333e-02, -7.0196e-03,\n",
       "          1.3487e-01,  1.2516e-01,  3.4106e-01, -3.8784e-02,  1.5679e-02,\n",
       "          3.4135e-02,  3.4985e-01,  5.4841e-02,  1.4473e-01, -1.2603e-01,\n",
       "          1.2069e-01, -3.4791e-01,  2.2895e-01, -3.1713e-01,  7.8051e-02,\n",
       "          2.3646e-01,  1.3656e-01, -3.4771e-01, -2.8698e-01,  2.1400e-01,\n",
       "         -3.1824e-01,  1.1976e-01, -5.1974e-01,  2.0915e-01, -4.2609e-02,\n",
       "         -5.7837e-02, -8.1662e-03, -1.0767e-01,  2.0507e-01, -1.3374e-01,\n",
       "          2.6931e-01, -2.4073e-01, -1.6156e-02, -6.3745e-02, -1.8775e-01,\n",
       "         -4.3186e-01, -5.7075e-01, -2.4276e-01, -1.2436e-01,  3.6159e-01,\n",
       "         -3.2140e-01, -4.8799e-02,  3.5829e-01,  3.6865e-01, -4.2854e-01,\n",
       "          2.0927e-01, -2.5257e-02,  1.4276e-01, -2.2068e-01, -7.0236e-02,\n",
       "          3.2650e-01, -5.9872e-01,  4.4563e-01,  2.5392e-01,  2.5039e-01,\n",
       "         -2.3454e-02,  3.2605e-01, -3.0232e-01,  1.9786e-01, -2.3187e-01,\n",
       "         -4.1824e-02,  6.7575e-02, -4.0206e-01,  5.0861e-01, -1.6524e-01,\n",
       "          7.8152e-03,  2.2695e-01,  3.5279e-02, -2.5902e-01, -3.3044e-01,\n",
       "         -2.3744e-02, -2.7501e-01,  3.3835e-01,  5.4528e-01, -4.2606e-01,\n",
       "         -2.9063e-01, -8.5182e-02,  2.2551e-01, -7.6970e-02,  2.1663e-03,\n",
       "         -2.0631e-01,  2.2564e-01,  2.0815e-01, -7.6200e-02,  8.5655e-02,\n",
       "          3.1531e-02, -1.9463e-01,  2.6053e-01, -2.8871e-01, -2.3916e-01,\n",
       "         -4.1933e-01,  1.0009e-01, -2.9113e-01, -2.1681e-02,  2.4578e-01,\n",
       "         -3.7381e-01,  1.2736e-01, -1.7490e-01, -3.1079e-01, -3.1104e-01,\n",
       "          1.6041e-01, -6.1808e-02,  2.9113e-01, -5.0614e-02,  1.0560e-01,\n",
       "          1.8657e-01, -5.3750e-01,  2.4092e-01, -1.6311e-01, -2.4686e-02,\n",
       "          6.4974e-02, -1.2886e-01, -1.1914e-02, -4.7491e-02,  8.7861e-02,\n",
       "          6.6253e-01,  3.4734e-02, -2.1585e-02, -4.4319e-01, -8.6657e-02,\n",
       "          2.4489e-01,  5.6944e-02, -1.3696e-01, -6.0592e-01, -1.7545e-01,\n",
       "          3.1747e-01,  9.9018e-03,  3.9961e-02, -2.0845e-01, -3.0494e-01,\n",
       "          2.5517e-01,  1.8310e-02,  3.9785e-01, -2.5984e-02, -1.9713e-01,\n",
       "         -1.6062e-01,  3.4137e-02, -1.7308e-01,  1.1078e-01,  9.6280e-02,\n",
       "          1.4616e-01,  7.8548e-02,  1.4560e-01, -1.7902e-01,  2.7328e-01,\n",
       "         -1.6593e-01,  7.4343e-02,  5.1816e-01,  1.7093e-02, -4.5439e-01,\n",
       "         -9.9036e-02, -1.6042e-01, -4.0660e-02,  8.0538e-03, -2.3825e-01,\n",
       "          1.9443e-01, -8.2301e-02,  2.8350e-01, -9.1119e-02,  1.9167e-01,\n",
       "         -4.1123e-01,  7.3136e-02,  3.4674e-01,  1.3819e-01,  2.7834e-01,\n",
       "         -3.3948e-01,  6.6620e-01, -2.0304e-01,  1.2971e-02, -1.1105e-01,\n",
       "         -6.3910e-02, -3.5115e-02,  3.1082e-01,  4.3140e-01,  1.0895e-01,\n",
       "         -9.7014e-02, -1.0483e-02, -1.0402e-01, -2.8108e-01,  6.8988e-02,\n",
       "         -1.1471e-01,  1.9536e-01,  2.0549e-01, -3.6439e-01,  1.3273e-01,\n",
       "          3.0379e-02, -3.6352e-01,  1.3154e-01, -1.5599e-01,  9.4304e-02,\n",
       "          1.4794e-01, -4.4527e-01, -1.8388e-01,  2.1109e-01,  1.6637e-01,\n",
       "          4.2245e-02, -4.0198e-01, -1.6509e-01,  2.1770e-01, -1.5921e-01,\n",
       "          4.6510e-01, -7.5050e-03, -3.3622e-02,  3.0196e-01, -3.1393e-02,\n",
       "         -5.6820e-02,  1.8498e-01,  3.2626e-01,  1.7374e-01, -2.2989e-01,\n",
       "          5.7320e-02,  5.9254e-01, -3.2478e-01, -2.2922e-01,  5.2302e-02,\n",
       "          1.3489e-01,  4.0570e-01,  2.3532e-01, -3.0731e-02,  2.0434e-01,\n",
       "          3.8688e-01, -3.8199e-01,  7.4717e-02, -5.4861e-02,  8.4962e-02,\n",
       "         -2.2372e-01, -1.1735e-01,  2.8205e-01, -6.5135e-02,  5.3591e-01,\n",
       "          5.8947e-02,  4.5141e-01, -2.0726e-01, -2.8214e-01,  1.8869e-01,\n",
       "         -2.3487e-01,  4.9311e-02,  1.8320e-01, -3.3528e-02, -1.7528e-01,\n",
       "         -8.7983e-02,  4.4632e-01,  2.5535e-01,  6.3021e-01, -2.0909e-01,\n",
       "         -5.2335e-02, -2.7942e-01,  1.2185e-01,  2.7900e-01,  5.2478e-01,\n",
       "         -2.6562e-02, -1.6105e-01, -1.6002e-01,  2.0892e-02, -1.6378e-02,\n",
       "         -4.8196e-01, -2.4303e-01,  3.4778e-01,  9.3181e-02,  4.3962e-01,\n",
       "          4.7904e-01, -4.4281e-01, -3.3375e-01, -7.2109e-02,  7.3038e-01,\n",
       "          2.9747e-01, -6.1589e-02,  1.3133e-02,  8.1636e-03,  3.2879e-01,\n",
       "         -4.4726e-01,  1.2512e-01,  2.2998e-01, -1.9793e-01,  8.0162e-02,\n",
       "         -9.3709e-02, -7.0090e-03,  1.3506e-01,  3.1149e-01, -2.1170e-03,\n",
       "         -4.7640e-01, -1.1613e-01,  1.5355e-01, -6.0213e-02, -9.8113e-02,\n",
       "          1.1694e-01, -2.5617e-01, -4.5313e-02, -2.0926e-01, -3.2577e-01,\n",
       "         -1.1558e-01,  2.0780e-02, -3.0324e-01, -3.6397e-01,  1.1115e-01,\n",
       "          1.8125e-01,  3.1292e-01, -1.7669e-01,  1.6688e-01,  3.5031e-01,\n",
       "          1.0736e-02, -1.3655e-01, -8.8854e-02, -2.1623e-01,  2.1979e-01,\n",
       "          3.3817e-01, -3.7983e-01, -1.9153e-01,  1.5814e-01,  5.1910e-01,\n",
       "         -3.6150e-01,  3.3740e-01, -3.6318e-01, -6.6588e-01,  4.2001e-01,\n",
       "          1.5389e-01, -2.3276e-01, -2.5236e-01,  1.0630e-01,  4.9850e-02,\n",
       "         -5.4216e-02,  4.2151e-02, -3.9022e-01,  2.0338e-01, -2.9437e-01,\n",
       "          2.1427e-01,  2.7363e-02,  2.2803e-01, -5.7448e-01,  4.7045e-02,\n",
       "         -1.1000e-02, -7.1853e-03,  2.2501e-02, -2.7298e-01,  2.0287e-01,\n",
       "         -2.1748e-01,  1.8692e-02, -1.0288e-01,  9.0500e-02, -3.2830e-01,\n",
       "         -4.7417e-02,  7.2283e-03,  3.9691e-02,  7.7702e-03, -1.7475e-01,\n",
       "         -2.9967e-02, -2.9745e-01, -3.1275e-01,  5.6381e-02, -1.7348e-01,\n",
       "         -1.7422e-01, -1.3713e-01,  2.9180e-01, -5.6455e-01, -3.6767e-01,\n",
       "          1.1398e-01,  3.0307e-01,  1.4802e-01], device='cuda:0')}"
      ]
     },
     "execution_count": 41,
     "metadata": {},
     "output_type": "execute_result"
    }
   ],
   "source": [
    "train_vector[0]"
   ]
  },
  {
   "cell_type": "markdown",
   "metadata": {},
   "source": [
    "# BERT + LSTM"
   ]
  },
  {
   "cell_type": "code",
   "execution_count": 2,
   "metadata": {},
   "outputs": [],
   "source": [
    "with open('news_embedding_baseline_1.pkl', 'rb') as f:\n",
    "    train_vector = pickle.load(f)"
   ]
  },
  {
   "cell_type": "code",
   "execution_count": 3,
   "metadata": {},
   "outputs": [],
   "source": [
    "price = pd.read_csv('^TWII.csv')\n",
    "price['Date'] = price['Date'].apply(lambda x:x.replace('-', ''))\n",
    "price = price.dropna()\n",
    "price['return1'] = price.shift(-1)['Adj Close'] / price['Adj Close']\n",
    "price['return2'] = price.shift(-2)['Adj Close'] / price['Adj Close']\n",
    "price['return3'] = price.shift(-3)['Adj Close'] / price['Adj Close']\n",
    "# price['return4'] = price.shift(-3)['Adj Close'] / price['Adj Close']\n",
    "# price['return5'] = price.shift(-3)['Adj Close'] / price['Adj Close']\n",
    "\n",
    "price = price.dropna()\n",
    "price['return'] = price.apply(lambda x:max([x['return1'], x['return2'], x['return3']]), axis=1)\n",
    "# price['down'] = price.apply(lambda x:min([x['return1'], x['return2'], x['return3']]), axis=1)\n",
    "price = price.reset_index(drop=True)"
   ]
  },
  {
   "cell_type": "code",
   "execution_count": 22,
   "metadata": {
    "scrolled": true
   },
   "outputs": [
    {
     "ename": "KeyboardInterrupt",
     "evalue": "",
     "output_type": "error",
     "traceback": [
      "\u001b[0;31m---------------------------------------------------------------------------\u001b[0m",
      "\u001b[0;31mKeyboardInterrupt\u001b[0m                         Traceback (most recent call last)",
      "\u001b[0;32m<ipython-input-22-391d2f2a217b>\u001b[0m in \u001b[0;36m<module>\u001b[0;34m\u001b[0m\n\u001b[1;32m      3\u001b[0m     \u001b[0;32mfor\u001b[0m \u001b[0mj\u001b[0m \u001b[0;32min\u001b[0m \u001b[0;34m[\u001b[0m\u001b[0;34m'return1'\u001b[0m\u001b[0;34m,\u001b[0m \u001b[0;34m'return2'\u001b[0m\u001b[0;34m,\u001b[0m \u001b[0;34m'return3'\u001b[0m\u001b[0;34m]\u001b[0m\u001b[0;34m:\u001b[0m\u001b[0;34m\u001b[0m\u001b[0;34m\u001b[0m\u001b[0m\n\u001b[1;32m      4\u001b[0m         \u001b[0;32mif\u001b[0m \u001b[0mprice\u001b[0m\u001b[0;34m.\u001b[0m\u001b[0mloc\u001b[0m\u001b[0;34m[\u001b[0m\u001b[0mi\u001b[0m\u001b[0;34m,\u001b[0m \u001b[0mj\u001b[0m\u001b[0;34m]\u001b[0m \u001b[0;34m>=\u001b[0m \u001b[0;36m1.007\u001b[0m\u001b[0;34m:\u001b[0m\u001b[0;34m\u001b[0m\u001b[0;34m\u001b[0m\u001b[0m\n\u001b[0;32m----> 5\u001b[0;31m             \u001b[0mprice\u001b[0m\u001b[0;34m.\u001b[0m\u001b[0mloc\u001b[0m\u001b[0;34m[\u001b[0m\u001b[0mi\u001b[0m\u001b[0;34m,\u001b[0m \u001b[0;34m'label'\u001b[0m\u001b[0;34m]\u001b[0m \u001b[0;34m=\u001b[0m \u001b[0;36m1\u001b[0m\u001b[0;34m\u001b[0m\u001b[0;34m\u001b[0m\u001b[0m\n\u001b[0m\u001b[1;32m      6\u001b[0m             \u001b[0;32mbreak\u001b[0m\u001b[0;34m\u001b[0m\u001b[0;34m\u001b[0m\u001b[0m\n\u001b[1;32m      7\u001b[0m         \u001b[0;32melif\u001b[0m \u001b[0mprice\u001b[0m\u001b[0;34m.\u001b[0m\u001b[0mloc\u001b[0m\u001b[0;34m[\u001b[0m\u001b[0mi\u001b[0m\u001b[0;34m,\u001b[0m \u001b[0mj\u001b[0m\u001b[0;34m]\u001b[0m \u001b[0;34m<=\u001b[0m \u001b[0;36m0.993\u001b[0m\u001b[0;34m:\u001b[0m\u001b[0;34m\u001b[0m\u001b[0;34m\u001b[0m\u001b[0m\n",
      "\u001b[0;32m~/.local/lib/python3.6/site-packages/pandas/core/indexing.py\u001b[0m in \u001b[0;36m__setitem__\u001b[0;34m(self, key, value)\u001b[0m\n\u001b[1;32m    669\u001b[0m             \u001b[0mkey\u001b[0m \u001b[0;34m=\u001b[0m \u001b[0mcom\u001b[0m\u001b[0;34m.\u001b[0m\u001b[0mapply_if_callable\u001b[0m\u001b[0;34m(\u001b[0m\u001b[0mkey\u001b[0m\u001b[0;34m,\u001b[0m \u001b[0mself\u001b[0m\u001b[0;34m.\u001b[0m\u001b[0mobj\u001b[0m\u001b[0;34m)\u001b[0m\u001b[0;34m\u001b[0m\u001b[0;34m\u001b[0m\u001b[0m\n\u001b[1;32m    670\u001b[0m         \u001b[0mindexer\u001b[0m \u001b[0;34m=\u001b[0m \u001b[0mself\u001b[0m\u001b[0;34m.\u001b[0m\u001b[0m_get_setitem_indexer\u001b[0m\u001b[0;34m(\u001b[0m\u001b[0mkey\u001b[0m\u001b[0;34m)\u001b[0m\u001b[0;34m\u001b[0m\u001b[0;34m\u001b[0m\u001b[0m\n\u001b[0;32m--> 671\u001b[0;31m         \u001b[0mself\u001b[0m\u001b[0;34m.\u001b[0m\u001b[0m_setitem_with_indexer\u001b[0m\u001b[0;34m(\u001b[0m\u001b[0mindexer\u001b[0m\u001b[0;34m,\u001b[0m \u001b[0mvalue\u001b[0m\u001b[0;34m)\u001b[0m\u001b[0;34m\u001b[0m\u001b[0;34m\u001b[0m\u001b[0m\n\u001b[0m\u001b[1;32m    672\u001b[0m \u001b[0;34m\u001b[0m\u001b[0m\n\u001b[1;32m    673\u001b[0m     \u001b[0;32mdef\u001b[0m \u001b[0m_validate_key\u001b[0m\u001b[0;34m(\u001b[0m\u001b[0mself\u001b[0m\u001b[0;34m,\u001b[0m \u001b[0mkey\u001b[0m\u001b[0;34m,\u001b[0m \u001b[0maxis\u001b[0m\u001b[0;34m:\u001b[0m \u001b[0mint\u001b[0m\u001b[0;34m)\u001b[0m\u001b[0;34m:\u001b[0m\u001b[0;34m\u001b[0m\u001b[0;34m\u001b[0m\u001b[0m\n",
      "\u001b[0;32m~/.local/lib/python3.6/site-packages/pandas/core/indexing.py\u001b[0m in \u001b[0;36m_setitem_with_indexer\u001b[0;34m(self, indexer, value)\u001b[0m\n\u001b[1;32m   1027\u001b[0m                 \u001b[0;31m# scalar\u001b[0m\u001b[0;34m\u001b[0m\u001b[0;34m\u001b[0m\u001b[0;34m\u001b[0m\u001b[0m\n\u001b[1;32m   1028\u001b[0m                 \u001b[0;32mfor\u001b[0m \u001b[0mitem\u001b[0m \u001b[0;32min\u001b[0m \u001b[0mlabels\u001b[0m\u001b[0;34m:\u001b[0m\u001b[0;34m\u001b[0m\u001b[0;34m\u001b[0m\u001b[0m\n\u001b[0;32m-> 1029\u001b[0;31m                     \u001b[0msetter\u001b[0m\u001b[0;34m(\u001b[0m\u001b[0mitem\u001b[0m\u001b[0;34m,\u001b[0m \u001b[0mvalue\u001b[0m\u001b[0;34m)\u001b[0m\u001b[0;34m\u001b[0m\u001b[0;34m\u001b[0m\u001b[0m\n\u001b[0m\u001b[1;32m   1030\u001b[0m \u001b[0;34m\u001b[0m\u001b[0m\n\u001b[1;32m   1031\u001b[0m         \u001b[0;32melse\u001b[0m\u001b[0;34m:\u001b[0m\u001b[0;34m\u001b[0m\u001b[0;34m\u001b[0m\u001b[0m\n",
      "\u001b[0;32m~/.local/lib/python3.6/site-packages/pandas/core/indexing.py\u001b[0m in \u001b[0;36msetter\u001b[0;34m(item, v)\u001b[0m\n\u001b[1;32m    960\u001b[0m                     \u001b[0ms\u001b[0m\u001b[0;34m.\u001b[0m\u001b[0m_consolidate_inplace\u001b[0m\u001b[0;34m(\u001b[0m\u001b[0;34m)\u001b[0m\u001b[0;34m\u001b[0m\u001b[0;34m\u001b[0m\u001b[0m\n\u001b[1;32m    961\u001b[0m                     \u001b[0ms\u001b[0m \u001b[0;34m=\u001b[0m \u001b[0ms\u001b[0m\u001b[0;34m.\u001b[0m\u001b[0mcopy\u001b[0m\u001b[0;34m(\u001b[0m\u001b[0;34m)\u001b[0m\u001b[0;34m\u001b[0m\u001b[0;34m\u001b[0m\u001b[0m\n\u001b[0;32m--> 962\u001b[0;31m                     \u001b[0ms\u001b[0m\u001b[0;34m.\u001b[0m\u001b[0m_data\u001b[0m \u001b[0;34m=\u001b[0m \u001b[0ms\u001b[0m\u001b[0;34m.\u001b[0m\u001b[0m_data\u001b[0m\u001b[0;34m.\u001b[0m\u001b[0msetitem\u001b[0m\u001b[0;34m(\u001b[0m\u001b[0mindexer\u001b[0m\u001b[0;34m=\u001b[0m\u001b[0mpi\u001b[0m\u001b[0;34m,\u001b[0m \u001b[0mvalue\u001b[0m\u001b[0;34m=\u001b[0m\u001b[0mv\u001b[0m\u001b[0;34m)\u001b[0m\u001b[0;34m\u001b[0m\u001b[0;34m\u001b[0m\u001b[0m\n\u001b[0m\u001b[1;32m    963\u001b[0m                     \u001b[0ms\u001b[0m\u001b[0;34m.\u001b[0m\u001b[0m_maybe_update_cacher\u001b[0m\u001b[0;34m(\u001b[0m\u001b[0mclear\u001b[0m\u001b[0;34m=\u001b[0m\u001b[0;32mTrue\u001b[0m\u001b[0;34m)\u001b[0m\u001b[0;34m\u001b[0m\u001b[0;34m\u001b[0m\u001b[0m\n\u001b[1;32m    964\u001b[0m \u001b[0;34m\u001b[0m\u001b[0m\n",
      "\u001b[0;32m~/.local/lib/python3.6/site-packages/pandas/core/internals/managers.py\u001b[0m in \u001b[0;36msetitem\u001b[0;34m(self, **kwargs)\u001b[0m\n\u001b[1;32m    559\u001b[0m \u001b[0;34m\u001b[0m\u001b[0m\n\u001b[1;32m    560\u001b[0m     \u001b[0;32mdef\u001b[0m \u001b[0msetitem\u001b[0m\u001b[0;34m(\u001b[0m\u001b[0mself\u001b[0m\u001b[0;34m,\u001b[0m \u001b[0;34m**\u001b[0m\u001b[0mkwargs\u001b[0m\u001b[0;34m)\u001b[0m\u001b[0;34m:\u001b[0m\u001b[0;34m\u001b[0m\u001b[0;34m\u001b[0m\u001b[0m\n\u001b[0;32m--> 561\u001b[0;31m         \u001b[0;32mreturn\u001b[0m \u001b[0mself\u001b[0m\u001b[0;34m.\u001b[0m\u001b[0mapply\u001b[0m\u001b[0;34m(\u001b[0m\u001b[0;34m\"setitem\"\u001b[0m\u001b[0;34m,\u001b[0m \u001b[0;34m**\u001b[0m\u001b[0mkwargs\u001b[0m\u001b[0;34m)\u001b[0m\u001b[0;34m\u001b[0m\u001b[0;34m\u001b[0m\u001b[0m\n\u001b[0m\u001b[1;32m    562\u001b[0m \u001b[0;34m\u001b[0m\u001b[0m\n\u001b[1;32m    563\u001b[0m     \u001b[0;32mdef\u001b[0m \u001b[0mputmask\u001b[0m\u001b[0;34m(\u001b[0m\u001b[0mself\u001b[0m\u001b[0;34m,\u001b[0m \u001b[0;34m**\u001b[0m\u001b[0mkwargs\u001b[0m\u001b[0;34m)\u001b[0m\u001b[0;34m:\u001b[0m\u001b[0;34m\u001b[0m\u001b[0;34m\u001b[0m\u001b[0m\n",
      "\u001b[0;32m~/.local/lib/python3.6/site-packages/pandas/core/internals/managers.py\u001b[0m in \u001b[0;36mapply\u001b[0;34m(self, f, filter, **kwargs)\u001b[0m\n\u001b[1;32m    440\u001b[0m                 \u001b[0mapplied\u001b[0m \u001b[0;34m=\u001b[0m \u001b[0mb\u001b[0m\u001b[0;34m.\u001b[0m\u001b[0mapply\u001b[0m\u001b[0;34m(\u001b[0m\u001b[0mf\u001b[0m\u001b[0;34m,\u001b[0m \u001b[0;34m**\u001b[0m\u001b[0mkwargs\u001b[0m\u001b[0;34m)\u001b[0m\u001b[0;34m\u001b[0m\u001b[0;34m\u001b[0m\u001b[0m\n\u001b[1;32m    441\u001b[0m             \u001b[0;32melse\u001b[0m\u001b[0;34m:\u001b[0m\u001b[0;34m\u001b[0m\u001b[0;34m\u001b[0m\u001b[0m\n\u001b[0;32m--> 442\u001b[0;31m                 \u001b[0mapplied\u001b[0m \u001b[0;34m=\u001b[0m \u001b[0mgetattr\u001b[0m\u001b[0;34m(\u001b[0m\u001b[0mb\u001b[0m\u001b[0;34m,\u001b[0m \u001b[0mf\u001b[0m\u001b[0;34m)\u001b[0m\u001b[0;34m(\u001b[0m\u001b[0;34m**\u001b[0m\u001b[0mkwargs\u001b[0m\u001b[0;34m)\u001b[0m\u001b[0;34m\u001b[0m\u001b[0;34m\u001b[0m\u001b[0m\n\u001b[0m\u001b[1;32m    443\u001b[0m             \u001b[0mresult_blocks\u001b[0m \u001b[0;34m=\u001b[0m \u001b[0m_extend_blocks\u001b[0m\u001b[0;34m(\u001b[0m\u001b[0mapplied\u001b[0m\u001b[0;34m,\u001b[0m \u001b[0mresult_blocks\u001b[0m\u001b[0;34m)\u001b[0m\u001b[0;34m\u001b[0m\u001b[0;34m\u001b[0m\u001b[0m\n\u001b[1;32m    444\u001b[0m \u001b[0;34m\u001b[0m\u001b[0m\n",
      "\u001b[0;32m~/.local/lib/python3.6/site-packages/pandas/core/internals/blocks.py\u001b[0m in \u001b[0;36msetitem\u001b[0;34m(self, indexer, value)\u001b[0m\n\u001b[1;32m    916\u001b[0m         \u001b[0;32mif\u001b[0m \u001b[0mtranspose\u001b[0m\u001b[0;34m:\u001b[0m\u001b[0;34m\u001b[0m\u001b[0;34m\u001b[0m\u001b[0m\n\u001b[1;32m    917\u001b[0m             \u001b[0mvalues\u001b[0m \u001b[0;34m=\u001b[0m \u001b[0mvalues\u001b[0m\u001b[0;34m.\u001b[0m\u001b[0mT\u001b[0m\u001b[0;34m\u001b[0m\u001b[0;34m\u001b[0m\u001b[0m\n\u001b[0;32m--> 918\u001b[0;31m         \u001b[0mblock\u001b[0m \u001b[0;34m=\u001b[0m \u001b[0mself\u001b[0m\u001b[0;34m.\u001b[0m\u001b[0mmake_block\u001b[0m\u001b[0;34m(\u001b[0m\u001b[0mvalues\u001b[0m\u001b[0;34m)\u001b[0m\u001b[0;34m\u001b[0m\u001b[0;34m\u001b[0m\u001b[0m\n\u001b[0m\u001b[1;32m    919\u001b[0m         \u001b[0;32mreturn\u001b[0m \u001b[0mblock\u001b[0m\u001b[0;34m\u001b[0m\u001b[0;34m\u001b[0m\u001b[0m\n\u001b[1;32m    920\u001b[0m \u001b[0;34m\u001b[0m\u001b[0m\n",
      "\u001b[0;32m~/.local/lib/python3.6/site-packages/pandas/core/internals/blocks.py\u001b[0m in \u001b[0;36mmake_block\u001b[0;34m(self, values, placement)\u001b[0m\n\u001b[1;32m    271\u001b[0m             \u001b[0mplacement\u001b[0m \u001b[0;34m=\u001b[0m \u001b[0mself\u001b[0m\u001b[0;34m.\u001b[0m\u001b[0mmgr_locs\u001b[0m\u001b[0;34m\u001b[0m\u001b[0;34m\u001b[0m\u001b[0m\n\u001b[1;32m    272\u001b[0m \u001b[0;34m\u001b[0m\u001b[0m\n\u001b[0;32m--> 273\u001b[0;31m         \u001b[0;32mreturn\u001b[0m \u001b[0mmake_block\u001b[0m\u001b[0;34m(\u001b[0m\u001b[0mvalues\u001b[0m\u001b[0;34m,\u001b[0m \u001b[0mplacement\u001b[0m\u001b[0;34m=\u001b[0m\u001b[0mplacement\u001b[0m\u001b[0;34m,\u001b[0m \u001b[0mndim\u001b[0m\u001b[0;34m=\u001b[0m\u001b[0mself\u001b[0m\u001b[0;34m.\u001b[0m\u001b[0mndim\u001b[0m\u001b[0;34m)\u001b[0m\u001b[0;34m\u001b[0m\u001b[0;34m\u001b[0m\u001b[0m\n\u001b[0m\u001b[1;32m    274\u001b[0m \u001b[0;34m\u001b[0m\u001b[0m\n\u001b[1;32m    275\u001b[0m     \u001b[0;32mdef\u001b[0m \u001b[0mmake_block_same_class\u001b[0m\u001b[0;34m(\u001b[0m\u001b[0mself\u001b[0m\u001b[0;34m,\u001b[0m \u001b[0mvalues\u001b[0m\u001b[0;34m,\u001b[0m \u001b[0mplacement\u001b[0m\u001b[0;34m=\u001b[0m\u001b[0;32mNone\u001b[0m\u001b[0;34m,\u001b[0m \u001b[0mndim\u001b[0m\u001b[0;34m=\u001b[0m\u001b[0;32mNone\u001b[0m\u001b[0;34m)\u001b[0m\u001b[0;34m:\u001b[0m\u001b[0;34m\u001b[0m\u001b[0;34m\u001b[0m\u001b[0m\n",
      "\u001b[0;32m~/.local/lib/python3.6/site-packages/pandas/core/internals/blocks.py\u001b[0m in \u001b[0;36mmake_block\u001b[0;34m(values, placement, klass, ndim, dtype)\u001b[0m\n\u001b[1;32m   3038\u001b[0m     \u001b[0;32mif\u001b[0m \u001b[0mklass\u001b[0m \u001b[0;32mis\u001b[0m \u001b[0;32mNone\u001b[0m\u001b[0;34m:\u001b[0m\u001b[0;34m\u001b[0m\u001b[0;34m\u001b[0m\u001b[0m\n\u001b[1;32m   3039\u001b[0m         \u001b[0mdtype\u001b[0m \u001b[0;34m=\u001b[0m \u001b[0mdtype\u001b[0m \u001b[0;32mor\u001b[0m \u001b[0mvalues\u001b[0m\u001b[0;34m.\u001b[0m\u001b[0mdtype\u001b[0m\u001b[0;34m\u001b[0m\u001b[0;34m\u001b[0m\u001b[0m\n\u001b[0;32m-> 3040\u001b[0;31m         \u001b[0mklass\u001b[0m \u001b[0;34m=\u001b[0m \u001b[0mget_block_type\u001b[0m\u001b[0;34m(\u001b[0m\u001b[0mvalues\u001b[0m\u001b[0;34m,\u001b[0m \u001b[0mdtype\u001b[0m\u001b[0;34m)\u001b[0m\u001b[0;34m\u001b[0m\u001b[0;34m\u001b[0m\u001b[0m\n\u001b[0m\u001b[1;32m   3041\u001b[0m \u001b[0;34m\u001b[0m\u001b[0m\n\u001b[1;32m   3042\u001b[0m     \u001b[0;32melif\u001b[0m \u001b[0mklass\u001b[0m \u001b[0;32mis\u001b[0m \u001b[0mDatetimeTZBlock\u001b[0m \u001b[0;32mand\u001b[0m \u001b[0;32mnot\u001b[0m \u001b[0mis_datetime64tz_dtype\u001b[0m\u001b[0;34m(\u001b[0m\u001b[0mvalues\u001b[0m\u001b[0;34m)\u001b[0m\u001b[0;34m:\u001b[0m\u001b[0;34m\u001b[0m\u001b[0;34m\u001b[0m\u001b[0m\n",
      "\u001b[0;32m~/.local/lib/python3.6/site-packages/pandas/core/internals/blocks.py\u001b[0m in \u001b[0;36mget_block_type\u001b[0;34m(values, dtype)\u001b[0m\n\u001b[1;32m   3003\u001b[0m         \u001b[0;32massert\u001b[0m \u001b[0;32mnot\u001b[0m \u001b[0mis_datetime64tz_dtype\u001b[0m\u001b[0;34m(\u001b[0m\u001b[0mvalues\u001b[0m\u001b[0;34m)\u001b[0m\u001b[0;34m\u001b[0m\u001b[0;34m\u001b[0m\u001b[0m\n\u001b[1;32m   3004\u001b[0m         \u001b[0mcls\u001b[0m \u001b[0;34m=\u001b[0m \u001b[0mDatetimeBlock\u001b[0m\u001b[0;34m\u001b[0m\u001b[0;34m\u001b[0m\u001b[0m\n\u001b[0;32m-> 3005\u001b[0;31m     \u001b[0;32melif\u001b[0m \u001b[0mis_datetime64tz_dtype\u001b[0m\u001b[0;34m(\u001b[0m\u001b[0mvalues\u001b[0m\u001b[0;34m)\u001b[0m\u001b[0;34m:\u001b[0m\u001b[0;34m\u001b[0m\u001b[0;34m\u001b[0m\u001b[0m\n\u001b[0m\u001b[1;32m   3006\u001b[0m         \u001b[0mcls\u001b[0m \u001b[0;34m=\u001b[0m \u001b[0mDatetimeTZBlock\u001b[0m\u001b[0;34m\u001b[0m\u001b[0;34m\u001b[0m\u001b[0m\n\u001b[1;32m   3007\u001b[0m     \u001b[0;32melif\u001b[0m \u001b[0mis_interval_dtype\u001b[0m\u001b[0;34m(\u001b[0m\u001b[0mdtype\u001b[0m\u001b[0;34m)\u001b[0m \u001b[0;32mor\u001b[0m \u001b[0mis_period_dtype\u001b[0m\u001b[0;34m(\u001b[0m\u001b[0mdtype\u001b[0m\u001b[0;34m)\u001b[0m\u001b[0;34m:\u001b[0m\u001b[0;34m\u001b[0m\u001b[0;34m\u001b[0m\u001b[0m\n",
      "\u001b[0;32m~/.local/lib/python3.6/site-packages/pandas/core/dtypes/common.py\u001b[0m in \u001b[0;36mis_datetime64tz_dtype\u001b[0;34m(arr_or_dtype)\u001b[0m\n\u001b[1;32m    436\u001b[0m     \u001b[0;32mif\u001b[0m \u001b[0marr_or_dtype\u001b[0m \u001b[0;32mis\u001b[0m \u001b[0;32mNone\u001b[0m\u001b[0;34m:\u001b[0m\u001b[0;34m\u001b[0m\u001b[0;34m\u001b[0m\u001b[0m\n\u001b[1;32m    437\u001b[0m         \u001b[0;32mreturn\u001b[0m \u001b[0;32mFalse\u001b[0m\u001b[0;34m\u001b[0m\u001b[0;34m\u001b[0m\u001b[0m\n\u001b[0;32m--> 438\u001b[0;31m     \u001b[0;32mreturn\u001b[0m \u001b[0mDatetimeTZDtype\u001b[0m\u001b[0;34m.\u001b[0m\u001b[0mis_dtype\u001b[0m\u001b[0;34m(\u001b[0m\u001b[0marr_or_dtype\u001b[0m\u001b[0;34m)\u001b[0m\u001b[0;34m\u001b[0m\u001b[0;34m\u001b[0m\u001b[0m\n\u001b[0m\u001b[1;32m    439\u001b[0m \u001b[0;34m\u001b[0m\u001b[0m\n\u001b[1;32m    440\u001b[0m \u001b[0;34m\u001b[0m\u001b[0m\n",
      "\u001b[0;32m~/.local/lib/python3.6/site-packages/pandas/core/dtypes/base.py\u001b[0m in \u001b[0;36mis_dtype\u001b[0;34m(cls, dtype)\u001b[0m\n\u001b[1;32m    271\u001b[0m         \u001b[0mdtype\u001b[0m \u001b[0;34m=\u001b[0m \u001b[0mgetattr\u001b[0m\u001b[0;34m(\u001b[0m\u001b[0mdtype\u001b[0m\u001b[0;34m,\u001b[0m \u001b[0;34m\"dtype\"\u001b[0m\u001b[0;34m,\u001b[0m \u001b[0mdtype\u001b[0m\u001b[0;34m)\u001b[0m\u001b[0;34m\u001b[0m\u001b[0;34m\u001b[0m\u001b[0m\n\u001b[1;32m    272\u001b[0m \u001b[0;34m\u001b[0m\u001b[0m\n\u001b[0;32m--> 273\u001b[0;31m         \u001b[0;32mif\u001b[0m \u001b[0misinstance\u001b[0m\u001b[0;34m(\u001b[0m\u001b[0mdtype\u001b[0m\u001b[0;34m,\u001b[0m \u001b[0;34m(\u001b[0m\u001b[0mABCSeries\u001b[0m\u001b[0;34m,\u001b[0m \u001b[0mABCIndexClass\u001b[0m\u001b[0;34m,\u001b[0m \u001b[0mABCDataFrame\u001b[0m\u001b[0;34m,\u001b[0m \u001b[0mnp\u001b[0m\u001b[0;34m.\u001b[0m\u001b[0mdtype\u001b[0m\u001b[0;34m)\u001b[0m\u001b[0;34m)\u001b[0m\u001b[0;34m:\u001b[0m\u001b[0;34m\u001b[0m\u001b[0;34m\u001b[0m\u001b[0m\n\u001b[0m\u001b[1;32m    274\u001b[0m             \u001b[0;31m# https://github.com/pandas-dev/pandas/issues/22960\u001b[0m\u001b[0;34m\u001b[0m\u001b[0;34m\u001b[0m\u001b[0;34m\u001b[0m\u001b[0m\n\u001b[1;32m    275\u001b[0m             \u001b[0;31m# avoid passing data to `construct_from_string`. This could\u001b[0m\u001b[0;34m\u001b[0m\u001b[0;34m\u001b[0m\u001b[0;34m\u001b[0m\u001b[0m\n",
      "\u001b[0;32m~/.local/lib/python3.6/site-packages/pandas/core/dtypes/generic.py\u001b[0m in \u001b[0;36m_check\u001b[0;34m(cls, inst)\u001b[0m\n\u001b[1;32m     10\u001b[0m     \u001b[0;34m@\u001b[0m\u001b[0mclassmethod\u001b[0m  \u001b[0;31m# type: ignore\u001b[0m\u001b[0;34m\u001b[0m\u001b[0;34m\u001b[0m\u001b[0m\n\u001b[1;32m     11\u001b[0m     \u001b[0;32mdef\u001b[0m \u001b[0m_check\u001b[0m\u001b[0;34m(\u001b[0m\u001b[0mcls\u001b[0m\u001b[0;34m,\u001b[0m \u001b[0minst\u001b[0m\u001b[0;34m)\u001b[0m \u001b[0;34m->\u001b[0m \u001b[0mbool\u001b[0m\u001b[0;34m:\u001b[0m\u001b[0;34m\u001b[0m\u001b[0;34m\u001b[0m\u001b[0m\n\u001b[0;32m---> 12\u001b[0;31m         \u001b[0;32mreturn\u001b[0m \u001b[0mgetattr\u001b[0m\u001b[0;34m(\u001b[0m\u001b[0minst\u001b[0m\u001b[0;34m,\u001b[0m \u001b[0mattr\u001b[0m\u001b[0;34m,\u001b[0m \u001b[0;34m\"_typ\"\u001b[0m\u001b[0;34m)\u001b[0m \u001b[0;32min\u001b[0m \u001b[0mcomp\u001b[0m\u001b[0;34m\u001b[0m\u001b[0;34m\u001b[0m\u001b[0m\n\u001b[0m\u001b[1;32m     13\u001b[0m \u001b[0;34m\u001b[0m\u001b[0m\n\u001b[1;32m     14\u001b[0m     \u001b[0mdct\u001b[0m \u001b[0;34m=\u001b[0m \u001b[0mdict\u001b[0m\u001b[0;34m(\u001b[0m\u001b[0m__instancecheck__\u001b[0m\u001b[0;34m=\u001b[0m\u001b[0m_check\u001b[0m\u001b[0;34m,\u001b[0m \u001b[0m__subclasscheck__\u001b[0m\u001b[0;34m=\u001b[0m\u001b[0m_check\u001b[0m\u001b[0;34m)\u001b[0m\u001b[0;34m\u001b[0m\u001b[0;34m\u001b[0m\u001b[0m\n",
      "\u001b[0;31mKeyboardInterrupt\u001b[0m: "
     ]
    }
   ],
   "source": [
    "price['label'] = 0\n",
    "for i in price.index:\n",
    "    for j in ['return1', 'return2', 'return3']:\n",
    "        if price.loc[i, j] >= 1.007:\n",
    "            price.loc[i, 'label'] = 1\n",
    "            break\n",
    "        elif price.loc[i, j] <= 0.993:\n",
    "            price.loc[i, 'label'] = -1\n",
    "            break\n",
    "price = price[price['Date'] <= '20191130']\n",
    "price = price[price['Date'] >= '20140201']\n",
    "price = price.reset_index(drop=True)"
   ]
  },
  {
   "cell_type": "code",
   "execution_count": 5,
   "metadata": {},
   "outputs": [],
   "source": [
    "price = pd.read_csv('^TWII.csv')\n",
    "price['Date'] = price['Date'].apply(lambda x:x.replace('-', ''))\n",
    "price = price.dropna()\n",
    "price['return'] = price.shift(-3)['Adj Close'] / price['Adj Close']\n",
    "price = price.dropna()"
   ]
  },
  {
   "cell_type": "code",
   "execution_count": 4,
   "metadata": {},
   "outputs": [],
   "source": [
    "price['label'] = 0\n",
    "price.loc[price[price['return'] > 1.001].index, 'label'] = 1\n",
    "# price['label'] = 1\n",
    "# price.loc[price[price['return'] < 0.9999].index, 'label'] = 0\n",
    "# price.loc[price[price['return'] >= 1.0001].index, 'label'] = 1\n",
    "# price.loc[price[price['return'] <= 0.9999].index, 'label'] = -1\n",
    "# price = price[price['label'] != -1]\n",
    "price = price[price['Date'] <= '20191130']\n",
    "price = price[price['Date'] >= '20140201']\n",
    "# price = price[price['Date'] >= '20061120']\n",
    "# price = price[price['Date'] < '20140101']\n",
    "# price = pd.concat((price[price['Date'] <= '20131120'], price[price['Date'] >= '20140101']))\n",
    "price = price.reset_index(drop=True)"
   ]
  },
  {
   "cell_type": "code",
   "execution_count": 21,
   "metadata": {
    "scrolled": false
   },
   "outputs": [
    {
     "ename": "NameError",
     "evalue": "name 'plt' is not defined",
     "output_type": "error",
     "traceback": [
      "\u001b[0;31m---------------------------------------------------------------------------\u001b[0m",
      "\u001b[0;31mNameError\u001b[0m                                 Traceback (most recent call last)",
      "\u001b[0;32m<ipython-input-21-687f80a8d5a9>\u001b[0m in \u001b[0;36m<module>\u001b[0;34m\u001b[0m\n\u001b[0;32m----> 1\u001b[0;31m \u001b[0mplt\u001b[0m\u001b[0;34m.\u001b[0m\u001b[0mplot\u001b[0m\u001b[0;34m(\u001b[0m\u001b[0mrange\u001b[0m\u001b[0;34m(\u001b[0m\u001b[0mlen\u001b[0m\u001b[0;34m(\u001b[0m\u001b[0mprice\u001b[0m\u001b[0;34m)\u001b[0m\u001b[0;34m)\u001b[0m\u001b[0;34m,\u001b[0m \u001b[0mlist\u001b[0m\u001b[0;34m(\u001b[0m\u001b[0mprice\u001b[0m\u001b[0;34m[\u001b[0m\u001b[0;34m'Adj Close'\u001b[0m\u001b[0;34m]\u001b[0m\u001b[0;34m)\u001b[0m\u001b[0;34m)\u001b[0m\u001b[0;34m\u001b[0m\u001b[0;34m\u001b[0m\u001b[0m\n\u001b[0m",
      "\u001b[0;31mNameError\u001b[0m: name 'plt' is not defined"
     ]
    }
   ],
   "source": [
    "# plt.plot(range(len(price)), list(price['Adj Close']))"
   ]
  },
  {
   "cell_type": "code",
   "execution_count": 5,
   "metadata": {
    "scrolled": true
   },
   "outputs": [
    {
     "data": {
      "text/plain": [
       "Counter({1: 965, 0: 458})"
      ]
     },
     "execution_count": 5,
     "metadata": {},
     "output_type": "execute_result"
    }
   ],
   "source": [
    "from collections import Counter\n",
    "a = Counter(price['label'])\n",
    "a"
   ]
  },
  {
   "cell_type": "markdown",
   "metadata": {},
   "source": [
    "#### Data split (日期切分) "
   ]
  },
  {
   "cell_type": "code",
   "execution_count": 6,
   "metadata": {},
   "outputs": [],
   "source": [
    "datas = dict(zip([x['date'] for x in train_vector], [x['title'] for x in train_vector]))\n",
    "event = [(k, datas[k]) for k in sorted(datas.keys())]\n",
    "dates = [x[0] for x in event]\n",
    "event_embedding = [np.array(x[1].cpu()) for x in event]"
   ]
  },
  {
   "cell_type": "code",
   "execution_count": 7,
   "metadata": {
    "scrolled": false
   },
   "outputs": [
    {
     "name": "stderr",
     "output_type": "stream",
     "text": [
      "100%|██████████| 1423/1423 [00:00<00:00, 6969.58it/s]\n"
     ]
    }
   ],
   "source": [
    "all_data = []\n",
    "for i in tqdm(range(len(price))):\n",
    "    data = {}\n",
    "    if price.loc[i, 'Date'] in dates:\n",
    "        data['date'] = dates.index(price.loc[i, 'Date'])\n",
    "    tmp = int(price.loc[i, 'Date'])\n",
    "    while str(tmp) not in dates:\n",
    "        tmp -= 1\n",
    "    data['date'] = dates.index(str(tmp))\n",
    "    data['label'] = price.loc[i, 'label']\n",
    "    all_data.append(data)"
   ]
  },
  {
   "cell_type": "code",
   "execution_count": 49,
   "metadata": {},
   "outputs": [],
   "source": [
    "# import random\n",
    "# random.shuffle(all_data)"
   ]
  },
  {
   "cell_type": "code",
   "execution_count": 8,
   "metadata": {
    "scrolled": true
   },
   "outputs": [
    {
     "name": "stdout",
     "output_type": "stream",
     "text": [
      "Train:  1152\n",
      "Valid: 128\n",
      "Test:  142\n"
     ]
    }
   ],
   "source": [
    "# all_data = all_data[:-20]\n",
    "test = all_data[-int(len(all_data)*0.1):]\n",
    "tmp = all_data[:int(len(all_data)*0.9)+1]\n",
    "valid = tmp[-int(len(tmp)*0.1):]\n",
    "train = tmp[:int(len(tmp)*0.9)]\n",
    "print('Train: ', len(train))\n",
    "print('Valid:' , len(valid))\n",
    "print('Test: ', len(test))"
   ]
  },
  {
   "cell_type": "code",
   "execution_count": 9,
   "metadata": {
    "scrolled": true
   },
   "outputs": [
    {
     "name": "stdout",
     "output_type": "stream",
     "text": [
      "0.734375\n",
      "0.6408450704225352\n"
     ]
    }
   ],
   "source": [
    "print(len([x for x in valid if x['label'] == 1])/len(valid))\n",
    "print(len([x for x in test if x['label'] == 1])/len(test))"
   ]
  },
  {
   "cell_type": "code",
   "execution_count": 16,
   "metadata": {},
   "outputs": [
    {
     "data": {
      "text/plain": [
       "{'date': 35, 'label': 1}"
      ]
     },
     "execution_count": 16,
     "metadata": {},
     "output_type": "execute_result"
    }
   ],
   "source": [
    "train[0]"
   ]
  },
  {
   "cell_type": "markdown",
   "metadata": {},
   "source": [
    "## Model"
   ]
  },
  {
   "cell_type": "code",
   "execution_count": 10,
   "metadata": {},
   "outputs": [],
   "source": [
    "class EventDataset(Dataset):\n",
    "    def __init__(self, data):\n",
    "        self.data = data\n",
    "    \n",
    "    def __len__(self):\n",
    "        return len(self.data)\n",
    "    \n",
    "    def __getitem__(self, index):\n",
    "        return dict(self.data[index])\n",
    "    \n",
    "    def collate_fn(self, datas):\n",
    "        batch = {}\n",
    "        \n",
    "        batch['token'] = torch.tensor([list(range(x['date'] - 29, x['date'] + 1)) for x in datas])\n",
    "#         batch['label'] = torch.tensor([self._label(x['label']) for x in datas])\n",
    "        batch['label'] = torch.tensor([x['label'] for x in datas])\n",
    "        \n",
    "        return batch\n",
    "    \n",
    "    def _label(self, label):\n",
    "        if label == -1:\n",
    "            return 0\n",
    "        elif label == 0:\n",
    "            return 1\n",
    "        else:\n",
    "            return 2\n"
   ]
  },
  {
   "cell_type": "code",
   "execution_count": 21,
   "metadata": {},
   "outputs": [],
   "source": [
    "train_set = EventDataset(train)\n",
    "train_loader = DataLoader(train_set, collate_fn=train_set.collate_fn, batch_size=32, shuffle=True)\n",
    "valid_set = EventDataset(valid)\n",
    "valid_loader = DataLoader(valid_set, collate_fn=valid_set.collate_fn, batch_size=len(valid), shuffle=False)"
   ]
  },
  {
   "cell_type": "code",
   "execution_count": 22,
   "metadata": {},
   "outputs": [],
   "source": [
    "class LSTMNet(nn.Module):\n",
    "    def __init__(self, pretrained_embedding):\n",
    "        super(LSTMNet, self).__init__()\n",
    "        \n",
    "        pretrained_embedding = torch.FloatTensor(pretrained_embedding)\n",
    "        self.embedding = nn.Embedding(\n",
    "            pretrained_embedding.size(0),\n",
    "            pretrained_embedding.size(1))\n",
    "        self.embedding.weight = torch.nn.Parameter(pretrained_embedding)\n",
    "        self.embedding.weight.requires_grad = False\n",
    "        \n",
    "        bi = True\n",
    "        self.lstm = nn.LSTM(pretrained_embedding.size(1), 800, 2, dropout=0.2, bidirectional=bi, batch_first=True)\n",
    "        self.lstm.apply(self.init_normal)\n",
    "        \n",
    "        self.hidden2out = nn.Sequential(\n",
    "            nn.AvgPool1d(5),\n",
    "            nn.Flatten(),\n",
    "            \n",
    "            nn.BatchNorm1d(800 * (1+bi) * 6),\n",
    "            nn.LeakyReLU(0.4),\n",
    "            nn.Linear(800 * (1+bi) * 6, 400),\n",
    "            \n",
    "#             nn.BatchNorm1d(200),\n",
    "#             nn.LeakyReLU(0.2),\n",
    "#             nn.Linear(200, 400),\n",
    "            \n",
    "            nn.BatchNorm1d(400),\n",
    "            nn.LeakyReLU(0.4),\n",
    "            nn.Linear(400, 100),\n",
    "            \n",
    "            nn.BatchNorm1d(100),\n",
    "            nn.LeakyReLU(0.4),\n",
    "            nn.Linear(100, 2)\n",
    "        )\n",
    "        \n",
    "        self.hidden2out.apply(self.init_normal)\n",
    "    \n",
    "    def forward(self, event):\n",
    "        x = self.embedding(event)\n",
    "        out, (_, _) = self.lstm(x)\n",
    "        out = out.transpose(1, 2)\n",
    "        \n",
    "        y = self.hidden2out(out)\n",
    "        return y\n",
    "    \n",
    "    def init_normal(self, m):\n",
    "        if type(m) == nn.Linear:\n",
    "            nn.init.orthogonal_(m.weight)\n",
    "#             nn.init.xavier_normal_(m.weight.data)\n",
    "#             nn.init.normal_(m.bias.data)\n",
    "        if type(m) == nn.LSTM:\n",
    "            for name, param in m.named_parameters():\n",
    "                if 'weight_ih' in name:\n",
    "#                     nn.init.xavier_normal_(param.data)\n",
    "                    nn.init.orthogonal_(param.data)\n",
    "                elif 'weight_hh' in name:\n",
    "#                     nn.init.xavier_normal_(param.data)\n",
    "                    nn.init.orthogonal_(param.data)\n",
    "                elif 'bias' in name:\n",
    "                    param.data.fill_(0)\n",
    "#         if isinstance(m, nn.BatchNorm1d):\n",
    "#             nn.init.normal_(m.weight.data, mean=0, std=0.1)\n",
    "#             nn.init.constant_(m.bias.data, 0)"
   ]
  },
  {
   "cell_type": "code",
   "execution_count": 27,
   "metadata": {
    "scrolled": true
   },
   "outputs": [],
   "source": [
    "EPOCH = 100\n",
    "model = LSTMNet(event_embedding)\n",
    "use_gpu = torch.cuda.is_available()\n",
    "if use_gpu:\n",
    "    model.cuda()\n",
    "    \n",
    "optimizer = torch.optim.Adam(model.parameters(), lr=0.00001)\n",
    "loss_fn = nn.CrossEntropyLoss()\n",
    "# loss_fn = nn.MSELoss()\n",
    "\n",
    "acc_history = []\n",
    "loss_history = []\n",
    "valid_history = []\n",
    "valid_loss = []"
   ]
  },
  {
   "cell_type": "code",
   "execution_count": 28,
   "metadata": {
    "scrolled": true
   },
   "outputs": [
    {
     "name": "stdout",
     "output_type": "stream",
     "text": [
      "Epoch: 1, train Loss: 0.9066, train accuracy: 0.4410\n",
      "Epoch: 1, valid loss: 0.6928, valid accuracy: 0.5312\n",
      "Epoch: 2, train Loss: 0.8787, train accuracy: 0.4818\n",
      "Epoch: 2, valid loss: 0.6997, valid accuracy: 0.4688\n",
      "Epoch: 3, train Loss: 0.8757, train accuracy: 0.4766\n",
      "Epoch: 3, valid loss: 0.7129, valid accuracy: 0.5156\n",
      "Epoch: 4, train Loss: 0.8673, train accuracy: 0.4601\n",
      "Epoch: 4, valid loss: 0.6430, valid accuracy: 0.6875\n",
      "model saved to LSTM_baseline(3day)_4(0.6875).pth\n",
      "Epoch: 5, train Loss: 0.8020, train accuracy: 0.5095\n",
      "Epoch: 5, valid loss: 0.7200, valid accuracy: 0.5391\n",
      "Epoch: 6, train Loss: 0.8106, train accuracy: 0.5139\n",
      "Epoch: 6, valid loss: 0.6917, valid accuracy: 0.5781\n",
      "Epoch: 7, train Loss: 0.8000, train accuracy: 0.5156\n",
      "Epoch: 7, valid loss: 0.6798, valid accuracy: 0.5469\n",
      "Epoch: 8, train Loss: 0.7896, train accuracy: 0.5174\n",
      "Epoch: 8, valid loss: 0.7854, valid accuracy: 0.4375\n",
      "Epoch: 9, train Loss: 0.7571, train accuracy: 0.5443\n",
      "Epoch: 9, valid loss: 0.6863, valid accuracy: 0.5625\n",
      "Epoch: 10, train Loss: 0.7668, train accuracy: 0.5495\n",
      "Epoch: 10, valid loss: 0.6726, valid accuracy: 0.5781\n",
      "Epoch: 11, train Loss: 0.7618, train accuracy: 0.5295\n",
      "Epoch: 11, valid loss: 0.7018, valid accuracy: 0.5469\n",
      "Epoch: 12, train Loss: 0.7245, train accuracy: 0.5842\n",
      "Epoch: 12, valid loss: 0.6306, valid accuracy: 0.6797\n",
      "model saved to LSTM_baseline(3day)_12(0.6797).pth\n",
      "Epoch: 13, train Loss: 0.7230, train accuracy: 0.5781\n",
      "Epoch: 13, valid loss: 0.6714, valid accuracy: 0.5938\n",
      "Epoch: 14, train Loss: 0.7082, train accuracy: 0.5929\n",
      "Epoch: 14, valid loss: 0.6199, valid accuracy: 0.6719\n",
      "model saved to LSTM_baseline(3day)_14(0.6719).pth\n",
      "Epoch: 15, train Loss: 0.7102, train accuracy: 0.5816\n",
      "Epoch: 15, valid loss: 0.7273, valid accuracy: 0.4922\n",
      "Epoch: 16, train Loss: 0.7014, train accuracy: 0.5981\n",
      "Epoch: 16, valid loss: 0.6604, valid accuracy: 0.6250\n",
      "Epoch: 17, train Loss: 0.7104, train accuracy: 0.5790\n",
      "Epoch: 17, valid loss: 0.6590, valid accuracy: 0.6094\n",
      "Epoch: 18, train Loss: 0.6536, train accuracy: 0.6267\n",
      "Epoch: 18, valid loss: 0.6648, valid accuracy: 0.6172\n",
      "Epoch: 19, train Loss: 0.6874, train accuracy: 0.5903\n",
      "Epoch: 19, valid loss: 0.6983, valid accuracy: 0.5312\n",
      "Epoch: 20, train Loss: 0.6712, train accuracy: 0.6215\n",
      "Epoch: 20, valid loss: 0.6358, valid accuracy: 0.6719\n",
      "model saved to LSTM_baseline(3day)_20(0.6719).pth\n",
      "Epoch: 21, train Loss: 0.6636, train accuracy: 0.6267\n",
      "Epoch: 21, valid loss: 0.6939, valid accuracy: 0.5625\n",
      "Epoch: 22, train Loss: 0.6644, train accuracy: 0.6267\n",
      "Epoch: 22, valid loss: 0.7181, valid accuracy: 0.5469\n",
      "Epoch: 23, train Loss: 0.6306, train accuracy: 0.6484\n",
      "Epoch: 23, valid loss: 0.6783, valid accuracy: 0.5781\n",
      "Epoch: 24, train Loss: 0.6258, train accuracy: 0.6589\n",
      "Epoch: 24, valid loss: 0.7114, valid accuracy: 0.5781\n",
      "Epoch: 25, train Loss: 0.6285, train accuracy: 0.6719\n",
      "Epoch: 25, valid loss: 0.7046, valid accuracy: 0.5547\n",
      "Epoch: 26, train Loss: 0.6197, train accuracy: 0.6710\n",
      "Epoch: 26, valid loss: 0.6595, valid accuracy: 0.6094\n",
      "Epoch: 27, train Loss: 0.6023, train accuracy: 0.6710\n",
      "Epoch: 27, valid loss: 0.6929, valid accuracy: 0.6016\n",
      "Epoch: 28, train Loss: 0.5803, train accuracy: 0.6936\n",
      "Epoch: 28, valid loss: 0.7074, valid accuracy: 0.5703\n",
      "Epoch: 29, train Loss: 0.5879, train accuracy: 0.7023\n",
      "Epoch: 29, valid loss: 0.6728, valid accuracy: 0.5781\n",
      "Epoch: 30, train Loss: 0.5998, train accuracy: 0.6866\n",
      "Epoch: 30, valid loss: 0.7156, valid accuracy: 0.5703\n",
      "Epoch: 31, train Loss: 0.5734, train accuracy: 0.7031\n",
      "Epoch: 31, valid loss: 0.7127, valid accuracy: 0.5859\n",
      "Epoch: 32, train Loss: 0.5858, train accuracy: 0.6927\n",
      "Epoch: 32, valid loss: 0.7931, valid accuracy: 0.5000\n",
      "Epoch: 33, train Loss: 0.5494, train accuracy: 0.7274\n",
      "Epoch: 33, valid loss: 0.7391, valid accuracy: 0.5781\n",
      "Epoch: 34, train Loss: 0.5605, train accuracy: 0.7188\n",
      "Epoch: 34, valid loss: 0.7246, valid accuracy: 0.5859\n",
      "Epoch: 35, train Loss: 0.5506, train accuracy: 0.7231\n",
      "Epoch: 35, valid loss: 0.7386, valid accuracy: 0.5547\n",
      "Epoch: 36, train Loss: 0.5429, train accuracy: 0.7179\n",
      "Epoch: 36, valid loss: 0.6964, valid accuracy: 0.5859\n",
      "Epoch: 37, train Loss: 0.5512, train accuracy: 0.7161\n",
      "Epoch: 37, valid loss: 0.6972, valid accuracy: 0.6016\n",
      "Epoch: 38, train Loss: 0.5435, train accuracy: 0.7378\n",
      "Epoch: 38, valid loss: 0.6732, valid accuracy: 0.6250\n",
      "Epoch: 39, train Loss: 0.5344, train accuracy: 0.7431\n",
      "Epoch: 39, valid loss: 0.7734, valid accuracy: 0.5703\n",
      "Epoch: 40, train Loss: 0.5100, train accuracy: 0.7439\n",
      "Epoch: 40, valid loss: 0.7459, valid accuracy: 0.6094\n",
      "Epoch: 41, train Loss: 0.5067, train accuracy: 0.7509\n",
      "Epoch: 41, valid loss: 0.7988, valid accuracy: 0.5547\n",
      "Epoch: 42, train Loss: 0.5122, train accuracy: 0.7422\n",
      "Epoch: 42, valid loss: 0.8077, valid accuracy: 0.5312\n"
     ]
    },
    {
     "ename": "KeyboardInterrupt",
     "evalue": "",
     "output_type": "error",
     "traceback": [
      "\u001b[0;31m---------------------------------------------------------------------------\u001b[0m",
      "\u001b[0;31mKeyboardInterrupt\u001b[0m                         Traceback (most recent call last)",
      "\u001b[0;32m<ipython-input-28-ee67ef00e1d2>\u001b[0m in \u001b[0;36m<module>\u001b[0;34m\u001b[0m\n\u001b[1;32m     16\u001b[0m         \u001b[0mpredict\u001b[0m \u001b[0;34m=\u001b[0m \u001b[0moutput\u001b[0m\u001b[0;34m.\u001b[0m\u001b[0mmax\u001b[0m\u001b[0;34m(\u001b[0m\u001b[0;36m1\u001b[0m\u001b[0;34m)\u001b[0m\u001b[0;34m[\u001b[0m\u001b[0;36m1\u001b[0m\u001b[0;34m]\u001b[0m\u001b[0;34m\u001b[0m\u001b[0;34m\u001b[0m\u001b[0m\n\u001b[1;32m     17\u001b[0m \u001b[0;31m#         predict = torch.tensor([1 if x >=0.5 else 0 for x in output]).cuda()\u001b[0m\u001b[0;34m\u001b[0m\u001b[0;34m\u001b[0m\u001b[0;34m\u001b[0m\u001b[0m\n\u001b[0;32m---> 18\u001b[0;31m         \u001b[0macc\u001b[0m \u001b[0;34m=\u001b[0m \u001b[0mnp\u001b[0m\u001b[0;34m.\u001b[0m\u001b[0mmean\u001b[0m\u001b[0;34m(\u001b[0m\u001b[0;34m(\u001b[0m\u001b[0mlabels\u001b[0m \u001b[0;34m==\u001b[0m \u001b[0mpredict\u001b[0m\u001b[0;34m)\u001b[0m\u001b[0;34m.\u001b[0m\u001b[0mcpu\u001b[0m\u001b[0;34m(\u001b[0m\u001b[0;34m)\u001b[0m\u001b[0;34m.\u001b[0m\u001b[0mnumpy\u001b[0m\u001b[0;34m(\u001b[0m\u001b[0;34m)\u001b[0m\u001b[0;34m)\u001b[0m\u001b[0;34m\u001b[0m\u001b[0;34m\u001b[0m\u001b[0m\n\u001b[0m\u001b[1;32m     19\u001b[0m         \u001b[0mtrain_acc\u001b[0m\u001b[0;34m.\u001b[0m\u001b[0mappend\u001b[0m\u001b[0;34m(\u001b[0m\u001b[0macc\u001b[0m\u001b[0;34m)\u001b[0m\u001b[0;34m\u001b[0m\u001b[0;34m\u001b[0m\u001b[0m\n\u001b[1;32m     20\u001b[0m         \u001b[0mtrain_loss\u001b[0m\u001b[0;34m.\u001b[0m\u001b[0mappend\u001b[0m\u001b[0;34m(\u001b[0m\u001b[0mloss\u001b[0m\u001b[0;34m.\u001b[0m\u001b[0mitem\u001b[0m\u001b[0;34m(\u001b[0m\u001b[0;34m)\u001b[0m\u001b[0;34m)\u001b[0m\u001b[0;34m\u001b[0m\u001b[0;34m\u001b[0m\u001b[0m\n",
      "\u001b[0;31mKeyboardInterrupt\u001b[0m: "
     ]
    }
   ],
   "source": [
    "for epoch in range(EPOCH):\n",
    "    model.train()\n",
    "    train_loss = []\n",
    "    train_acc = []\n",
    "    for data in train_loader:\n",
    "        if use_gpu:\n",
    "            event = data['token'].cuda()\n",
    "            labels = data['label'].cuda()\n",
    "            \n",
    "        optimizer.zero_grad()\n",
    "        output = model(event)\n",
    "        loss = loss_fn(output, labels)\n",
    "        loss.backward()\n",
    "        optimizer.step()\n",
    "        \n",
    "        predict = output.max(1)[1]\n",
    "#         predict = torch.tensor([1 if x >=0.5 else 0 for x in output]).cuda()\n",
    "        acc = np.mean((labels == predict).cpu().numpy())\n",
    "        train_acc.append(acc)\n",
    "        train_loss.append(loss.item())\n",
    "        \n",
    "    print(\"Epoch: {}, train Loss: {:.4f}, train accuracy: {:.4f}\".format(epoch + 1, np.mean(train_loss), np.mean(train_acc)))\n",
    "    acc_history.append(np.mean(train_acc))\n",
    "    loss_history.append(np.mean(train_loss))\n",
    "    \n",
    "    model.eval()\n",
    "    with torch.no_grad():\n",
    "        for data in valid_loader:\n",
    "            if use_gpu:\n",
    "                event = data['token'].cuda()\n",
    "                labels = data['label'].cuda()\n",
    "\n",
    "            output = model(event)\n",
    "            loss = loss_fn(output, labels)\n",
    "            predict = output.max(1)[1]\n",
    "#             predict = torch.tensor([1 if x >=0.5 else 0 for x in output]).cuda()\n",
    "            acc = np.mean((labels == predict).cpu().numpy())\n",
    "        print(\"Epoch: {}, valid loss: {:.4f}, valid accuracy: {:.4f}\".format(epoch + 1, loss, acc))\n",
    "        valid_history.append(acc)\n",
    "        valid_loss.append(loss)\n",
    "        \n",
    "    if np.mean(acc) >= 0.66:\n",
    "        checkpoint_path = 'LSTM_baseline(3day)_{}({:.4f}).pth'.format(epoch+1, acc) \n",
    "        torch.save(model.state_dict(), checkpoint_path)\n",
    "        print('model saved to %s' % checkpoint_path)"
   ]
  },
  {
   "cell_type": "code",
   "execution_count": 29,
   "metadata": {
    "scrolled": false
   },
   "outputs": [
    {
     "name": "stdout",
     "output_type": "stream",
     "text": [
      "Epoch: 4, valid accuracy: 0.6875\n"
     ]
    },
    {
     "data": {
      "image/png": "[encoded data removed]",
      "text/plain": [
       "<Figure size 432x288 with 1 Axes>"
      ]
     },
     "metadata": {
      "needs_background": "light"
     },
     "output_type": "display_data"
    },
    {
     "data": {
      "image/png": "[encoded data removed]",
      "text/plain": [
       "<Figure size 432x288 with 1 Axes>"
      ]
     },
     "metadata": {
      "needs_background": "light"
     },
     "output_type": "display_data"
    }
   ],
   "source": [
    "print('Epoch: {}, valid accuracy: {:.4f}'.format(valid_history.index(max(valid_history))+1, max(valid_history)))\n",
    "\n",
    "import matplotlib.pyplot as plt\n",
    "plt.plot(list(range(len(acc_history))), acc_history, list(range(len(valid_history))), valid_history)\n",
    "plt.show()\n",
    "\n",
    "\n",
    "plt.plot(list(range(len(loss_history))), loss_history, list(range(len(valid_loss))), valid_loss)\n",
    "plt.show()"
   ]
  },
  {
   "cell_type": "code",
   "execution_count": 70,
   "metadata": {
    "scrolled": true
   },
   "outputs": [
    {
     "name": "stdout",
     "output_type": "stream",
     "text": [
      "Epoch: 185, valid accuracy: 0.6667\n"
     ]
    }
   ],
   "source": [
    "print('Epoch: {}, valid accuracy: {:.4f}'.format(valid_history.index(max(valid_history))+1, max(valid_history)))"
   ]
  },
  {
   "cell_type": "code",
   "execution_count": 71,
   "metadata": {
    "scrolled": false
   },
   "outputs": [
    {
     "data": {
      "image/png": "[encoded data removed]",
      "text/plain": [
       "<Figure size 432x288 with 1 Axes>"
      ]
     },
     "metadata": {
      "needs_background": "light"
     },
     "output_type": "display_data"
    },
    {
     "data": {
      "image/png": "[encoded data removed]",
      "text/plain": [
       "<Figure size 432x288 with 1 Axes>"
      ]
     },
     "metadata": {
      "needs_background": "light"
     },
     "output_type": "display_data"
    }
   ],
   "source": [
    "import matplotlib.pyplot as plt\n",
    "plt.plot(list(range(len(acc_history))), acc_history, list(range(len(valid_history))), valid_history)\n",
    "plt.show()\n",
    "\n",
    "\n",
    "plt.plot(list(range(len(loss_history))), loss_history, list(range(len(valid_loss))), valid_loss)\n",
    "plt.show()"
   ]
  },
  {
   "cell_type": "code",
   "execution_count": 21,
   "metadata": {
    "scrolled": false
   },
   "outputs": [
    {
     "data": {
      "image/png": "[encoded data removed]",
      "text/plain": [
       "<Figure size 432x288 with 1 Axes>"
      ]
     },
     "metadata": {
      "needs_background": "light"
     },
     "output_type": "display_data"
    }
   ],
   "source": [
    "import matplotlib.pyplot as plt\n",
    "plt.plot(list(range(100)), acc_history[:100], list(range(100)), valid_history[:100])\n",
    "plt.show()"
   ]
  },
  {
   "cell_type": "markdown",
   "metadata": {},
   "source": [
    "# Testing"
   ]
  },
  {
   "cell_type": "code",
   "execution_count": 41,
   "metadata": {},
   "outputs": [],
   "source": [
    "from sklearn.metrics import matthews_corrcoef\n",
    "valid_set = EventDataset(valid)\n",
    "valid_loader = DataLoader(valid_set, collate_fn=valid_set.collate_fn, batch_size=len(valid), shuffle=False)"
   ]
  },
  {
   "cell_type": "code",
   "execution_count": 42,
   "metadata": {
    "scrolled": false
   },
   "outputs": [],
   "source": [
    "model = LSTMNet(event_embedding)\n",
    "model.load_state_dict(torch.load('LSTM_baseline(3day)_20(0.6719).pth'))\n",
    "use_gpu = torch.cuda.is_available()\n",
    "if use_gpu:\n",
    "    model.cuda()"
   ]
  },
  {
   "cell_type": "code",
   "execution_count": 43,
   "metadata": {},
   "outputs": [],
   "source": [
    "model.eval()\n",
    "with torch.no_grad():\n",
    "    for data in valid_loader:\n",
    "        if use_gpu:\n",
    "            event = data['token'].cuda()\n",
    "            labels = data['label'].cuda()\n",
    "\n",
    "        output = model(event)\n",
    "        predict = output.max(1)[1]\n",
    "        acc = np.mean((labels == predict).cpu().numpy())\n",
    "        mcc = matthews_corrcoef(data['label'], predict.cpu())\n",
    "        pre = precision_score(labels.cpu(), predict.cpu(), average='weighted')\n",
    "        recall = recall_score(labels.cpu(), predict.cpu(), average='weighted')"
   ]
  },
  {
   "cell_type": "code",
   "execution_count": 44,
   "metadata": {
    "scrolled": true
   },
   "outputs": [
    {
     "name": "stdout",
     "output_type": "stream",
     "text": [
      "acc:  0.671875\n",
      "mcc:  0.1429762897859917\n",
      "precision 0.6656901041666667\n",
      "recall 0.671875\n"
     ]
    }
   ],
   "source": [
    "print('acc: ', acc)\n",
    "print('mcc: ', mcc)\n",
    "print('precision', pre)\n",
    "print('recall', recall)"
   ]
  },
  {
   "cell_type": "markdown",
   "metadata": {},
   "source": [
    "# BERT + xgboost"
   ]
  },
  {
   "cell_type": "code",
   "execution_count": 2,
   "metadata": {},
   "outputs": [],
   "source": [
    "import xgboost as xgb\n",
    "from sklearn.metrics import accuracy_score\n",
    "from sklearn.metrics import matthews_corrcoef\n",
    "from sklearn.neural_network import MLPClassifier"
   ]
  },
  {
   "cell_type": "code",
   "execution_count": 78,
   "metadata": {},
   "outputs": [],
   "source": [
    "with open('news_embedding_baseline_1.pkl', 'rb') as f:\n",
    "    train_vector = pickle.load(f)\n",
    "datas = dict(zip([x['date'] for x in train_vector], [x['title'] for x in train_vector]))"
   ]
  },
  {
   "cell_type": "code",
   "execution_count": 90,
   "metadata": {},
   "outputs": [],
   "source": [
    "with open('Event_embedding(1channel_1).pkl', 'rb') as f:\n",
    "    datas = pickle.load(f)"
   ]
  },
  {
   "cell_type": "code",
   "execution_count": 91,
   "metadata": {},
   "outputs": [],
   "source": [
    "price = pd.read_csv('^TWII.csv')\n",
    "price['Date'] = price['Date'].apply(lambda x:x.replace('-', ''))\n",
    "price['return1'] = price.shift(-1)['Adj Close'] / price['Adj Close']\n",
    "price['return2'] = price.shift(-2)['Adj Close'] / price['Adj Close']\n",
    "price['return3'] = price.shift(-3)['Adj Close'] / price['Adj Close']\n",
    "# price['return4'] = price.shift(-3)['Adj Close'] / price['Adj Close']\n",
    "# price['return5'] = price.shift(-3)['Adj Close'] / price['Adj Close']\n",
    "\n",
    "price = price.dropna()\n",
    "price['return'] = price.apply(lambda x:max([x['return1'], x['return2'], x['return3']]), axis=1)\n",
    "# price['down'] = price.apply(lambda x:min([x['return1'], x['return2'], x['return3']]), axis=1)\n",
    "price = price.reset_index(drop=True)"
   ]
  },
  {
   "cell_type": "code",
   "execution_count": 92,
   "metadata": {},
   "outputs": [],
   "source": [
    "price['label'] = 0\n",
    "price.loc[price[price['return'] > 1.001].index, 'label'] = 1\n",
    "# price['label'] = 1\n",
    "# price.loc[price[price['return'] < 0.9999].index, 'label'] = 0\n",
    "# price.loc[price[price['return'] >= 1.001].index, 'label'] = 1\n",
    "# price.loc[price[price['return'] <= 0.999].index, 'label'] = -1\n",
    "price = price[price['Date'] <= '20191130']\n",
    "price = price[price['Date'] >= '20140201']\n",
    "# price = price[price['Date'] >= '20061120']\n",
    "# price = price[price['Date'] < '20140101']\n",
    "# price = pd.concat((price[price['Date'] <= '20131120'], price[price['Date'] >= '20140101']))\n",
    "price = price.reset_index(drop=True)"
   ]
  },
  {
   "cell_type": "code",
   "execution_count": 93,
   "metadata": {
    "scrolled": true
   },
   "outputs": [],
   "source": [
    "event = [(k, datas[k]) for k in sorted(datas.keys())]\n",
    "dates = [x[0] for x in event]\n",
    "# event_embedding = [np.array(x[1].cpu()) for x in event]\n",
    "event_embedding = [np.array(x[1]) for x in event]"
   ]
  },
  {
   "cell_type": "code",
   "execution_count": 94,
   "metadata": {},
   "outputs": [
    {
     "name": "stderr",
     "output_type": "stream",
     "text": [
      "100%|██████████| 1399/1399 [00:00<00:00, 3282.90it/s]\n"
     ]
    }
   ],
   "source": [
    "all_data = []\n",
    "for i in tqdm(range(len(price))):\n",
    "    data = {}\n",
    "    if price.loc[i, 'Date'] in dates:\n",
    "        data['date'] = dates.index(price.loc[i, 'Date'])\n",
    "    tmp = int(price.loc[i, 'Date'])\n",
    "    while str(tmp) not in dates:\n",
    "        tmp -= 1\n",
    "    data['date'] = dates.index(str(tmp))\n",
    "    data['label'] = price.loc[i, 'label']\n",
    "    all_data.append(data)"
   ]
  },
  {
   "cell_type": "code",
   "execution_count": 95,
   "metadata": {
    "scrolled": true
   },
   "outputs": [
    {
     "name": "stderr",
     "output_type": "stream",
     "text": [
      "100%|██████████| 1399/1399 [00:00<00:00, 16811.97it/s]\n"
     ]
    }
   ],
   "source": [
    "all_data_x = []\n",
    "all_data_y = []\n",
    "for i in tqdm(all_data):\n",
    "    all_data_x.append(np.array(event_embedding[i['date']-29:i['date']+1]).flatten())\n",
    "    all_data_y.append(i['label'])"
   ]
  },
  {
   "cell_type": "code",
   "execution_count": 96,
   "metadata": {},
   "outputs": [
    {
     "name": "stdout",
     "output_type": "stream",
     "text": [
      "Train:  1134\n",
      "Valid: 126\n",
      "Test:  139\n"
     ]
    }
   ],
   "source": [
    "test_x = all_data_x[-int(len(all_data_x)*0.1):]\n",
    "tmp = all_data_x[:int(len(all_data_x)*0.9)+1]\n",
    "valid_x = tmp[-int(len(tmp)*0.1):]\n",
    "train_x = tmp[:int(len(tmp)*0.9)]\n",
    "test_y = all_data_y[-int(len(all_data_y)*0.1):]\n",
    "tmp = all_data_y[:int(len(all_data_y)*0.9)+1]\n",
    "valid_y = tmp[-int(len(tmp)*0.1):]\n",
    "train_y = tmp[:int(len(tmp)*0.9)]\n",
    "print('Train: ', len(train_x))\n",
    "print('Valid:' , len(valid_x))\n",
    "print('Test: ', len(test_x))"
   ]
  },
  {
   "cell_type": "code",
   "execution_count": 19,
   "metadata": {},
   "outputs": [],
   "source": [
    "# test_x = all_data_x[-int(len(all_data_x)*0.1):]\n",
    "# # tmp = all_data_x[:int(len(all_data_x)*0.9)+1]\n",
    "# valid_x = all_data_x[-int(len(all_data_x)*0.2):-int(len(all_data_x)*0.1)]\n",
    "# train_x = all_data_x[:int(len(all_data_x)*0.8)]\n",
    "# test_y = all_data_y[-int(len(all_data_y)*0.1):]\n",
    "# # tmp = all_data_y[:int(len(all_data_y)*0.9)+1]\n",
    "# valid_y = all_data_y[-int(len(all_data_y)*0.2):-int(len(all_data_y)*0.1)]\n",
    "# train_y = all_data_y[:int(len(all_data_y)*0.8)]\n",
    "# print('Train: ', len(train_x))\n",
    "# print('Valid:' , len(valid_x))\n",
    "# print('Test: ', len(test_x))"
   ]
  },
  {
   "cell_type": "markdown",
   "metadata": {},
   "source": [
    "#### xgboost"
   ]
  },
  {
   "cell_type": "code",
   "execution_count": 97,
   "metadata": {
    "scrolled": true
   },
   "outputs": [],
   "source": [
    "# train = xgb.DMatrix(np.array(train_x), label=train_y)\n",
    "# valid = xgb.DMatrix(np.array(valid_x), label=valid_y)\n",
    "# test = xgb.DMatrix(np.array(test_x), label=test_y)\n",
    "\n",
    "train = xgb.DMatrix(np.array(train_x+valid_x), label=train_y+valid_y)\n",
    "test = xgb.DMatrix(np.array(test_x), label=test_y)"
   ]
  },
  {
   "cell_type": "code",
   "execution_count": 134,
   "metadata": {
    "scrolled": true
   },
   "outputs": [
    {
     "name": "stdout",
     "output_type": "stream",
     "text": [
      "[0]\ttrain-error:0.118254\ttest-error:0.460432\n",
      "[1]\ttrain-error:0.088889\ttest-error:0.431655\n",
      "[2]\ttrain-error:0.065873\ttest-error:0.446043\n",
      "[3]\ttrain-error:0.073016\ttest-error:0.438849\n",
      "[4]\ttrain-error:0.051587\ttest-error:0.417266\n",
      "[5]\ttrain-error:0.044444\ttest-error:0.410072\n",
      "[6]\ttrain-error:0.027778\ttest-error:0.402878\n",
      "[7]\ttrain-error:0.018254\ttest-error:0.388489\n",
      "[8]\ttrain-error:0.018254\ttest-error:0.388489\n",
      "[9]\ttrain-error:0.011111\ttest-error:0.402878\n",
      "[10]\ttrain-error:0.00873\ttest-error:0.402878\n",
      "[11]\ttrain-error:0.006349\ttest-error:0.374101\n",
      "[12]\ttrain-error:0.003968\ttest-error:0.417266\n",
      "[13]\ttrain-error:0.003968\ttest-error:0.402878\n",
      "[14]\ttrain-error:0.003175\ttest-error:0.402878\n",
      "[15]\ttrain-error:0.002381\ttest-error:0.381295\n",
      "[16]\ttrain-error:0.002381\ttest-error:0.381295\n",
      "[17]\ttrain-error:0.002381\ttest-error:0.381295\n",
      "[18]\ttrain-error:0.002381\ttest-error:0.381295\n",
      "[19]\ttrain-error:0.002381\ttest-error:0.374101\n",
      "[20]\ttrain-error:0.002381\ttest-error:0.374101\n",
      "[21]\ttrain-error:0.002381\ttest-error:0.374101\n",
      "[22]\ttrain-error:0.002381\ttest-error:0.374101\n",
      "[23]\ttrain-error:0.002381\ttest-error:0.374101\n",
      "[24]\ttrain-error:0.002381\ttest-error:0.374101\n",
      "[25]\ttrain-error:0.002381\ttest-error:0.381295\n",
      "[26]\ttrain-error:0.002381\ttest-error:0.374101\n",
      "[27]\ttrain-error:0.002381\ttest-error:0.374101\n",
      "[28]\ttrain-error:0.002381\ttest-error:0.381295\n",
      "[29]\ttrain-error:0.002381\ttest-error:0.374101\n",
      "[30]\ttrain-error:0.002381\ttest-error:0.374101\n",
      "[31]\ttrain-error:0.002381\ttest-error:0.381295\n",
      "[32]\ttrain-error:0.002381\ttest-error:0.374101\n",
      "[33]\ttrain-error:0.002381\ttest-error:0.374101\n",
      "[34]\ttrain-error:0.002381\ttest-error:0.366906\n",
      "[35]\ttrain-error:0.002381\ttest-error:0.374101\n",
      "[36]\ttrain-error:0.002381\ttest-error:0.366906\n",
      "[37]\ttrain-error:0.002381\ttest-error:0.359712\n",
      "[38]\ttrain-error:0.002381\ttest-error:0.359712\n",
      "[39]\ttrain-error:0.002381\ttest-error:0.366906\n",
      "[40]\ttrain-error:0.002381\ttest-error:0.374101\n",
      "[41]\ttrain-error:0.002381\ttest-error:0.366906\n",
      "[42]\ttrain-error:0.002381\ttest-error:0.374101\n",
      "[43]\ttrain-error:0.002381\ttest-error:0.366906\n",
      "[44]\ttrain-error:0.002381\ttest-error:0.366906\n",
      "[45]\ttrain-error:0.002381\ttest-error:0.366906\n",
      "[46]\ttrain-error:0.002381\ttest-error:0.366906\n",
      "[47]\ttrain-error:0.002381\ttest-error:0.366906\n",
      "[48]\ttrain-error:0.002381\ttest-error:0.359712\n",
      "[49]\ttrain-error:0.002381\ttest-error:0.359712\n",
      "[50]\ttrain-error:0.002381\ttest-error:0.359712\n",
      "[51]\ttrain-error:0.002381\ttest-error:0.366906\n",
      "[52]\ttrain-error:0.002381\ttest-error:0.366906\n",
      "[53]\ttrain-error:0.002381\ttest-error:0.359712\n",
      "[54]\ttrain-error:0.002381\ttest-error:0.352518\n",
      "[55]\ttrain-error:0.002381\ttest-error:0.352518\n",
      "[56]\ttrain-error:0.002381\ttest-error:0.352518\n",
      "[57]\ttrain-error:0.002381\ttest-error:0.352518\n",
      "[58]\ttrain-error:0.002381\ttest-error:0.352518\n",
      "[59]\ttrain-error:0.002381\ttest-error:0.352518\n",
      "[60]\ttrain-error:0.002381\ttest-error:0.352518\n",
      "[61]\ttrain-error:0.002381\ttest-error:0.352518\n",
      "[62]\ttrain-error:0.002381\ttest-error:0.352518\n",
      "[63]\ttrain-error:0.002381\ttest-error:0.352518\n",
      "[64]\ttrain-error:0.002381\ttest-error:0.352518\n",
      "[65]\ttrain-error:0.002381\ttest-error:0.359712\n",
      "[66]\ttrain-error:0.002381\ttest-error:0.359712\n",
      "[67]\ttrain-error:0.002381\ttest-error:0.359712\n",
      "[68]\ttrain-error:0.002381\ttest-error:0.359712\n",
      "[69]\ttrain-error:0.002381\ttest-error:0.345324\n"
     ]
    }
   ],
   "source": [
    "param = {'objective':'binary:logistic', 'eta':0.1}\n",
    "bst = xgb.train(param, train, 70, [(train, 'train'), (test, 'test')])\n",
    "# bst.save_model('Event_xgb.model')"
   ]
  },
  {
   "cell_type": "code",
   "execution_count": 135,
   "metadata": {},
   "outputs": [],
   "source": [
    "preds = bst.predict(valid)\n",
    "preds_valid = [1 if x >= 0.5 else 0 for x in preds]\n",
    "preds = bst.predict(test)\n",
    "preds_test = [1 if x >= 0.5 else 0 for x in preds]"
   ]
  },
  {
   "cell_type": "code",
   "execution_count": 136,
   "metadata": {
    "scrolled": true
   },
   "outputs": [
    {
     "name": "stdout",
     "output_type": "stream",
     "text": [
      "0.6507936507936508\n",
      "0.6546762589928058\n",
      "0.05599641925098695\n"
     ]
    }
   ],
   "source": [
    "# Event (eta = 0.05, 4)\n",
    "# test (0.1, 70)\n",
    "print(accuracy_score(valid_y, preds_valid))\n",
    "print(accuracy_score(test_y, preds_test))\n",
    "print(matthews_corrcoef(test_y, preds_test))"
   ]
  },
  {
   "cell_type": "code",
   "execution_count": 72,
   "metadata": {
    "scrolled": true
   },
   "outputs": [
    {
     "name": "stdout",
     "output_type": "stream",
     "text": [
      "0.9841269841269841\n",
      "0.6402877697841727\n",
      "0.04612253435704203\n"
     ]
    }
   ],
   "source": [
    "# No event (0.0001, 2)\n",
    "# test (0.01, 50)\n",
    "print(accuracy_score(valid_y, preds_valid))\n",
    "print(accuracy_score(test_y, preds_test))\n",
    "print(matthews_corrcoef(test_y, preds_test))"
   ]
  },
  {
   "cell_type": "code",
   "execution_count": 21,
   "metadata": {
    "scrolled": true
   },
   "outputs": [
    {
     "name": "stdout",
     "output_type": "stream",
     "text": [
      "0.5815602836879432\n",
      "0.0600346204401783\n"
     ]
    }
   ],
   "source": [
    "print(accuracy_score(test_y, preds_test))\n",
    "print(matthews_corrcoef(test_y, preds_test))"
   ]
  },
  {
   "cell_type": "code",
   "execution_count": null,
   "metadata": {},
   "outputs": [],
   "source": []
  }
 ],
 "metadata": {
  "kernelspec": {
   "display_name": "Python 3",
   "language": "python",
   "name": "python3"
  },
  "language_info": {
   "codemirror_mode": {
    "name": "ipython",
    "version": 3
   },
   "file_extension": ".py",
   "mimetype": "text/x-python",
   "name": "python",
   "nbconvert_exporter": "python",
   "pygments_lexer": "ipython3",
   "version": "3.6.8"
  }
 },
 "nbformat": 4,
 "nbformat_minor": 2
}
